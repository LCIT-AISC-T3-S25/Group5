{
 "cells": [
  {
   "cell_type": "code",
   "execution_count": 1,
   "id": "5d3d6957-2089-42be-b9b7-78c01bdc1e6a",
   "metadata": {},
   "outputs": [],
   "source": [
    "# Importing Libraries\n",
    "import pandas as pd\n",
    "import numpy as np\n",
    "import re\n",
    "\n",
    "#Importing library for stemming\n",
    "from nltk.stem import PorterStemmer\n",
    "\n",
    "#Importing library for lemmatizer\n",
    "from nltk.stem import WordNetLemmatizer\n",
    "\n",
    "import nltk\n",
    "from nltk.tokenize import word_tokenize\n",
    "\n",
    "import warnings\n",
    "warnings.filterwarnings('ignore')"
   ]
  },
  {
   "cell_type": "code",
   "execution_count": 2,
   "id": "1ee816b2-80e5-410f-af2e-24cbb586d992",
   "metadata": {},
   "outputs": [
    {
     "name": "stderr",
     "output_type": "stream",
     "text": [
      "[nltk_data] Downloading package punkt to /Users/mukulgarg/nltk_data...\n",
      "[nltk_data]   Package punkt is already up-to-date!\n",
      "[nltk_data] Downloading package punkt_tab to\n",
      "[nltk_data]     /Users/mukulgarg/nltk_data...\n",
      "[nltk_data]   Package punkt_tab is already up-to-date!\n",
      "[nltk_data] Downloading package wordnet to\n",
      "[nltk_data]     /Users/mukulgarg/nltk_data...\n",
      "[nltk_data]   Package wordnet is already up-to-date!\n",
      "[nltk_data] Downloading package omw-1.4 to\n",
      "[nltk_data]     /Users/mukulgarg/nltk_data...\n",
      "[nltk_data]   Package omw-1.4 is already up-to-date!\n"
     ]
    },
    {
     "data": {
      "text/plain": [
       "True"
      ]
     },
     "execution_count": 2,
     "metadata": {},
     "output_type": "execute_result"
    }
   ],
   "source": [
    "nltk.download('punkt')\n",
    "nltk.download('punkt_tab')\n",
    "nltk.download('wordnet')\n",
    "nltk.download('omw-1.4')"
   ]
  },
  {
   "cell_type": "code",
   "execution_count": 3,
   "id": "8b07ad9f-3e90-481f-be95-dca063c15bd1",
   "metadata": {},
   "outputs": [],
   "source": [
    "#Load Dataset File\n",
    "#Replace the dataset file path with your own dataset path\n",
    "dataset = pd.read_csv(\"data.csv\")"
   ]
  },
  {
   "cell_type": "code",
   "execution_count": 4,
   "id": "d084076a-3a9e-47c0-8856-e6fd6de08409",
   "metadata": {},
   "outputs": [
    {
     "data": {
      "text/html": [
       "<div>\n",
       "<style scoped>\n",
       "    .dataframe tbody tr th:only-of-type {\n",
       "        vertical-align: middle;\n",
       "    }\n",
       "\n",
       "    .dataframe tbody tr th {\n",
       "        vertical-align: top;\n",
       "    }\n",
       "\n",
       "    .dataframe thead th {\n",
       "        text-align: right;\n",
       "    }\n",
       "</style>\n",
       "<table border=\"1\" class=\"dataframe\">\n",
       "  <thead>\n",
       "    <tr style=\"text-align: right;\">\n",
       "      <th></th>\n",
       "      <th>Data</th>\n",
       "    </tr>\n",
       "  </thead>\n",
       "  <tbody>\n",
       "    <tr>\n",
       "      <th>0</th>\n",
       "      <td>Watch or listen live weekdays at 8:30am MT at ...</td>\n",
       "    </tr>\n",
       "    <tr>\n",
       "      <th>1</th>\n",
       "      <td>Watch or listen live weekdays at 8:30am MT at ...</td>\n",
       "    </tr>\n",
       "    <tr>\n",
       "      <th>2</th>\n",
       "      <td>Chubby And Hot, Always Stir The Pot!</td>\n",
       "    </tr>\n",
       "    <tr>\n",
       "      <th>3</th>\n",
       "      <td>Chubby And Hot, Always Stir The Pot!</td>\n",
       "    </tr>\n",
       "    <tr>\n",
       "      <th>4</th>\n",
       "      <td>Journalist, publisher of Rebel News — telling ...</td>\n",
       "    </tr>\n",
       "  </tbody>\n",
       "</table>\n",
       "</div>"
      ],
      "text/plain": [
       "                                                Data\n",
       "0  Watch or listen live weekdays at 8:30am MT at ...\n",
       "1  Watch or listen live weekdays at 8:30am MT at ...\n",
       "2               Chubby And Hot, Always Stir The Pot!\n",
       "3               Chubby And Hot, Always Stir The Pot!\n",
       "4  Journalist, publisher of Rebel News — telling ..."
      ]
     },
     "execution_count": 4,
     "metadata": {},
     "output_type": "execute_result"
    }
   ],
   "source": [
    "#printing first 5 rows of data\n",
    "dataset.head(5)"
   ]
  },
  {
   "cell_type": "code",
   "execution_count": 5,
   "id": "1bfffe51-25fe-4f1a-b274-5431f2c26a1d",
   "metadata": {},
   "outputs": [
    {
     "data": {
      "text/plain": [
       "7339"
      ]
     },
     "execution_count": 5,
     "metadata": {},
     "output_type": "execute_result"
    }
   ],
   "source": [
    "len(dataset)"
   ]
  },
  {
   "cell_type": "code",
   "execution_count": 6,
   "id": "b44c140a-c011-4c80-8ba1-1ab6ca4ec9c6",
   "metadata": {
    "scrolled": true
   },
   "outputs": [
    {
     "data": {
      "text/html": [
       "<div>\n",
       "<style scoped>\n",
       "    .dataframe tbody tr th:only-of-type {\n",
       "        vertical-align: middle;\n",
       "    }\n",
       "\n",
       "    .dataframe tbody tr th {\n",
       "        vertical-align: top;\n",
       "    }\n",
       "\n",
       "    .dataframe thead th {\n",
       "        text-align: right;\n",
       "    }\n",
       "</style>\n",
       "<table border=\"1\" class=\"dataframe\">\n",
       "  <thead>\n",
       "    <tr style=\"text-align: right;\">\n",
       "      <th></th>\n",
       "      <th>Data</th>\n",
       "    </tr>\n",
       "  </thead>\n",
       "  <tbody>\n",
       "    <tr>\n",
       "      <th>1</th>\n",
       "      <td>Watch or listen live weekdays at 8:30am MT at ...</td>\n",
       "    </tr>\n",
       "    <tr>\n",
       "      <th>3</th>\n",
       "      <td>Chubby And Hot, Always Stir The Pot!</td>\n",
       "    </tr>\n",
       "    <tr>\n",
       "      <th>7</th>\n",
       "      <td>Albertan. Mom to children &amp; dogs. Wife. Friend...</td>\n",
       "    </tr>\n",
       "    <tr>\n",
       "      <th>8</th>\n",
       "      <td>Albertan. Mom to children &amp; dogs. Wife. Friend...</td>\n",
       "    </tr>\n",
       "    <tr>\n",
       "      <th>9</th>\n",
       "      <td>Albertan. Mom to children &amp; dogs. Wife. Friend...</td>\n",
       "    </tr>\n",
       "    <tr>\n",
       "      <th>11</th>\n",
       "      <td>Former progressive conservative specializing i...</td>\n",
       "    </tr>\n",
       "    <tr>\n",
       "      <th>13</th>\n",
       "      <td>I'm Kuno, a Gov't qualified service dog in Alb...</td>\n",
       "    </tr>\n",
       "    <tr>\n",
       "      <th>14</th>\n",
       "      <td>Albertan. Mom to children &amp; dogs. Wife. Friend...</td>\n",
       "    </tr>\n",
       "    <tr>\n",
       "      <th>15</th>\n",
       "      <td>Albertan. Mom to children &amp; dogs. Wife. Friend...</td>\n",
       "    </tr>\n",
       "    <tr>\n",
       "      <th>16</th>\n",
       "      <td>Albertan. Mom to children &amp; dogs. Wife. Friend...</td>\n",
       "    </tr>\n",
       "  </tbody>\n",
       "</table>\n",
       "</div>"
      ],
      "text/plain": [
       "                                                 Data\n",
       "1   Watch or listen live weekdays at 8:30am MT at ...\n",
       "3                Chubby And Hot, Always Stir The Pot!\n",
       "7   Albertan. Mom to children & dogs. Wife. Friend...\n",
       "8   Albertan. Mom to children & dogs. Wife. Friend...\n",
       "9   Albertan. Mom to children & dogs. Wife. Friend...\n",
       "11  Former progressive conservative specializing i...\n",
       "13  I'm Kuno, a Gov't qualified service dog in Alb...\n",
       "14  Albertan. Mom to children & dogs. Wife. Friend...\n",
       "15  Albertan. Mom to children & dogs. Wife. Friend...\n",
       "16  Albertan. Mom to children & dogs. Wife. Friend..."
      ]
     },
     "execution_count": 6,
     "metadata": {},
     "output_type": "execute_result"
    }
   ],
   "source": [
    "# Checking for duplicate rows\n",
    "dataset[dataset.duplicated()].head(10)"
   ]
  },
  {
   "cell_type": "code",
   "execution_count": 7,
   "id": "a9ca4728-ea5a-49c0-a1bd-d2f590795d41",
   "metadata": {},
   "outputs": [
    {
     "data": {
      "text/plain": [
       "5353"
      ]
     },
     "execution_count": 7,
     "metadata": {},
     "output_type": "execute_result"
    }
   ],
   "source": [
    "# Total number of duplicated rows\n",
    "dataset.duplicated().sum()"
   ]
  },
  {
   "cell_type": "code",
   "execution_count": 8,
   "id": "680a0eff-5983-4ccb-8e3d-93fc1089b3ba",
   "metadata": {},
   "outputs": [],
   "source": [
    "#dropping duplicate rows to reduce computation\n",
    "dataset = dataset.drop_duplicates()"
   ]
  },
  {
   "cell_type": "code",
   "execution_count": 9,
   "id": "d21dfa5c-e72c-4486-b38e-d439321796ea",
   "metadata": {},
   "outputs": [
    {
     "data": {
      "text/plain": [
       "1986"
      ]
     },
     "execution_count": 9,
     "metadata": {},
     "output_type": "execute_result"
    }
   ],
   "source": [
    "len(dataset)"
   ]
  },
  {
   "cell_type": "code",
   "execution_count": 10,
   "id": "1c21536a-7cc6-4571-b076-27391006507b",
   "metadata": {
    "scrolled": true
   },
   "outputs": [],
   "source": [
    "#Joining all the text data into a single string\n",
    "text_data = ' '.join(dataset['Data'].astype(str)).lower()\n",
    "#text_data"
   ]
  },
  {
   "cell_type": "code",
   "execution_count": 11,
   "id": "3492d1d3-86f0-4729-a522-5c697d9c14a0",
   "metadata": {
    "scrolled": true
   },
   "outputs": [],
   "source": [
    "#All text data into a single string\n",
    "#text_data"
   ]
  },
  {
   "cell_type": "code",
   "execution_count": 12,
   "id": "fa63b7a5-85a4-4413-8d6d-2afdb08fd01e",
   "metadata": {},
   "outputs": [],
   "source": [
    "review = re.sub('[^a-zA-Z0-9]',' ',text_data) #Removing non alpha-numeric characters from the text data\n",
    "#review"
   ]
  },
  {
   "cell_type": "code",
   "execution_count": 13,
   "id": "e911a9d6-4429-40eb-9ac8-168c198f5e8f",
   "metadata": {},
   "outputs": [],
   "source": [
    "tokenized_words = word_tokenize(review)"
   ]
  },
  {
   "cell_type": "code",
   "execution_count": 14,
   "id": "7284dc3a-7108-40cf-820e-69458594f73b",
   "metadata": {
    "scrolled": true
   },
   "outputs": [],
   "source": [
    "#print(tokenized_words)"
   ]
  },
  {
   "cell_type": "code",
   "execution_count": 15,
   "id": "a1794a6e-d45f-4404-b53c-25fce1ff60a0",
   "metadata": {},
   "outputs": [
    {
     "data": {
      "text/plain": [
       "32126"
      ]
     },
     "execution_count": 15,
     "metadata": {},
     "output_type": "execute_result"
    }
   ],
   "source": [
    "len(tokenized_words)"
   ]
  },
  {
   "cell_type": "markdown",
   "id": "3ea31d35-4f9a-4cef-bf24-c69d57969993",
   "metadata": {},
   "source": [
    "## Count of unique words/tokens before stemming/Lemmatization"
   ]
  },
  {
   "cell_type": "code",
   "execution_count": 17,
   "id": "222d1f7b-6af8-48a2-9a38-0bd117f08b28",
   "metadata": {},
   "outputs": [],
   "source": [
    "unique_words = set(tokenized_words)"
   ]
  },
  {
   "cell_type": "code",
   "execution_count": 18,
   "id": "04407a5e-a25d-45d2-aa65-c6105ac59c23",
   "metadata": {},
   "outputs": [],
   "source": [
    "unique_word_counts = len(unique_words)"
   ]
  },
  {
   "cell_type": "code",
   "execution_count": 19,
   "id": "51eb2768-7013-4e89-b467-3c392bda076c",
   "metadata": {
    "scrolled": true
   },
   "outputs": [],
   "source": [
    "#print(unique_words)"
   ]
  },
  {
   "cell_type": "code",
   "execution_count": 20,
   "id": "84b20512-f73c-43bb-8884-b30d9d6399e9",
   "metadata": {},
   "outputs": [
    {
     "data": {
      "text/plain": [
       "7893"
      ]
     },
     "execution_count": 20,
     "metadata": {},
     "output_type": "execute_result"
    }
   ],
   "source": [
    "unique_word_counts"
   ]
  },
  {
   "cell_type": "markdown",
   "id": "3b175b19-46eb-481d-af2b-364bc39e216b",
   "metadata": {},
   "source": [
    "# Stemming"
   ]
  },
  {
   "cell_type": "markdown",
   "id": "257aa5d5-d35f-41d6-bc3d-1efdfbbdad2d",
   "metadata": {},
   "source": [
    "## Count of unique words/tokens After stemming"
   ]
  },
  {
   "cell_type": "code",
   "execution_count": 23,
   "id": "a728f407-052f-44ea-995f-27ce32d8c018",
   "metadata": {
    "scrolled": true
   },
   "outputs": [],
   "source": [
    "# Initializing Porter Stemmer\n",
    "stemmer = PorterStemmer()\n",
    "\n",
    "# Applying stemming to each word/token\n",
    "stemmed_words = [stemmer.stem(token) for token in tokenized_words]\n",
    "\n",
    "# Count unique tokens after stemming\n",
    "stemmed_unique_words = set(stemmed_words)\n",
    "stemmed_unique_words_count = len(stemmed_unique_words)"
   ]
  },
  {
   "cell_type": "code",
   "execution_count": 24,
   "id": "a9483de8-bd73-4005-87dd-d8ae80a0d52b",
   "metadata": {},
   "outputs": [
    {
     "data": {
      "text/plain": [
       "6528"
      ]
     },
     "execution_count": 24,
     "metadata": {},
     "output_type": "execute_result"
    }
   ],
   "source": [
    "stemmed_unique_words_count"
   ]
  },
  {
   "cell_type": "code",
   "execution_count": 25,
   "id": "3ccbccc9-dfc7-479b-b7c6-43e4677ee5e2",
   "metadata": {
    "scrolled": true
   },
   "outputs": [],
   "source": [
    "#print(stemmed_unique_words)"
   ]
  },
  {
   "cell_type": "code",
   "execution_count": 26,
   "id": "c36faca6-2334-4bae-9cf4-2d190f4c1b60",
   "metadata": {},
   "outputs": [
    {
     "name": "stdout",
     "output_type": "stream",
     "text": [
      "Count of Unique words before stemming: 7893\n",
      "Count of Unique words after stemming: 6528\n"
     ]
    }
   ],
   "source": [
    "print(\"Count of Unique words before stemming:\",unique_word_counts)\n",
    "print(\"Count of Unique words after stemming:\",stemmed_unique_words_count)"
   ]
  },
  {
   "cell_type": "markdown",
   "id": "ed9b0f7b-baf6-4492-976b-5a6c7030dc5e",
   "metadata": {},
   "source": [
    "## Q-B1: Use porter stemmer to run stemming. Count the number of unique words/tokens before and after stemming\n",
    "\n",
    "## Stemming Result:\n",
    "### As can be seen from above the number of unique words before and after stemming have been reduced from 7893 to 6528."
   ]
  },
  {
   "cell_type": "markdown",
   "id": "490a4c5a-bcd1-45b4-839b-d9105079fc10",
   "metadata": {},
   "source": [
    "# Lemmatization"
   ]
  },
  {
   "cell_type": "markdown",
   "id": "d9a0861e-a60d-4730-8e19-e74020820aff",
   "metadata": {},
   "source": [
    "## Count of unique words/tokens after Lemmatization"
   ]
  },
  {
   "cell_type": "code",
   "execution_count": 30,
   "id": "4bcf46b5-d141-4321-9cfa-f23eca03c028",
   "metadata": {},
   "outputs": [],
   "source": [
    "# Initialize the lemmatizer\n",
    "lemmatizer = WordNetLemmatizer()\n",
    "\n",
    "# Applying lemmatization to each word/token\n",
    "lemma_words = [lemmatizer.lemmatize(token) for token in tokenized_words]\n",
    "\n",
    "# Count unique tokens after lemmatization\n",
    "lemma_unique_words = set(lemma_words)\n",
    "lemma_unique_words_count = len(lemma_unique_words)"
   ]
  },
  {
   "cell_type": "code",
   "execution_count": 31,
   "id": "7c026c98-52a6-4c8b-97d4-6c54c7a9672c",
   "metadata": {
    "scrolled": true
   },
   "outputs": [],
   "source": [
    "#print(lemma_unique_words)"
   ]
  },
  {
   "cell_type": "code",
   "execution_count": 32,
   "id": "3913842b-4748-4ac5-8a29-b3b2d2821d7c",
   "metadata": {},
   "outputs": [
    {
     "data": {
      "text/plain": [
       "7334"
      ]
     },
     "execution_count": 32,
     "metadata": {},
     "output_type": "execute_result"
    }
   ],
   "source": [
    "lemma_unique_words_count"
   ]
  },
  {
   "cell_type": "code",
   "execution_count": 33,
   "id": "8307b330-8a6a-4906-b7a1-98a3dba949f5",
   "metadata": {},
   "outputs": [
    {
     "name": "stdout",
     "output_type": "stream",
     "text": [
      "Count of Unique words before lemmatization: 7893\n",
      "Count of Unique words after lemmatization: 7334\n"
     ]
    }
   ],
   "source": [
    "print(\"Count of Unique words before lemmatization:\",unique_word_counts)\n",
    "print(\"Count of Unique words after lemmatization:\",lemma_unique_words_count)"
   ]
  },
  {
   "cell_type": "markdown",
   "id": "f2bf5217-0c21-4c09-8287-79d38923a7e5",
   "metadata": {},
   "source": [
    "## Q-B2: Perform lemmatization using NLTK lemmatizer . Count the number of unique words/tokens before and after lemmatization?\n",
    "\n",
    "## Lemmatization Result:\n",
    "### As can be seen from above the number of unique words before and after lemmatization have been reduced from 7893 to 7334."
   ]
  },
  {
   "cell_type": "markdown",
   "id": "0b25aeb2-11d1-4695-a1dc-81e678db3efc",
   "metadata": {},
   "source": [
    "## Q-B3: Compare the change in word frequencies from stemming and lemmatization. Which are the top 10 words after stemming/lemmatization?"
   ]
  },
  {
   "cell_type": "code",
   "execution_count": 36,
   "id": "5cb817c8-6c94-40ee-a97d-9cc25cf933dc",
   "metadata": {},
   "outputs": [],
   "source": [
    "from collections import Counter\n",
    "import matplotlib.pyplot as plt"
   ]
  },
  {
   "cell_type": "code",
   "execution_count": 37,
   "id": "06e84df8-00bb-487d-8ef4-f4393d6f7baf",
   "metadata": {},
   "outputs": [],
   "source": [
    "# Count word frequencies\n",
    "stemmed_freq = Counter(stemmed_words)\n",
    "lemmatized_freq = Counter(lemma_words)"
   ]
  },
  {
   "cell_type": "code",
   "execution_count": 38,
   "id": "3eb6df07-91ad-4492-8e7c-c7d6edeb24ed",
   "metadata": {},
   "outputs": [],
   "source": [
    "# Get top 10 most common words\n",
    "top_10_stemmed = stemmed_freq.most_common(10)\n",
    "top_10_lemmatized = lemmatized_freq.most_common(10)"
   ]
  },
  {
   "cell_type": "code",
   "execution_count": 39,
   "id": "c6f9e84b-375a-4087-8b53-c8477e49bc37",
   "metadata": {},
   "outputs": [
    {
     "name": "stdout",
     "output_type": "stream",
     "text": [
      "🔍 Top 10 Words After Stemming:\n",
      "and: 859\n",
      "the: 768\n",
      "of: 677\n",
      "to: 497\n",
      "a: 460\n",
      "in: 417\n",
      "for: 363\n",
      "i: 339\n",
      "my: 300\n",
      "is: 235\n"
     ]
    }
   ],
   "source": [
    "# Display results\n",
    "print(\"🔍 Top 10 Words After Stemming:\")\n",
    "for word, count in top_10_stemmed:\n",
    "    print(f\"{word}: {count}\")"
   ]
  },
  {
   "cell_type": "code",
   "execution_count": 40,
   "id": "2f114d61-64a7-4877-952c-c776c6c1b778",
   "metadata": {},
   "outputs": [
    {
     "name": "stdout",
     "output_type": "stream",
     "text": [
      "\n",
      "🔍 Top 10 Words After Lemmatization:\n",
      "and: 859\n",
      "the: 768\n",
      "of: 677\n",
      "a: 513\n",
      "to: 497\n",
      "in: 417\n",
      "for: 363\n",
      "i: 339\n",
      "my: 300\n",
      "is: 235\n"
     ]
    }
   ],
   "source": [
    "print(\"\\n🔍 Top 10 Words After Lemmatization:\")\n",
    "for word, count in top_10_lemmatized:\n",
    "    print(f\"{word}: {count}\")"
   ]
  },
  {
   "cell_type": "markdown",
   "id": "53309447-3349-4b15-add5-b8d4190203bb",
   "metadata": {},
   "source": [
    "**Optional Just For Knowledge**"
   ]
  },
  {
   "cell_type": "code",
   "execution_count": 42,
   "id": "a3ffee6e-2033-47ee-828e-8547f949c904",
   "metadata": {},
   "outputs": [],
   "source": [
    "# Optional: Plot the comparison\n",
    "stemmed_df = pd.DataFrame(top_10_stemmed, columns=['Word', 'Frequency']).set_index('Word')\n",
    "lemmatized_df = pd.DataFrame(top_10_lemmatized, columns=['Word', 'Frequency']).set_index('Word')"
   ]
  },
  {
   "cell_type": "code",
   "execution_count": 43,
   "id": "c4b4e0a1-4056-4be1-b26c-65019f0fb2fd",
   "metadata": {},
   "outputs": [
    {
     "data": {
      "image/png": "[encoded data removed]",
      "text/plain": [
       "<Figure size 1400x500 with 2 Axes>"
      ]
     },
     "metadata": {},
     "output_type": "display_data"
    }
   ],
   "source": [
    "fig, axes = plt.subplots(1, 2, figsize=(14, 5))\n",
    "stemmed_df.plot.bar(ax=axes[0], title=\"Top 10 Stemmed Words\", legend=False)\n",
    "lemmatized_df.plot.bar(ax=axes[1], title=\"Top 10 Lemmatized Words\", legend=False)\n",
    "plt.tight_layout()\n",
    "plt.show()"
   ]
  },
  {
   "cell_type": "markdown",
   "id": "a2c002ca-b5d3-4434-b7cc-d749fad87f84",
   "metadata": {},
   "source": [
    "## Q-B4: What is the change in word frequencies if normalization is done after stop word removal?"
   ]
  },
  {
   "cell_type": "code",
   "execution_count": 45,
   "id": "d6b3debb-1738-4ef9-99c0-4ce8c4146479",
   "metadata": {},
   "outputs": [
    {
     "name": "stderr",
     "output_type": "stream",
     "text": [
      "[nltk_data] Downloading package stopwords to\n",
      "[nltk_data]     /Users/mukulgarg/nltk_data...\n",
      "[nltk_data]   Package stopwords is already up-to-date!\n"
     ]
    },
    {
     "data": {
      "text/plain": [
       "True"
      ]
     },
     "execution_count": 45,
     "metadata": {},
     "output_type": "execute_result"
    }
   ],
   "source": [
    "#Importing Libraries\n",
    "from nltk.corpus import stopwords\n",
    "nltk.download('stopwords')"
   ]
  },
  {
   "cell_type": "code",
   "execution_count": 46,
   "id": "41670afc-58a0-4af7-9f90-8038d549110c",
   "metadata": {},
   "outputs": [],
   "source": [
    "sentences = nltk.sent_tokenize(text_data)"
   ]
  },
  {
   "cell_type": "code",
   "execution_count": 47,
   "id": "91f55e72-f733-43b2-aa87-1b8a228296d6",
   "metadata": {
    "scrolled": true
   },
   "outputs": [],
   "source": [
    "#sentences"
   ]
  },
  {
   "cell_type": "code",
   "execution_count": 48,
   "id": "bc77052f-4381-4415-8505-3d17a200daa5",
   "metadata": {},
   "outputs": [],
   "source": [
    "# Removing special characters and lowercasing\n",
    "import re\n",
    "corpus=[]\n",
    "for i in range(len(sentences)):\n",
    "    review = re.sub('[^a-zA-Z0-9]',' ',sentences[i]) #substitutes values that are not a-z, A-Z, 0-9 with blank spaces\n",
    "    review = re.sub(' +', ' ', review).strip() # removing extra blank spaces\n",
    "    review = review.lower() #lowercasing\n",
    "    corpus.append(review) "
   ]
  },
  {
   "cell_type": "code",
   "execution_count": 49,
   "id": "afd8e5f1-b7cc-46a9-b0b0-5a92c465e9a6",
   "metadata": {
    "scrolled": true
   },
   "outputs": [],
   "source": [
    "#corpus"
   ]
  },
  {
   "cell_type": "code",
   "execution_count": 50,
   "id": "a16d3e9b-fb05-4dec-8d05-178b67af0382",
   "metadata": {},
   "outputs": [
    {
     "data": {
      "text/plain": [
       "array(['yourself', 'too', 'through', 'didn', 'as', 'll', 'you', 'down',\n",
       "       \"should've\", \"isn't\", 'once', 've', 'the', 'hasn', 's', 'that',\n",
       "       'nor', 'under', 'ma', 're', 'up', 'very', 'whom', 'won', 'only',\n",
       "       'such', 'wouldn', 'theirs', 'above', 'had', \"it'll\", 'she',\n",
       "       'doing', 'i', 'again', 'on', 'below', 'he', \"needn't\", 'm',\n",
       "       'mightn', \"that'll\", 'then', \"she'd\", \"you've\", 'her', 'those',\n",
       "       'yours', 'be', 'other', 'or', 'from', 'here', \"we're\", 'ain',\n",
       "       'shan', 'they', \"it'd\", 'wasn', \"doesn't\", 'at', 'mustn', \"wasn't\",\n",
       "       'been', 'its', 'who', \"he'd\", 'has', \"you'd\", 'which', 'him',\n",
       "       'any', \"they'd\", \"they've\", \"i've\", 'haven', 'myself', 'some',\n",
       "       'couldn', 'ourselves', 'most', 'while', \"hadn't\", 'needn',\n",
       "       'yourselves', 'we', \"haven't\", 'isn', 'a', 'but', \"we'd\",\n",
       "       'himself', 'it', 'in', 'were', 'by', 'after', \"shan't\", \"won't\",\n",
       "       \"we'll\", 'what', 'during', 'further', 'these', \"i'd\", 'an', 'when',\n",
       "       'why', \"mustn't\", 'before', 'will', 'about', 'hers', \"you'll\",\n",
       "       'own', 'each', 'off', \"hasn't\", \"he'll\", 'have', 'out', 'shouldn',\n",
       "       'weren', 'don', 'are', 'my', 'was', \"weren't\", \"he's\", 'how',\n",
       "       \"you're\", \"don't\", 'itself', \"we've\", 'themselves', 'more', 'this',\n",
       "       'their', \"wouldn't\", \"she's\", 'so', 'aren', 'd', \"they're\", 'can',\n",
       "       'both', 'herself', 'me', 'few', 'your', 'because', 'o', 'our',\n",
       "       'there', 'until', \"couldn't\", 'hadn', 'just', 'into', 'do', 't',\n",
       "       'where', 'now', 'to', 'doesn', \"they'll\", 'not', \"she'll\",\n",
       "       'against', 'being', 'does', 'if', 'between', 'should', 'for',\n",
       "       'over', 'and', 'his', 'am', 'is', \"mightn't\", 'having', 'no',\n",
       "       'with', 'of', 'y', 'them', \"i'll\", \"it's\", 'than', \"didn't\", \"i'm\",\n",
       "       \"aren't\", 'did', 'all', 'ours', 'same', \"shouldn't\"], dtype='<U10')"
      ]
     },
     "execution_count": 50,
     "metadata": {},
     "output_type": "execute_result"
    }
   ],
   "source": [
    "stop_words = set(stopwords.words('english'))\n",
    "np.array(list(stop_words))"
   ]
  },
  {
   "cell_type": "markdown",
   "id": "6dda6412-fc87-4796-9fd3-954224a0049c",
   "metadata": {},
   "source": [
    "## First removing stopwords and then applying stemming for normalization"
   ]
  },
  {
   "cell_type": "code",
   "execution_count": 52,
   "id": "3fdf2411-8428-424a-9c91-7567a8f058d1",
   "metadata": {},
   "outputs": [],
   "source": [
    "tokens_a = []\n",
    "for doc in corpus:\n",
    "    words = word_tokenize(doc)\n",
    "    filtered = [w for w in words if w not in stop_words]\n",
    "    # stemming after stopwords removal\n",
    "    stemmed = [stemmer.stem(w) for w in filtered]\n",
    "    tokens_a.extend(stemmed)"
   ]
  },
  {
   "cell_type": "code",
   "execution_count": 53,
   "id": "8f042be5-6873-449e-8807-f83f24ceea6d",
   "metadata": {},
   "outputs": [
    {
     "data": {
      "text/plain": [
       "22821"
      ]
     },
     "execution_count": 53,
     "metadata": {},
     "output_type": "execute_result"
    }
   ],
   "source": [
    "len(tokens_a)"
   ]
  },
  {
   "cell_type": "markdown",
   "id": "5c8e4c29-7450-45ff-996f-188cedb90715",
   "metadata": {},
   "source": [
    "## First removing stopwords and then applying lemmatization for normalization"
   ]
  },
  {
   "cell_type": "code",
   "execution_count": 55,
   "id": "a415b146-5cea-4b90-809a-baf4ec5dc3a4",
   "metadata": {},
   "outputs": [],
   "source": [
    "tokens_b = []\n",
    "for doc in corpus:\n",
    "    words = word_tokenize(doc)\n",
    "    filtered = [w for w in words if w not in stop_words]\n",
    "    # lemmatization after stopwords removal\n",
    "    lemmatized = [lemmatizer.lemmatize(w) for w in filtered]\n",
    "    tokens_b.extend(lemmatized)"
   ]
  },
  {
   "cell_type": "code",
   "execution_count": 56,
   "id": "11bad9e9-5f70-41e1-89b1-582664c47c2b",
   "metadata": {},
   "outputs": [
    {
     "data": {
      "text/plain": [
       "22821"
      ]
     },
     "execution_count": 56,
     "metadata": {},
     "output_type": "execute_result"
    }
   ],
   "source": [
    "len(tokens_b)"
   ]
  },
  {
   "cell_type": "code",
   "execution_count": 57,
   "id": "80bd6e09-232c-434a-a589-c0654ddd19e8",
   "metadata": {},
   "outputs": [],
   "source": [
    "#Removing Stopwords after stemming\n",
    "tokens_c = []\n",
    "for doc in corpus:\n",
    "    words = word_tokenize(doc)\n",
    "     # stemming before stopwords removal\n",
    "    stemmed = [stemmer.stem(w) for w in words]\n",
    "    filtered = [w for w in stemmed if w not in stop_words]\n",
    "    tokens_c.extend(filtered)"
   ]
  },
  {
   "cell_type": "code",
   "execution_count": 58,
   "id": "8cdc2f45-afab-4940-81c2-960493ee06b4",
   "metadata": {},
   "outputs": [
    {
     "data": {
      "text/plain": [
       "22956"
      ]
     },
     "execution_count": 58,
     "metadata": {},
     "output_type": "execute_result"
    }
   ],
   "source": [
    "len(tokens_c)"
   ]
  },
  {
   "cell_type": "code",
   "execution_count": 59,
   "id": "c5bc863f-9916-463e-a23c-ae0ba3125f01",
   "metadata": {},
   "outputs": [],
   "source": [
    "#Removing Stopwords after lemmatization\n",
    "tokens_d = []\n",
    "for doc in corpus:\n",
    "    words = word_tokenize(doc)\n",
    "     # lemmatization before stopwords removal\n",
    "    lemmatize = [lemmatizer.lemmatize(w) for w in words]\n",
    "    filtered = [w for w in lemmatize if w not in stop_words]\n",
    "    tokens_d.extend(filtered)"
   ]
  },
  {
   "cell_type": "code",
   "execution_count": 60,
   "id": "c2a2ac21-372f-49a1-8e2e-e2a361e49ace",
   "metadata": {},
   "outputs": [
    {
     "data": {
      "text/plain": [
       "22852"
      ]
     },
     "execution_count": 60,
     "metadata": {},
     "output_type": "execute_result"
    }
   ],
   "source": [
    "len(tokens_d)"
   ]
  },
  {
   "cell_type": "code",
   "execution_count": 61,
   "id": "85c58f4f-a94d-4dc7-94b5-50ced41bd54d",
   "metadata": {},
   "outputs": [
    {
     "name": "stdout",
     "output_type": "stream",
     "text": [
      "Frequencies with Stopword removal After Stemming:\n",
      "[('alberta', 191), ('news', 134), ('love', 125), ('canada', 123), ('commun', 118), ('ca', 104), ('canadian', 102), ('polit', 100), ('live', 98), ('travel', 98)]\n",
      "\n",
      "Frequencies with Stopword removal Before Stemming:\n",
      "[('alberta', 191), ('news', 134), ('love', 125), ('canada', 123), ('commun', 118), ('ca', 104), ('canadian', 102), ('polit', 100), ('live', 98), ('travel', 98)]\n"
     ]
    }
   ],
   "source": [
    "print(\"Frequencies with Stopword removal After Stemming:\")\n",
    "print(Counter(tokens_c).most_common(10))\n",
    "\n",
    "print(\"\\nFrequencies with Stopword removal Before Stemming:\")\n",
    "print(Counter(tokens_a).most_common(10))"
   ]
  },
  {
   "cell_type": "code",
   "execution_count": 62,
   "id": "8852d1ea-4184-474a-96d1-b1526f8b75e3",
   "metadata": {},
   "outputs": [
    {
     "name": "stdout",
     "output_type": "stream",
     "text": [
      "\n",
      "Frequencies with Stopword removal After Lemmatization:\n",
      "[('alberta', 191), ('news', 134), ('canada', 123), ('ca', 104), ('love', 104), ('canadian', 102), ('life', 96), ('community', 92), ('com', 91), ('calgary', 91)]\n",
      "\n",
      "Frequencies with Stopword removal Before Lemmatization:\n",
      "[('alberta', 191), ('news', 134), ('canada', 123), ('ca', 104), ('love', 104), ('canadian', 102), ('life', 96), ('community', 92), ('com', 91), ('calgary', 91)]\n"
     ]
    }
   ],
   "source": [
    "print(\"\\nFrequencies with Stopword removal After Lemmatization:\")\n",
    "print(Counter(tokens_b).most_common(10))\n",
    "\n",
    "print(\"\\nFrequencies with Stopword removal Before Lemmatization:\")\n",
    "print(Counter(tokens_b).most_common(10))"
   ]
  },
  {
   "cell_type": "markdown",
   "id": "51f7dfe2-4a0a-46c4-9f84-69db33bce7d7",
   "metadata": {},
   "source": [
    "### Frequencies remains unchanged maybe because normalization has no impact on stop words. Thus, the order for stemming/lemmatization and stop words removal does not matter."
   ]
  },
  {
   "cell_type": "code",
   "execution_count": null,
   "id": "f6578f75-cc6d-49d5-b2c3-b94f1b3641cf",
   "metadata": {},
   "outputs": [],
   "source": []
  }
 ],
 "metadata": {
  "kernelspec": {
   "display_name": "Python 3 (ipykernel)",
   "language": "python",
   "name": "python3"
  },
  "language_info": {
   "codemirror_mode": {
    "name": "ipython",
    "version": 3
   },
   "file_extension": ".py",
   "mimetype": "text/x-python",
   "name": "python",
   "nbconvert_exporter": "python",
   "pygments_lexer": "ipython3",
   "version": "3.12.3"
  }
 },
 "nbformat": 4,
 "nbformat_minor": 5
}
