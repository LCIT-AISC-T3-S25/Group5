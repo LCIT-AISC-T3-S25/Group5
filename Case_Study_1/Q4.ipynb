{
 "cells": [
  {
   "cell_type": "code",
   "execution_count": 1,
   "id": "6d926f28-acdc-44e2-a3e6-1de8900e7498",
   "metadata": {},
   "outputs": [],
   "source": [
    "import pandas as pd"
   ]
  },
  {
   "cell_type": "code",
   "execution_count": 2,
   "id": "88460923-d8c5-4f4e-9631-d760faec9abd",
   "metadata": {},
   "outputs": [],
   "source": [
    "df = pd.read_csv(\"Data.csv\") "
   ]
  },
  {
   "cell_type": "code",
   "execution_count": 3,
   "id": "9fbbba6d-2fe0-4e0f-b93c-eb6c1a5080ed",
   "metadata": {},
   "outputs": [],
   "source": [
    "df = df.drop_duplicates()"
   ]
  },
  {
   "cell_type": "code",
   "execution_count": 4,
   "id": "1b7f2f8f-7ead-4045-b65d-063a4f3eec5c",
   "metadata": {},
   "outputs": [],
   "source": [
    "pattern = r'(?:\\:\\)|:D|;\\)|:P)'"
   ]
  },
  {
   "cell_type": "code",
   "execution_count": 7,
   "id": "2afc3338-d238-474c-932e-5cc0d03e697c",
   "metadata": {},
   "outputs": [],
   "source": [
    "count = df['Data'].str.contains(pattern, regex=True, na=False).sum()"
   ]
  },
  {
   "cell_type": "code",
   "execution_count": 8,
   "id": "a6db02d9-3f82-41cc-b6cc-beb307915c20",
   "metadata": {},
   "outputs": [
    {
     "name": "stdout",
     "output_type": "stream",
     "text": [
      "Number of tweets with emojis :), :D, ;), :P (after removing duplicates): 4\n"
     ]
    }
   ],
   "source": [
    "print(\"Number of tweets with emojis :), :D, ;), :P (after removing duplicates):\", count)"
   ]
  }
 ],
 "metadata": {
  "kernelspec": {
   "display_name": "Python 3 (ipykernel)",
   "language": "python",
   "name": "python3"
  },
  "language_info": {
   "codemirror_mode": {
    "name": "ipython",
    "version": 3
   },
   "file_extension": ".py",
   "mimetype": "text/x-python",
   "name": "python",
   "nbconvert_exporter": "python",
   "pygments_lexer": "ipython3",
   "version": "3.11.7"
  }
 },
 "nbformat": 4,
 "nbformat_minor": 5
}
