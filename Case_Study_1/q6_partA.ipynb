{
 "cells": [
  {
   "cell_type": "markdown",
   "id": "36bb86f9",
   "metadata": {},
   "source": [
    "Importing required libraries"
   ]
  },
  {
   "cell_type": "code",
   "execution_count": 1,
   "id": "fc925b0b",
   "metadata": {},
   "outputs": [],
   "source": [
    "import pandas as pd\n",
    "import re "
   ]
  },
  {
   "cell_type": "code",
   "execution_count": 3,
   "id": "75fccad4",
   "metadata": {},
   "outputs": [],
   "source": [
    "df = pd.read_csv('data.csv')"
   ]
  },
  {
   "cell_type": "code",
   "execution_count": 12,
   "id": "db405d01",
   "metadata": {},
   "outputs": [
    {
     "name": "stdout",
     "output_type": "stream",
     "text": [
      "Total number of IP addresses: 0\n",
      "List of IP addresses: []\n"
     ]
    }
   ],
   "source": [
    "def extract_ip_addresses(text):\n",
    "    # Regular expression to match IP addresses\n",
    "    pattern = r'\\b(?:(?:25[0-5]|2[0-4][0-9]|1?[0-9]{1,2})\\.){3}(?:25[0-5]|2[0-4][0-9]|1?[0-9]{1,2})\\b'\n",
    "    return re.findall(pattern, text)\n",
    "\n",
    "ip_lists = df['Data'].apply(extract_ip_addresses)\n",
    "\n",
    "all_ips = [ip for sublist in ip_lists for ip in sublist]\n",
    "\n",
    "# Show total number of IP and the list of IPs if available\n",
    "print(\"Total number of IP addresses:\", len(all_ips))\n",
    "print(\"List of IP addresses:\", all_ips)"
   ]
  },
  {
   "cell_type": "code",
   "execution_count": null,
   "id": "7529480b",
   "metadata": {},
   "outputs": [],
   "source": []
  }
 ],
 "metadata": {
  "kernelspec": {
   "display_name": "base",
   "language": "python",
   "name": "python3"
  },
  "language_info": {
   "codemirror_mode": {
    "name": "ipython",
    "version": 3
   },
   "file_extension": ".py",
   "mimetype": "text/x-python",
   "name": "python",
   "nbconvert_exporter": "python",
   "pygments_lexer": "ipython3",
   "version": "3.12.3"
  }
 },
 "nbformat": 4,
 "nbformat_minor": 5
}
