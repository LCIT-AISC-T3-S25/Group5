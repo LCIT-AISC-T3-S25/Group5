{
 "cells": [
  {
   "cell_type": "code",
   "execution_count": 1,
   "id": "8277bc7e-8ba5-48fb-b161-c57f52ba6225",
   "metadata": {},
   "outputs": [],
   "source": [
    "import numpy as np\n",
    "import pandas as pd\n",
    "import seaborn as sns\n",
    "import matplotlib.pyplot as plt\n",
    "import re"
   ]
  },
  {
   "cell_type": "code",
   "execution_count": 2,
   "id": "caca5ebb-0c01-4aa0-bc76-f1f925503b0b",
   "metadata": {},
   "outputs": [
    {
     "data": {
      "text/html": [
       "<div>\n",
       "<style scoped>\n",
       "    .dataframe tbody tr th:only-of-type {\n",
       "        vertical-align: middle;\n",
       "    }\n",
       "\n",
       "    .dataframe tbody tr th {\n",
       "        vertical-align: top;\n",
       "    }\n",
       "\n",
       "    .dataframe thead th {\n",
       "        text-align: right;\n",
       "    }\n",
       "</style>\n",
       "<table border=\"1\" class=\"dataframe\">\n",
       "  <thead>\n",
       "    <tr style=\"text-align: right;\">\n",
       "      <th></th>\n",
       "      <th>Data</th>\n",
       "    </tr>\n",
       "  </thead>\n",
       "  <tbody>\n",
       "    <tr>\n",
       "      <th>0</th>\n",
       "      <td>Watch or listen live weekdays at 8:30am MT at ...</td>\n",
       "    </tr>\n",
       "    <tr>\n",
       "      <th>1</th>\n",
       "      <td>Watch or listen live weekdays at 8:30am MT at ...</td>\n",
       "    </tr>\n",
       "    <tr>\n",
       "      <th>2</th>\n",
       "      <td>Chubby And Hot, Always Stir The Pot!</td>\n",
       "    </tr>\n",
       "    <tr>\n",
       "      <th>3</th>\n",
       "      <td>Chubby And Hot, Always Stir The Pot!</td>\n",
       "    </tr>\n",
       "    <tr>\n",
       "      <th>4</th>\n",
       "      <td>Journalist, publisher of Rebel News — telling ...</td>\n",
       "    </tr>\n",
       "  </tbody>\n",
       "</table>\n",
       "</div>"
      ],
      "text/plain": [
       "                                                Data\n",
       "0  Watch or listen live weekdays at 8:30am MT at ...\n",
       "1  Watch or listen live weekdays at 8:30am MT at ...\n",
       "2               Chubby And Hot, Always Stir The Pot!\n",
       "3               Chubby And Hot, Always Stir The Pot!\n",
       "4  Journalist, publisher of Rebel News — telling ..."
      ]
     },
     "execution_count": 2,
     "metadata": {},
     "output_type": "execute_result"
    }
   ],
   "source": [
    "df = pd.read_csv(\"Data.csv\", encoding='utf-8')\n",
    "df.head()"
   ]
  },
  {
   "cell_type": "markdown",
   "id": "9531fc92-1f43-40d1-b44f-27f00b4a9701",
   "metadata": {},
   "source": [
    "## Q A1 - How many records have a date that is expressed without using alphabets?"
   ]
  },
  {
   "cell_type": "code",
   "execution_count": 4,
   "id": "74248776-9f56-471a-8781-185083c179a3",
   "metadata": {
    "scrolled": true
   },
   "outputs": [],
   "source": [
    "def print_complete_dataframe(df):\n",
    "    for index, row in df.iterrows():\n",
    "        print(f\"Row {index}:\")\n",
    "        print(row['Data'])\n",
    "        print(\"\\n\" + \"-\" * 100 + \"\\n\")"
   ]
  },
  {
   "cell_type": "code",
   "execution_count": 5,
   "id": "df48a3c2-a3b7-424e-bc0b-8244a10ec7be",
   "metadata": {},
   "outputs": [
    {
     "data": {
      "text/plain": [
       "(7339, 1)"
      ]
     },
     "execution_count": 5,
     "metadata": {},
     "output_type": "execute_result"
    }
   ],
   "source": [
    "df.shape"
   ]
  },
  {
   "cell_type": "code",
   "execution_count": 6,
   "id": "42bc5128-45b3-462c-aa4f-331a95b0a92b",
   "metadata": {},
   "outputs": [
    {
     "name": "stdout",
     "output_type": "stream",
     "text": [
      "<class 'pandas.core.frame.DataFrame'>\n",
      "RangeIndex: 7339 entries, 0 to 7338\n",
      "Data columns (total 1 columns):\n",
      " #   Column  Non-Null Count  Dtype \n",
      "---  ------  --------------  ----- \n",
      " 0   Data    7339 non-null   object\n",
      "dtypes: object(1)\n",
      "memory usage: 57.5+ KB\n"
     ]
    }
   ],
   "source": [
    "df.info()"
   ]
  },
  {
   "cell_type": "code",
   "execution_count": 7,
   "id": "eca26fd5-0900-4fbb-bb1c-afd7a1013d48",
   "metadata": {},
   "outputs": [
    {
     "data": {
      "text/plain": [
       "Data    object\n",
       "dtype: object"
      ]
     },
     "execution_count": 7,
     "metadata": {},
     "output_type": "execute_result"
    }
   ],
   "source": [
    "df.dtypes"
   ]
  },
  {
   "cell_type": "code",
   "execution_count": 8,
   "id": "f3406a16-c197-4611-aee4-8430ed16c256",
   "metadata": {},
   "outputs": [],
   "source": [
    "pd.set_option('display.max_colwidth', None)\n",
    "pd.set_option('display.max_rows', None)\n",
    "pd.set_option('display.width', None)"
   ]
  },
  {
   "cell_type": "code",
   "execution_count": 9,
   "id": "691d7f79-d74a-4987-82d5-38a71558b509",
   "metadata": {},
   "outputs": [],
   "source": [
    "date_pattern = r'\\b\\d{1,4}[-\\/\\.]\\d{1,2}[-\\/\\.]\\d{1,4}\\b|\\b\\d{1,2}[-\\/\\.]\\d{1,2}[-\\/\\.]\\d{1,4}\\b'"
   ]
  },
  {
   "cell_type": "code",
   "execution_count": 10,
   "id": "260f6de1-a217-4dac-baf0-2d364264c13d",
   "metadata": {},
   "outputs": [],
   "source": [
    "matches = df[df['Data'].str.contains(date_pattern, na=False, regex=True)]"
   ]
  },
  {
   "cell_type": "code",
   "execution_count": 11,
   "id": "1631e560-defb-44a4-aaa1-c1eec35deae4",
   "metadata": {},
   "outputs": [],
   "source": [
    "# Filter rows where 'Data' contains a date\n",
    "date_rows = df[df['Data'].str.contains(date_pattern, regex=True, na=False)]"
   ]
  },
  {
   "cell_type": "code",
   "execution_count": 12,
   "id": "5c520de2-25f0-445c-902f-c0d6f2ac318e",
   "metadata": {},
   "outputs": [
    {
     "name": "stdout",
     "output_type": "stream",
     "text": [
      "                                                                                                              Data\n",
      "3393  Account is not monitored 24/7. Questions: call 780-743-7000. Emergencies: call 9-1-1 rmwb.ca/en/mayor-counc…\n",
      "4046  Account is not monitored 24/7. Questions: call 780-743-7000. Emergencies: call 9-1-1 rmwb.ca/en/mayor-counc…\n",
      "5536  Account is not monitored 24/7. Questions: call 780-743-7000. Emergencies: call 9-1-1 rmwb.ca/en/mayor-counc…\n",
      "6855  Account is not monitored 24/7. Questions: call 780-743-7000. Emergencies: call 9-1-1 rmwb.ca/en/mayor-counc…\n"
     ]
    }
   ],
   "source": [
    "print(date_rows)"
   ]
  },
  {
   "cell_type": "markdown",
   "id": "d947d428-f05e-45be-846c-bbc2befa206f",
   "metadata": {},
   "source": [
    "### Its including rows consisting of other numeric values like '9-1-1', '24/7' and phone numbers."
   ]
  },
  {
   "cell_type": "code",
   "execution_count": 13,
   "id": "913184ad-6900-4c93-a957-4f13600aaf03",
   "metadata": {},
   "outputs": [],
   "source": [
    "# Exclude rows with alphabets and known false positives (non-capturing group used)\n",
    "exclude_pattern = r'\\b(?:24/7|9-1-1|1-877|1-800|8:|am|pm)\\b'"
   ]
  },
  {
   "cell_type": "code",
   "execution_count": 14,
   "id": "3d702147-fc6d-4632-b300-fc81aec47814",
   "metadata": {},
   "outputs": [],
   "source": [
    "# Apply filters\n",
    "mask = (df['Data'].str.contains(date_pattern, regex=True) &~df['Data'].str.contains(r'[a-zA-Z]', regex=True) &\n",
    "    ~df['Data'].str.contains(exclude_pattern, case=False, regex=True))"
   ]
  },
  {
   "cell_type": "code",
   "execution_count": 15,
   "id": "44420536-2fd9-450e-be3f-08f8236999f5",
   "metadata": {},
   "outputs": [],
   "source": [
    "# Filter rows\n",
    "result = df[mask]"
   ]
  },
  {
   "cell_type": "code",
   "execution_count": 16,
   "id": "4d2226bf-b46e-46f1-aa1f-3f90dbdc33da",
   "metadata": {},
   "outputs": [
    {
     "name": "stdout",
     "output_type": "stream",
     "text": [
      "Number of rows with valid numeric dates: 0\n",
      "Empty DataFrame\n",
      "Columns: [Data]\n",
      "Index: []\n"
     ]
    }
   ],
   "source": [
    "# Output\n",
    "print(f\"Number of rows with valid numeric dates: {len(result)}\")\n",
    "print(result)"
   ]
  },
  {
   "cell_type": "code",
   "execution_count": null,
   "id": "4dcfbde8-7d69-467d-a31e-af4c1af469d3",
   "metadata": {},
   "outputs": [],
   "source": []
  }
 ],
 "metadata": {
  "kernelspec": {
   "display_name": "Python 3 (ipykernel)",
   "language": "python",
   "name": "python3"
  },
  "language_info": {
   "codemirror_mode": {
    "name": "ipython",
    "version": 3
   },
   "file_extension": ".py",
   "mimetype": "text/x-python",
   "name": "python",
   "nbconvert_exporter": "python",
   "pygments_lexer": "ipython3",
   "version": "3.12.4"
  }
 },
 "nbformat": 4,
 "nbformat_minor": 5
}
