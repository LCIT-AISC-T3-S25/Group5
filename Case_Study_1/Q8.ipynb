{
 "cells": [
  {
   "cell_type": "code",
   "execution_count": 1,
   "id": "920e467a-05fb-4fbd-8e57-6feca2025309",
   "metadata": {},
   "outputs": [],
   "source": [
    "import pandas as pd\n",
    "import re"
   ]
  },
  {
   "cell_type": "code",
   "execution_count": 2,
   "id": "4ad729cf-5b9f-49da-8de6-7386d7d62c8e",
   "metadata": {},
   "outputs": [],
   "source": [
    "# Load the CSV file\n",
    "df = pd.read_csv(\"Data.csv\")  # Adjust path if necessary"
   ]
  },
  {
   "cell_type": "code",
   "execution_count": 3,
   "id": "03006535-ea7e-4580-8db9-9b4b48dc04c8",
   "metadata": {},
   "outputs": [],
   "source": [
    "# Function to count hashtags using regex\n",
    "def count_hashtags(text):\n",
    "    if pd.isnull(text):\n",
    "        return 0\n",
    "    return len(re.findall(r\"#\\w+\", text))"
   ]
  },
  {
   "cell_type": "code",
   "execution_count": 4,
   "id": "7f595951-d368-442d-bbad-bfb0fa8d885a",
   "metadata": {},
   "outputs": [],
   "source": [
    "# Apply the function to the Data column and sum the results\n",
    "total_hashtags = df['Data'].apply(count_hashtags).sum()"
   ]
  },
  {
   "cell_type": "code",
   "execution_count": 5,
   "id": "4c66b007-260c-4d81-b1f6-83bb98c966f7",
   "metadata": {},
   "outputs": [
    {
     "name": "stdout",
     "output_type": "stream",
     "text": [
      "Total number of hashtags: 2924\n"
     ]
    }
   ],
   "source": [
    "# Display the total number of hashtags\n",
    "print(\"Total number of hashtags:\", total_hashtags)"
   ]
  },
  {
   "cell_type": "code",
   "execution_count": null,
   "id": "09ba0ce2-91b7-4f14-a512-39603b095ded",
   "metadata": {},
   "outputs": [],
   "source": []
  }
 ],
 "metadata": {
  "kernelspec": {
   "display_name": "Python 3 (ipykernel)",
   "language": "python",
   "name": "python3"
  },
  "language_info": {
   "codemirror_mode": {
    "name": "ipython",
    "version": 3
   },
   "file_extension": ".py",
   "mimetype": "text/x-python",
   "name": "python",
   "nbconvert_exporter": "python",
   "pygments_lexer": "ipython3",
   "version": "3.11.7"
  }
 },
 "nbformat": 4,
 "nbformat_minor": 5
}
