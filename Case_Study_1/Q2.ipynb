{
 "cells": [
  {
   "cell_type": "code",
   "execution_count": 7,
   "id": "c8fb07f9-54ac-4a7a-9d0d-e296fc1b481c",
   "metadata": {},
   "outputs": [],
   "source": [
    "import pandas as pd\n",
    "import re"
   ]
  },
  {
   "cell_type": "code",
   "execution_count": 8,
   "id": "0628cf2d-91ee-41b6-98f2-af3f572154ad",
   "metadata": {},
   "outputs": [],
   "source": [
    "df = pd.read_csv(\"Data.csv\")"
   ]
  },
  {
   "cell_type": "code",
   "execution_count": 9,
   "id": "1b390ce9-b063-4c3f-a642-6ae6e802072d",
   "metadata": {},
   "outputs": [
    {
     "data": {
      "text/html": [
       "<div>\n",
       "<style scoped>\n",
       "    .dataframe tbody tr th:only-of-type {\n",
       "        vertical-align: middle;\n",
       "    }\n",
       "\n",
       "    .dataframe tbody tr th {\n",
       "        vertical-align: top;\n",
       "    }\n",
       "\n",
       "    .dataframe thead th {\n",
       "        text-align: right;\n",
       "    }\n",
       "</style>\n",
       "<table border=\"1\" class=\"dataframe\">\n",
       "  <thead>\n",
       "    <tr style=\"text-align: right;\">\n",
       "      <th></th>\n",
       "      <th>Data</th>\n",
       "    </tr>\n",
       "  </thead>\n",
       "  <tbody>\n",
       "    <tr>\n",
       "      <th>0</th>\n",
       "      <td>Watch or listen live weekdays at 8:30am MT at ...</td>\n",
       "    </tr>\n",
       "    <tr>\n",
       "      <th>1</th>\n",
       "      <td>Watch or listen live weekdays at 8:30am MT at ...</td>\n",
       "    </tr>\n",
       "    <tr>\n",
       "      <th>2</th>\n",
       "      <td>Chubby And Hot, Always Stir The Pot!</td>\n",
       "    </tr>\n",
       "    <tr>\n",
       "      <th>3</th>\n",
       "      <td>Chubby And Hot, Always Stir The Pot!</td>\n",
       "    </tr>\n",
       "    <tr>\n",
       "      <th>4</th>\n",
       "      <td>Journalist, publisher of Rebel News — telling ...</td>\n",
       "    </tr>\n",
       "  </tbody>\n",
       "</table>\n",
       "</div>"
      ],
      "text/plain": [
       "                                                Data\n",
       "0  Watch or listen live weekdays at 8:30am MT at ...\n",
       "1  Watch or listen live weekdays at 8:30am MT at ...\n",
       "2               Chubby And Hot, Always Stir The Pot!\n",
       "3               Chubby And Hot, Always Stir The Pot!\n",
       "4  Journalist, publisher of Rebel News — telling ..."
      ]
     },
     "execution_count": 9,
     "metadata": {},
     "output_type": "execute_result"
    }
   ],
   "source": [
    "df.head()"
   ]
  },
  {
   "cell_type": "code",
   "execution_count": 10,
   "id": "f6cd3928-ac4b-4c84-819f-fc301fc85f0b",
   "metadata": {},
   "outputs": [],
   "source": [
    "df_no_duplicates = df.drop_duplicates()"
   ]
  },
  {
   "cell_type": "code",
   "execution_count": 11,
   "id": "d6ba90ea-e0b5-45f3-a87b-a2890d4cddf7",
   "metadata": {},
   "outputs": [],
   "source": [
    "df_no_duplicates.to_csv(\"Data_no_duplicates.csv\", index=False)"
   ]
  },
  {
   "cell_type": "code",
   "execution_count": 12,
   "id": "1bebf1cd-2639-4c6d-994b-822adf295c56",
   "metadata": {},
   "outputs": [
    {
     "name": "stdout",
     "output_type": "stream",
     "text": [
      "Duplicate rows removed. New file saved as 'Data_no_duplicates.csv'\n"
     ]
    }
   ],
   "source": [
    "print(\"Duplicate rows removed. New file saved as 'Data_no_duplicates.csv'\")"
   ]
  },
  {
   "cell_type": "code",
   "execution_count": 13,
   "id": "82752b08-cf79-4f8c-b5bb-52cacf6cac2d",
   "metadata": {},
   "outputs": [],
   "source": [
    "df=pd.read_csv(\"Data_no_duplicates.csv\")"
   ]
  },
  {
   "cell_type": "code",
   "execution_count": 16,
   "id": "1b531af4-fe23-4b35-93dd-a7f2213e8c7f",
   "metadata": {},
   "outputs": [],
   "source": [
    "pattern = r'\\bw[a-zA-Z]+\\b'"
   ]
  },
  {
   "cell_type": "code",
   "execution_count": 17,
   "id": "945adcea-72f4-461f-ae18-6d8c955e30c0",
   "metadata": {},
   "outputs": [],
   "source": [
    "count = df['Data'].str.contains(pattern, regex=True, na=False).sum()"
   ]
  },
  {
   "cell_type": "code",
   "execution_count": 18,
   "id": "03bea393-a086-4260-b554-a23b37e8d287",
   "metadata": {},
   "outputs": [
    {
     "name": "stdout",
     "output_type": "stream",
     "text": [
      "Number of rows with a word starting with lowercase 'w' (excluding alphanumerics): 631\n"
     ]
    }
   ],
   "source": [
    "print(\"Number of rows with a word starting with lowercase 'w' (excluding alphanumerics):\", count)"
   ]
  }
 ],
 "metadata": {
  "kernelspec": {
   "display_name": "Python 3 (ipykernel)",
   "language": "python",
   "name": "python3"
  },
  "language_info": {
   "codemirror_mode": {
    "name": "ipython",
    "version": 3
   },
   "file_extension": ".py",
   "mimetype": "text/x-python",
   "name": "python",
   "nbconvert_exporter": "python",
   "pygments_lexer": "ipython3",
   "version": "3.11.7"
  }
 },
 "nbformat": 4,
 "nbformat_minor": 5
}
