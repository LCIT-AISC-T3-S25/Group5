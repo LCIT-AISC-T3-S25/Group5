{
 "cells": [
  {
   "cell_type": "markdown",
   "id": "fd31520d",
   "metadata": {},
   "source": [
    "#### Data Preprocessing"
   ]
  },
  {
   "cell_type": "code",
   "execution_count": null,
   "id": "a7862de0",
   "metadata": {},
   "outputs": [
    {
     "name": "stderr",
     "output_type": "stream",
     "text": [
      "[nltk_data] Downloading package punkt to\n",
      "[nltk_data]     C:\\Users\\yugah\\AppData\\Roaming\\nltk_data...\n",
      "[nltk_data]   Package punkt is already up-to-date!\n"
     ]
    }
   ],
   "source": [
    "# importing necessary libraries\n",
    "import pandas as pd\n",
    "import numpy as np\n",
    "import re\n",
    "import nltk\n",
    "import gensim.downloader as api\n",
    "import matplotlib.pyplot as plt\n",
    "import seaborn as sns\n",
    "import emoji\n",
    "from sklearn.model_selection import train_test_split, StratifiedKFold\n",
    "from sklearn.metrics import confusion_matrix, classification_report, roc_auc_score, accuracy_score, f1_score\n",
    "from collections import Counter\n",
    "import shap\n",
    "import warnings\n",
    "\n",
    "warnings.filterwarnings(\"ignore\")\n",
    "nltk.download(\"punkt\")\n",
    "\n",
    "# Global parameters\n",
    "MAX_LEN = 50               # Max sequence length for tweets\n",
    "EMBED_DIM = 300            # Word2Vec Skip-gram embedding dimension\n",
    "SEED = 42                  # For reproducibility\n",
    "\n",
    "np.random.seed(SEED)"
   ]
  },
  {
   "cell_type": "code",
   "execution_count": 6,
   "id": "2582f866",
   "metadata": {},
   "outputs": [
    {
     "name": "stdout",
     "output_type": "stream",
     "text": [
      "Raw dataset shape: (451332, 2)\n",
      "Sample data:\n",
      "                                               Tweet Sentiment\n",
      "0  @_angelica_toy Happy Anniversary!!!....The Day...  Mild_Pos\n",
      "1  @McfarlaneGlenda Happy Anniversary!!!....The D...  Mild_Pos\n",
      "2  @thevivafrei @JustinTrudeau Happy Anniversary!...  Mild_Pos\n",
      "3  @NChartierET Happy Anniversary!!!....The Day t...  Mild_Pos\n",
      "4  @tabithapeters05 Happy Anniversary!!!....The D...  Mild_Pos\n",
      "\n",
      "Label distribution after mapping:\n",
      "Sentiment\n",
      "Positive    297704\n",
      "Neutral      77016\n",
      "Negative     76612\n",
      "Name: count, dtype: int64\n"
     ]
    }
   ],
   "source": [
    "# Load Dataset and Consolidate Labels\n",
    "\n",
    "# Load dataset\n",
    "df = pd.read_csv(\"Sentiment_Data.csv\", encoding='latin1')\n",
    "\n",
    "# Preview\n",
    "print(\"Raw dataset shape:\", df.shape)\n",
    "print(\"Sample data:\")\n",
    "print(df.head())\n",
    "\n",
    "# Consolidate sentiment labels into 3 classes\n",
    "label_map = {\n",
    "    'Mild_Pos': 'Positive',\n",
    "    'Strong_Pos': 'Positive',\n",
    "    'Mild_Neg': 'Negative',\n",
    "    'Strong_Neg': 'Negative',\n",
    "    'Neutral': 'Neutral'\n",
    "}\n",
    "\n",
    "# Apply mapping\n",
    "df['Sentiment'] = df['Sentiment'].map(label_map)\n",
    "\n",
    "# Drop rows with any unknown/NaN labels (just in case)\n",
    "df = df.dropna(subset=['Sentiment'])\n",
    "\n",
    "# Show updated distribution\n",
    "print(\"\\nLabel distribution after mapping:\")\n",
    "print(df['Sentiment'].value_counts())\n"
   ]
  },
  {
   "cell_type": "code",
   "execution_count": 7,
   "id": "7645b829",
   "metadata": {},
   "outputs": [
    {
     "name": "stdout",
     "output_type": "stream",
     "text": [
      "Removed 52 duplicate tweets.\n",
      "\n",
      "Sample cleaned tweets:\n",
      "                                               Tweet  \\\n",
      "0  @_angelica_toy Happy Anniversary!!!....The Day...   \n",
      "1  @McfarlaneGlenda Happy Anniversary!!!....The D...   \n",
      "2  @thevivafrei @JustinTrudeau Happy Anniversary!...   \n",
      "3  @NChartierET Happy Anniversary!!!....The Day t...   \n",
      "4  @tabithapeters05 Happy Anniversary!!!....The D...   \n",
      "\n",
      "                                         Clean_Tweet  \n",
      "0  <USER> happy anniversarythe day the freedom di...  \n",
      "1  <USER> happy anniversarythe day the freedom di...  \n",
      "2  <USER> <USER> happy anniversarythe day the fre...  \n",
      "3  <USER> happy anniversarythe day the freedom di...  \n",
      "4  <USER> happy anniversarythe day the freedom di...  \n"
     ]
    }
   ],
   "source": [
    "# Data Cleaning\n",
    "\n",
    "\n",
    "# 1. Slang and abbreviation dictionary\n",
    "slang_dict = {\n",
    "    \"u\": \"you\",\n",
    "    \"ur\": \"your\",\n",
    "    \"idk\": \"i do not know\",\n",
    "    \"brb\": \"be right back\",\n",
    "    \"btw\": \"by the way\",\n",
    "    \"omg\": \"oh my god\",\n",
    "    \"lmao\": \"laughing\",\n",
    "    \"smh\": \"shaking my head\",\n",
    "    \"wanna\": \"want to\",\n",
    "    \"gonna\": \"going to\",\n",
    "    \"gotta\": \"got to\",\n",
    "    \"ikr\": \"i know right\",\n",
    "    \"thx\": \"thanks\",\n",
    "    \"np\": \"no problem\",\n",
    "    \"imo\": \"in my opinion\",\n",
    "    \"dm\": \"direct message\",\n",
    "    \"wtf\": \"what the heck\",\n",
    "    \"tbh\": \"to be honest\"\n",
    "}\n",
    "\n",
    "# 2. Negation pattern handling\n",
    "negation_patterns = [\n",
    "    (r\"\\b(not|no|never|n't)\\s+(\\w+)\", r\"\\1_\\2\")  # e.g., \"not good\" → \"not_good\"\n",
    "]\n",
    "\n",
    "# 3. Regex patterns dictionary\n",
    "regex_patterns = {\n",
    "    'URL': r'https?://\\S+|www\\.\\S+',\n",
    "    'MENTION': r'@\\w+',\n",
    "    'SPECIAL_CHARS': r'[^a-zA-Z\\s#<>]',  # Allow hashtags, <USER>\n",
    "    'NUMBERS': r'\\d+',\n",
    "    'EXTRA_SPACES': r'\\s+'\n",
    "}\n",
    "\n",
    "# 4. Cleaning function\n",
    "def clean_tweet_advanced(text):\n",
    "    # Convert to string and lowercase\n",
    "    text = str(text).lower()\n",
    "\n",
    "    # Convert emojis to text\n",
    "    text = emoji.demojize(text, delimiters=(\" \", \" \"))\n",
    "\n",
    "    # Replace slang and abbreviations\n",
    "    for slang, full in slang_dict.items():\n",
    "        pattern = r'\\b' + re.escape(slang) + r'\\b'\n",
    "        text = re.sub(pattern, full, text)\n",
    "\n",
    "    # Normalize sarcasm like \"FreeDUMB\" to \"freedom\"\n",
    "    text = re.sub(r'\\b(freedumb)\\b', 'freedom', text)\n",
    "\n",
    "    # Replace mentions with <USER>\n",
    "    text = re.sub(regex_patterns['MENTION'], '<USER>', text)\n",
    "\n",
    "    # Remove URLs\n",
    "    text = re.sub(regex_patterns['URL'], '', text)\n",
    "\n",
    "    # Remove numbers\n",
    "    text = re.sub(regex_patterns['NUMBERS'], '', text)\n",
    "\n",
    "    # Handle negations\n",
    "    for pattern, replacement in negation_patterns:\n",
    "        text = re.sub(pattern, replacement, text)\n",
    "\n",
    "    # Remove unwanted special characters (keep hashtags, <USER>)\n",
    "    text = re.sub(regex_patterns['SPECIAL_CHARS'], '', text)\n",
    "\n",
    "    # Normalize whitespace\n",
    "    text = re.sub(regex_patterns['EXTRA_SPACES'], ' ', text).strip()\n",
    "\n",
    "    return text\n",
    "\n",
    "# 5. Deduplicate original tweets\n",
    "before = df.shape[0]\n",
    "df = df.drop_duplicates(subset=[\"Tweet\"])\n",
    "after = df.shape[0]\n",
    "print(f\"Removed {before - after} duplicate tweets.\")\n",
    "\n",
    "# 6. Apply cleaning function to create Clean_Tweet column\n",
    "df['Clean_Tweet'] = df['Tweet'].apply(clean_tweet_advanced)\n",
    "\n",
    "# 7. Preview\n",
    "print(\"\\nSample cleaned tweets:\")\n",
    "print(df[['Tweet', 'Clean_Tweet']].head(5))\n"
   ]
  },
  {
   "cell_type": "code",
   "execution_count": 10,
   "id": "c500a992",
   "metadata": {},
   "outputs": [
    {
     "name": "stdout",
     "output_type": "stream",
     "text": [
      "Class distribution BEFORE undersampling:\n",
      "Positive: 254630 (62.37%)\n",
      "Neutral: 77008 (18.86%)\n",
      "Negative: 76608 (18.77%)\n"
     ]
    },
    {
     "data": {
      "image/png": "[encoded data removed]",
      "text/plain": [
       "<Figure size 600x400 with 1 Axes>"
      ]
     },
     "metadata": {},
     "output_type": "display_data"
    },
    {
     "name": "stdout",
     "output_type": "stream",
     "text": [
      "\n",
      "Majority class 'Positive' exceeds 60%. Applying proportional undersampling...\n",
      "\n",
      "Class distribution AFTER proper undersampling:\n",
      "Positive: 230423 (60.0%)\n",
      "Neutral: 77008 (20.05%)\n",
      "Negative: 76608 (19.95%)\n"
     ]
    },
    {
     "data": {
      "image/png": "[encoded data removed]",
      "text/plain": [
       "<Figure size 600x400 with 1 Axes>"
      ]
     },
     "metadata": {},
     "output_type": "display_data"
    }
   ],
   "source": [
    "# Class distribution\n",
    "\n",
    "from collections import Counter\n",
    "import seaborn as sns\n",
    "import matplotlib.pyplot as plt\n",
    "\n",
    "# Step 1: Calculate class stats\n",
    "label_counts = df['Sentiment'].value_counts()\n",
    "label_percentages = round(100 * label_counts / label_counts.sum(), 2)\n",
    "\n",
    "print(\"Class distribution BEFORE undersampling:\")\n",
    "for label in label_counts.index:\n",
    "    print(f\"{label}: {label_counts[label]} ({label_percentages[label]}%)\")\n",
    "\n",
    "# Plot pre-undersampling distribution\n",
    "plt.figure(figsize=(6,4))\n",
    "sns.barplot(x=label_counts.index, y=label_counts.values, palette=\"viridis\")\n",
    "plt.title(\"Sentiment Distribution (Pre-Split)\")\n",
    "plt.xlabel(\"Sentiment\")\n",
    "plt.ylabel(\"Tweet Count\")\n",
    "plt.show()\n",
    "\n",
    "# Step 2: Undersample if any class > 60%\n",
    "total = label_counts.sum()\n",
    "label_fractions = label_counts / total\n",
    "\n",
    "major_class = label_fractions.idxmax()\n",
    "if label_fractions[major_class] > 0.60:\n",
    "    print(f\"\\nMajority class '{major_class}' exceeds 60%. Applying proportional undersampling...\")\n",
    "\n",
    "    # Target max 60% of total = 0.6 * total after undersampling\n",
    "    minority_df = df[df['Sentiment'] != major_class]\n",
    "    num_minority = len(minority_df)\n",
    "\n",
    "    # Solve: majority_count + minority_count = new_total\n",
    "    #        majority_count = 0.6 * new_total\n",
    "    # ➜ majority_count = 0.6 * (majority_count + num_minority)\n",
    "    # ➜ majority_count = (0.6 * num_minority) / 0.4\n",
    "    target_majority = int((0.6 * num_minority) / 0.4)\n",
    "\n",
    "    # Sample and combine\n",
    "    majority_df = df[df['Sentiment'] == major_class].sample(n=target_majority, random_state=SEED)\n",
    "    df = pd.concat([majority_df, minority_df]).sample(frac=1, random_state=SEED).reset_index(drop=True)\n",
    "\n",
    "    # Recalculate\n",
    "    label_counts = df['Sentiment'].value_counts()\n",
    "    label_percentages = round(100 * label_counts / label_counts.sum(), 2)\n",
    "\n",
    "    print(\"\\nClass distribution AFTER proper undersampling:\")\n",
    "    for label in label_counts.index:\n",
    "        print(f\"{label}: {label_counts[label]} ({label_percentages[label]}%)\")\n",
    "\n",
    "    # Plot post-undersampling\n",
    "    plt.figure(figsize=(6,4))\n",
    "    sns.barplot(x=label_counts.index, y=label_counts.values, palette=\"rocket\")\n",
    "    plt.title(\"Sentiment Distribution (After Undersampling)\")\n",
    "    plt.xlabel(\"Sentiment\")\n",
    "    plt.ylabel(\"Tweet Count\")\n",
    "    plt.show()\n",
    "else:\n",
    "    print(\"\\nNo undersampling needed. Class proportions acceptable.\")\n"
   ]
  },
  {
   "cell_type": "code",
   "execution_count": 11,
   "id": "d21045a0",
   "metadata": {},
   "outputs": [
    {
     "name": "stdout",
     "output_type": "stream",
     "text": [
      "Final dataset sizes:\n",
      "Train set:      261146 rows\n",
      "Validation set: 65287 rows\n",
      "Test set:       57606 rows\n",
      "\n",
      "Class distribution in each split:\n",
      "Train:\n",
      " Sentiment\n",
      "Positive    0.600\n",
      "Neutral     0.201\n",
      "Negative    0.199\n",
      "Name: proportion, dtype: float64\n",
      "Validation:\n",
      " Sentiment\n",
      "Positive    0.600\n",
      "Neutral     0.201\n",
      "Negative    0.199\n",
      "Name: proportion, dtype: float64\n",
      "Test:\n",
      " Sentiment\n",
      "Positive    0.600\n",
      "Neutral     0.201\n",
      "Negative    0.199\n",
      "Name: proportion, dtype: float64\n"
     ]
    }
   ],
   "source": [
    "# Stratified Train/Validation/Test Split\n",
    "\n",
    "from sklearn.model_selection import train_test_split\n",
    "\n",
    "# Step 1: First, split into 85% train+val and 15% test\n",
    "train_val_df, test_df = train_test_split(\n",
    "    df,\n",
    "    test_size=0.15,\n",
    "    stratify=df['Sentiment'],\n",
    "    random_state=SEED\n",
    ")\n",
    "\n",
    "# Step 2: Split train_val into train (80%) and val (20%)\n",
    "train_df, val_df = train_test_split(\n",
    "    train_val_df,\n",
    "    test_size=0.20,\n",
    "    stratify=train_val_df['Sentiment'],\n",
    "    random_state=SEED\n",
    ")\n",
    "\n",
    "# Final sizes\n",
    "print(\"Final dataset sizes:\")\n",
    "print(f\"Train set:      {len(train_df)} rows\")\n",
    "print(f\"Validation set: {len(val_df)} rows\")\n",
    "print(f\"Test set:       {len(test_df)} rows\")\n",
    "\n",
    "# Final distribution check\n",
    "print(\"\\nClass distribution in each split:\")\n",
    "print(\"Train:\\n\", train_df['Sentiment'].value_counts(normalize=True).round(3))\n",
    "print(\"Validation:\\n\", val_df['Sentiment'].value_counts(normalize=True).round(3))\n",
    "print(\"Test:\\n\", test_df['Sentiment'].value_counts(normalize=True).round(3))\n"
   ]
  },
  {
   "cell_type": "markdown",
   "id": "05c73064",
   "metadata": {},
   "source": [
    "#### Exporting the split data"
   ]
  },
  {
   "cell_type": "code",
   "execution_count": 12,
   "id": "963ca4a2",
   "metadata": {},
   "outputs": [
    {
     "name": "stdout",
     "output_type": "stream",
     "text": [
      "✅ Train, validation, and test datasets saved successfully!\n",
      "Files:\n",
      "- train_cleaned.csv\n",
      "- val_cleaned.csv\n",
      "- test_cleaned.csv\n"
     ]
    }
   ],
   "source": [
    "# Save Cleaned and Split Datasets\n",
    "\n",
    "# Save to CSV for downstream processing (e.g., embedding, modeling)\n",
    "train_df.to_csv(\"train_cleaned.csv\", index=False)\n",
    "val_df.to_csv(\"val_cleaned.csv\", index=False)\n",
    "test_df.to_csv(\"test_cleaned.csv\", index=False)\n",
    "\n",
    "print(\"✅ Train, validation, and test datasets saved successfully!\")\n",
    "print(\"Files:\")\n",
    "print(\"- train_cleaned.csv\")\n",
    "print(\"- val_cleaned.csv\")\n",
    "print(\"- test_cleaned.csv\")\n"
   ]
  },
  {
   "cell_type": "code",
   "execution_count": null,
   "id": "c1c71836",
   "metadata": {},
   "outputs": [],
   "source": []
  }
 ],
 "metadata": {
  "kernelspec": {
   "display_name": "Python 3 (ipykernel)",
   "language": "python",
   "name": "python3"
  },
  "language_info": {
   "codemirror_mode": {
    "name": "ipython",
    "version": 3
   },
   "file_extension": ".py",
   "mimetype": "text/x-python",
   "name": "python",
   "nbconvert_exporter": "python",
   "pygments_lexer": "ipython3",
   "version": "3.12.7"
  }
 },
 "nbformat": 4,
 "nbformat_minor": 5
}
