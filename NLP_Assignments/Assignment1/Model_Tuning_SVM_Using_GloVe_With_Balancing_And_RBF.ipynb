{
 "cells": [
  {
   "cell_type": "markdown",
   "id": "f1916b14",
   "metadata": {
    "id": "f1916b14"
   },
   "source": [
    "### Import necessary libraries"
   ]
  },
  {
   "cell_type": "code",
   "execution_count": 2,
   "id": "934f4dbe-b195-4408-8e4c-c62a3332dc8f",
   "metadata": {
    "colab": {
     "base_uri": "https://localhost:8080/"
    },
    "id": "934f4dbe-b195-4408-8e4c-c62a3332dc8f",
    "outputId": "addddce9-cbbe-4ae9-b701-08dba613d435"
   },
   "outputs": [
    {
     "name": "stdout",
     "output_type": "stream",
     "text": [
      "Requirement already satisfied: emoji in /opt/anaconda3/lib/python3.12/site-packages (2.14.1)\n",
      "Requirement already satisfied: contractions in /opt/anaconda3/lib/python3.12/site-packages (0.1.73)\n",
      "Requirement already satisfied: textsearch>=0.0.21 in /opt/anaconda3/lib/python3.12/site-packages (from contractions) (0.0.24)\n",
      "Requirement already satisfied: anyascii in /opt/anaconda3/lib/python3.12/site-packages (from textsearch>=0.0.21->contractions) (0.3.2)\n",
      "Requirement already satisfied: pyahocorasick in /opt/anaconda3/lib/python3.12/site-packages (from textsearch>=0.0.21->contractions) (2.1.0)\n"
     ]
    }
   ],
   "source": [
    "!pip install emoji\n",
    "!pip install contractions"
   ]
  },
  {
   "cell_type": "code",
   "execution_count": 3,
   "id": "9a4ae752",
   "metadata": {
    "id": "9a4ae752"
   },
   "outputs": [],
   "source": [
    "import re\n",
    "import contractions\n",
    "import pandas as pd\n",
    "import numpy as np\n",
    "import re\n",
    "import nltk\n",
    "import emoji\n",
    "from nltk.tokenize import word_tokenize\n",
    "from nltk.corpus import stopwords\n",
    "from sklearn.model_selection import train_test_split\n",
    "from sklearn.preprocessing import LabelEncoder\n",
    "import matplotlib.pyplot as plt\n",
    "import seaborn as sns\n",
    "import os\n",
    "import json\n",
    "from nltk.stem import WordNetLemmatizer\n",
    "import warnings\n",
    "warnings.filterwarnings('ignore')"
   ]
  },
  {
   "cell_type": "code",
   "execution_count": 4,
   "id": "2a2ecf3e",
   "metadata": {
    "id": "2a2ecf3e"
   },
   "outputs": [],
   "source": [
    "# Download NLTK data\n",
    "nltk.download('punkt', quiet=True)\n",
    "nltk.download('stopwords', quiet=True)\n",
    "nltk.download('wordnet', quiet=True)\n",
    "nltk.download('omw-1.4', quiet=True)\n",
    "\n",
    "# Initialize stop words and lemmatizer\n",
    "stop_words = set(stopwords.words('english'))\n",
    "# Negations to keep\n",
    "negations = {\"no\", \"not\", \"nor\", \"cannot\", \"can't\", \"don't\", \"won't\", \"doesn't\", \"isn't\", \"wouldn't\",\n",
    "             \"aren't\",\"hadn't\",\"needn't\",\"shouldn't\",\"haven't\", \"weren't\", \"mustn't\", \"didn't\", \"couldn't\", \"hasn't\", \"wasn't\", \"shan't\"}\n",
    "\n",
    "# Remove negations from stop_words set\n",
    "stop_words = stop_words.difference(negations)\n",
    "\n",
    "lemmatizer = WordNetLemmatizer()\n"
   ]
  },
  {
   "cell_type": "markdown",
   "id": "baa9c5e1",
   "metadata": {
    "id": "baa9c5e1"
   },
   "source": [
    "### Load and Explore Data"
   ]
  },
  {
   "cell_type": "code",
   "execution_count": 6,
   "id": "C7bI_frg9GpK",
   "metadata": {
    "colab": {
     "base_uri": "https://localhost:8080/",
     "height": 356
    },
    "id": "C7bI_frg9GpK",
    "outputId": "36d3fe8e-844d-44df-d118-b8790538de6a"
   },
   "outputs": [],
   "source": [
    "# from google.colab import drive\n",
    "# drive.mount('/content/drive')\n",
    "\n",
    "# file_path = '/content/drive/My Drive/Colab_Notebooks/processed_tweets.csv'\n",
    "# # Load data\n",
    "# try:\n",
    "#     df = pd.read_csv(file_path, encoding='utf-8')\n",
    "#     print(f\"Loaded data (UTF-8). Shape: {df.shape}\")\n",
    "# except UnicodeDecodeError:\n",
    "#     df = pd.read_csv(file_path, encoding='ISO-8859-1')\n",
    "#     print(f\"Loaded data (ISO-8859-1). Shape: {df.shape}\")\n",
    "# except Exception as e:\n",
    "#     print(f\"Error loading data: {e}\")\n",
    "#     df = None\n",
    "\n",
    "\n",
    "# df.head()"
   ]
  },
  {
   "cell_type": "code",
   "execution_count": 7,
   "id": "5e9fa311",
   "metadata": {
    "id": "5e9fa311"
   },
   "outputs": [
    {
     "name": "stdout",
     "output_type": "stream",
     "text": [
      "Loaded data (ISO-8859-1). Shape: (451332, 2)\n",
      "\n",
      "==================================================\n",
      "DATA EXPLORATION\n",
      "==================================================\n",
      "Shape: (451332, 2)\n",
      "Columns: ['Tweet', 'Sentiment']\n",
      "Missing values:\n",
      "Tweet        1\n",
      "Sentiment    0\n",
      "dtype: int64\n",
      "\n",
      "Sentiment distribution:\n",
      "Sentiment\n",
      "Strong_Pos    233700\n",
      "Neutral        77016\n",
      "Mild_Pos       64004\n",
      "Strong_Neg     42556\n",
      "Mild_Neg       34056\n",
      "Name: count, dtype: int64\n"
     ]
    },
    {
     "data": {
      "image/png": "[encoded data removed]",
      "text/plain": [
       "<Figure size 800x500 with 1 Axes>"
      ]
     },
     "metadata": {},
     "output_type": "display_data"
    }
   ],
   "source": [
    "# Load data\n",
    "try:\n",
    "    df = pd.read_csv('Sentiment_Data.csv', encoding='utf-8')\n",
    "    print(f\"Loaded data (UTF-8). Shape: {df.shape}\")\n",
    "except UnicodeDecodeError:\n",
    "    df = pd.read_csv('Sentiment_Data.csv', encoding='ISO-8859-1')\n",
    "    print(f\"Loaded data (ISO-8859-1). Shape: {df.shape}\")\n",
    "except Exception as e:\n",
    "    print(f\"Error loading data: {e}\")\n",
    "    df = None\n",
    "\n",
    "if df is not None:\n",
    "    # Explore data\n",
    "    print(\"\\n\" + \"=\"*50 + \"\\nDATA EXPLORATION\\n\" + \"=\"*50)\n",
    "    print(f\"Shape: {df.shape}\\nColumns: {df.columns.tolist()}\")\n",
    "    print(f\"Missing values:\\n{df.isnull().sum()}\")\n",
    "\n",
    "    # Sentiment distribution\n",
    "    sentiment_counts = df['Sentiment'].value_counts()\n",
    "    print(f\"\\nSentiment distribution:\\n{sentiment_counts}\")\n",
    "    plt.figure(figsize=(8, 5))\n",
    "    sentiment_counts.plot(kind='bar')\n",
    "    plt.title('Sentiment Distribution')\n",
    "    plt.xlabel('Sentiment')\n",
    "    plt.ylabel('Count')\n",
    "    plt.xticks(rotation=45)\n",
    "    plt.tight_layout()\n",
    "    plt.show()"
   ]
  },
  {
   "cell_type": "code",
   "execution_count": 8,
   "id": "c3ced690-3b51-4047-a853-cba449550e34",
   "metadata": {
    "id": "c3ced690-3b51-4047-a853-cba449550e34"
   },
   "outputs": [
    {
     "data": {
      "text/html": [
       "<div>\n",
       "<style scoped>\n",
       "    .dataframe tbody tr th:only-of-type {\n",
       "        vertical-align: middle;\n",
       "    }\n",
       "\n",
       "    .dataframe tbody tr th {\n",
       "        vertical-align: top;\n",
       "    }\n",
       "\n",
       "    .dataframe thead th {\n",
       "        text-align: right;\n",
       "    }\n",
       "</style>\n",
       "<table border=\"1\" class=\"dataframe\">\n",
       "  <thead>\n",
       "    <tr style=\"text-align: right;\">\n",
       "      <th></th>\n",
       "      <th>Tweet</th>\n",
       "      <th>Sentiment</th>\n",
       "    </tr>\n",
       "  </thead>\n",
       "  <tbody>\n",
       "    <tr>\n",
       "      <th>0</th>\n",
       "      <td>@_angelica_toy Happy Anniversary!!!....The Day...</td>\n",
       "      <td>Mild_Pos</td>\n",
       "    </tr>\n",
       "    <tr>\n",
       "      <th>1</th>\n",
       "      <td>@McfarlaneGlenda Happy Anniversary!!!....The D...</td>\n",
       "      <td>Mild_Pos</td>\n",
       "    </tr>\n",
       "    <tr>\n",
       "      <th>2</th>\n",
       "      <td>@thevivafrei @JustinTrudeau Happy Anniversary!...</td>\n",
       "      <td>Mild_Pos</td>\n",
       "    </tr>\n",
       "    <tr>\n",
       "      <th>3</th>\n",
       "      <td>@NChartierET Happy Anniversary!!!....The Day t...</td>\n",
       "      <td>Mild_Pos</td>\n",
       "    </tr>\n",
       "    <tr>\n",
       "      <th>4</th>\n",
       "      <td>@tabithapeters05 Happy Anniversary!!!....The D...</td>\n",
       "      <td>Mild_Pos</td>\n",
       "    </tr>\n",
       "    <tr>\n",
       "      <th>5</th>\n",
       "      <td>@JusticeStyle Happy Anniversary!!!....The Day ...</td>\n",
       "      <td>Mild_Pos</td>\n",
       "    </tr>\n",
       "    <tr>\n",
       "      <th>6</th>\n",
       "      <td>@Praiset22112963 @Emergencies_Act @ikwilson Ha...</td>\n",
       "      <td>Mild_Pos</td>\n",
       "    </tr>\n",
       "    <tr>\n",
       "      <th>7</th>\n",
       "      <td>@parnel1123 @RealAndyLeeShow Happy Anniversary...</td>\n",
       "      <td>Mild_Pos</td>\n",
       "    </tr>\n",
       "    <tr>\n",
       "      <th>8</th>\n",
       "      <td>Freedom Convoy as InkBlot Test https://t.co/au...</td>\n",
       "      <td>Strong_Pos</td>\n",
       "    </tr>\n",
       "    <tr>\n",
       "      <th>9</th>\n",
       "      <td>@WSOnlineNews @DavidKrayden Happy Anniversary!...</td>\n",
       "      <td>Mild_Pos</td>\n",
       "    </tr>\n",
       "  </tbody>\n",
       "</table>\n",
       "</div>"
      ],
      "text/plain": [
       "                                               Tweet   Sentiment\n",
       "0  @_angelica_toy Happy Anniversary!!!....The Day...    Mild_Pos\n",
       "1  @McfarlaneGlenda Happy Anniversary!!!....The D...    Mild_Pos\n",
       "2  @thevivafrei @JustinTrudeau Happy Anniversary!...    Mild_Pos\n",
       "3  @NChartierET Happy Anniversary!!!....The Day t...    Mild_Pos\n",
       "4  @tabithapeters05 Happy Anniversary!!!....The D...    Mild_Pos\n",
       "5  @JusticeStyle Happy Anniversary!!!....The Day ...    Mild_Pos\n",
       "6  @Praiset22112963 @Emergencies_Act @ikwilson Ha...    Mild_Pos\n",
       "7  @parnel1123 @RealAndyLeeShow Happy Anniversary...    Mild_Pos\n",
       "8  Freedom Convoy as InkBlot Test https://t.co/au...  Strong_Pos\n",
       "9  @WSOnlineNews @DavidKrayden Happy Anniversary!...    Mild_Pos"
      ]
     },
     "execution_count": 8,
     "metadata": {},
     "output_type": "execute_result"
    }
   ],
   "source": [
    "df.head(10)"
   ]
  },
  {
   "cell_type": "code",
   "execution_count": 9,
   "id": "70d75e21-dfcc-4914-94f2-bf50f8e184c6",
   "metadata": {
    "id": "70d75e21-dfcc-4914-94f2-bf50f8e184c6"
   },
   "outputs": [],
   "source": [
    "\n",
    "def preprocess(text):\n",
    "    text = re.sub(r'#', ' ', text)                # Remove hash sign\n",
    "    text = re.sub(r'[^a-z\\s]', '', text)         # Remove special chars and retaining only alphabetic text.\n",
    "    #tokens = word_tokenize(text)\n",
    "    #tokens = [lemmatizer.lemmatize(t) for t in tokens if t not in stop_words]    #Remove Stopwords and apply lemmatization\n",
    "    #return ' '.join(tokens)\n",
    "    return text"
   ]
  },
  {
   "cell_type": "code",
   "execution_count": 10,
   "id": "0890ea1a-3906-495d-9b7f-d412b466ae21",
   "metadata": {
    "id": "0890ea1a-3906-495d-9b7f-d412b466ae21"
   },
   "outputs": [
    {
     "name": "stdout",
     "output_type": "stream",
     "text": [
      "@_angelica_toy Happy Anniversary!!!....The Day the FreeDUMB Died (In the tune of Don McLean's \"American Pie\") #FreeDumbConvoy #Freedumbers #FluTruxKlan #convoywatch #convoy #FreedomConvoy   https://t.co/ZT1cIPwmh9\n",
      "angelicatoy appy nniversaryhe ay the ree ied n the tune of on ceans merican ie  reeumbonvoy  reedumbers  luruxlan  convoywatch  convoy  reedomonvoy   httpstcocwmh\n"
     ]
    }
   ],
   "source": [
    "print(df['Tweet'][0])\n",
    "print(preprocess(df['Tweet'][0]))"
   ]
  },
  {
   "cell_type": "code",
   "execution_count": 11,
   "id": "c681cb41-d976-47e9-8b91-f182043ffce1",
   "metadata": {
    "id": "c681cb41-d976-47e9-8b91-f182043ffce1"
   },
   "outputs": [],
   "source": [
    "#df['Tweet'] = df['Tweet'].apply(preprocess)"
   ]
  },
  {
   "cell_type": "code",
   "execution_count": 12,
   "id": "976346aa-879f-40d4-a46b-30523406c7c3",
   "metadata": {
    "id": "976346aa-879f-40d4-a46b-30523406c7c3"
   },
   "outputs": [
    {
     "data": {
      "text/html": [
       "<div>\n",
       "<style scoped>\n",
       "    .dataframe tbody tr th:only-of-type {\n",
       "        vertical-align: middle;\n",
       "    }\n",
       "\n",
       "    .dataframe tbody tr th {\n",
       "        vertical-align: top;\n",
       "    }\n",
       "\n",
       "    .dataframe thead th {\n",
       "        text-align: right;\n",
       "    }\n",
       "</style>\n",
       "<table border=\"1\" class=\"dataframe\">\n",
       "  <thead>\n",
       "    <tr style=\"text-align: right;\">\n",
       "      <th></th>\n",
       "      <th>Tweet</th>\n",
       "      <th>Sentiment</th>\n",
       "    </tr>\n",
       "  </thead>\n",
       "  <tbody>\n",
       "    <tr>\n",
       "      <th>0</th>\n",
       "      <td>@_angelica_toy Happy Anniversary!!!....The Day...</td>\n",
       "      <td>Mild_Pos</td>\n",
       "    </tr>\n",
       "    <tr>\n",
       "      <th>1</th>\n",
       "      <td>@McfarlaneGlenda Happy Anniversary!!!....The D...</td>\n",
       "      <td>Mild_Pos</td>\n",
       "    </tr>\n",
       "    <tr>\n",
       "      <th>2</th>\n",
       "      <td>@thevivafrei @JustinTrudeau Happy Anniversary!...</td>\n",
       "      <td>Mild_Pos</td>\n",
       "    </tr>\n",
       "    <tr>\n",
       "      <th>3</th>\n",
       "      <td>@NChartierET Happy Anniversary!!!....The Day t...</td>\n",
       "      <td>Mild_Pos</td>\n",
       "    </tr>\n",
       "    <tr>\n",
       "      <th>4</th>\n",
       "      <td>@tabithapeters05 Happy Anniversary!!!....The D...</td>\n",
       "      <td>Mild_Pos</td>\n",
       "    </tr>\n",
       "    <tr>\n",
       "      <th>5</th>\n",
       "      <td>@JusticeStyle Happy Anniversary!!!....The Day ...</td>\n",
       "      <td>Mild_Pos</td>\n",
       "    </tr>\n",
       "    <tr>\n",
       "      <th>6</th>\n",
       "      <td>@Praiset22112963 @Emergencies_Act @ikwilson Ha...</td>\n",
       "      <td>Mild_Pos</td>\n",
       "    </tr>\n",
       "    <tr>\n",
       "      <th>7</th>\n",
       "      <td>@parnel1123 @RealAndyLeeShow Happy Anniversary...</td>\n",
       "      <td>Mild_Pos</td>\n",
       "    </tr>\n",
       "    <tr>\n",
       "      <th>8</th>\n",
       "      <td>Freedom Convoy as InkBlot Test https://t.co/au...</td>\n",
       "      <td>Strong_Pos</td>\n",
       "    </tr>\n",
       "    <tr>\n",
       "      <th>9</th>\n",
       "      <td>@WSOnlineNews @DavidKrayden Happy Anniversary!...</td>\n",
       "      <td>Mild_Pos</td>\n",
       "    </tr>\n",
       "  </tbody>\n",
       "</table>\n",
       "</div>"
      ],
      "text/plain": [
       "                                               Tweet   Sentiment\n",
       "0  @_angelica_toy Happy Anniversary!!!....The Day...    Mild_Pos\n",
       "1  @McfarlaneGlenda Happy Anniversary!!!....The D...    Mild_Pos\n",
       "2  @thevivafrei @JustinTrudeau Happy Anniversary!...    Mild_Pos\n",
       "3  @NChartierET Happy Anniversary!!!....The Day t...    Mild_Pos\n",
       "4  @tabithapeters05 Happy Anniversary!!!....The D...    Mild_Pos\n",
       "5  @JusticeStyle Happy Anniversary!!!....The Day ...    Mild_Pos\n",
       "6  @Praiset22112963 @Emergencies_Act @ikwilson Ha...    Mild_Pos\n",
       "7  @parnel1123 @RealAndyLeeShow Happy Anniversary...    Mild_Pos\n",
       "8  Freedom Convoy as InkBlot Test https://t.co/au...  Strong_Pos\n",
       "9  @WSOnlineNews @DavidKrayden Happy Anniversary!...    Mild_Pos"
      ]
     },
     "execution_count": 12,
     "metadata": {},
     "output_type": "execute_result"
    }
   ],
   "source": [
    "df.head(10)"
   ]
  },
  {
   "cell_type": "code",
   "execution_count": 13,
   "id": "916ebb12-d486-40d0-a8df-56453707423f",
   "metadata": {
    "id": "916ebb12-d486-40d0-a8df-56453707423f"
   },
   "outputs": [
    {
     "data": {
      "text/plain": [
       "array(['Mild_Pos', 'Strong_Pos', 'Neutral', 'Strong_Neg', 'Mild_Neg'],\n",
       "      dtype=object)"
      ]
     },
     "execution_count": 13,
     "metadata": {},
     "output_type": "execute_result"
    }
   ],
   "source": [
    "df['Sentiment'].unique()"
   ]
  },
  {
   "cell_type": "markdown",
   "id": "39280641",
   "metadata": {
    "id": "39280641"
   },
   "source": [
    "### Preprocess Text"
   ]
  },
  {
   "cell_type": "code",
   "execution_count": 15,
   "id": "e6d46df1",
   "metadata": {
    "id": "e6d46df1"
   },
   "outputs": [
    {
     "name": "stdout",
     "output_type": "stream",
     "text": [
      "\n",
      "==================================================\n",
      "DATA PREPROCESSING\n",
      "==================================================\n",
      "Preprocessing Statistics:\n",
      "Regex applications: 223958\n",
      "Emojis handled: 306\n",
      "Slang terms handled: 3518\n",
      "Abbreviations handled: 8787\n",
      "Shape after removing empty tweets: (450926, 4)\n"
     ]
    }
   ],
   "source": [
    "def preprocess_text(text, slang_dict, abbreviation_dict, regex_patterns):\n",
    "    \"\"\"Preprocess text: regex, emojis, slang, abbreviations.\"\"\"\n",
    "    if pd.isna(text):\n",
    "        return \"\", 0, 0, 0, 0\n",
    "\n",
    "    text = str(text).lower()\n",
    "    regex_count, slang_count, abbrev_count = 0, 0, 0\n",
    "\n",
    "    # Handle emojis with emoji.demojize\n",
    "    original_text = text\n",
    "    text = emoji.demojize(text, delimiters=(' ', ' '))\n",
    "    emoji_count = len(re.findall(r':\\w+:', text))\n",
    "\n",
    "    text = contractions.fix(text)                #Expand Contractions (e.g., \"can't\" → \"cannot\")\n",
    "    text = re.sub(r'@\\w+', ' ', text)             # Remove @mentions\n",
    "    text = re.sub(r'#', ' ', text)                # Remove hash sign\n",
    "\n",
    "    # Apply regex cleaning\n",
    "    for pattern_name, pattern in regex_patterns.items():\n",
    "        if pattern_name == 'multiple_spaces':\n",
    "            text = re.sub(pattern, ' ', text)\n",
    "        elif pattern_name == 'extra_whitespace':\n",
    "            text = re.sub(pattern, '', text)\n",
    "        elif pattern_name == 'repeated_chars':\n",
    "            text = re.sub(pattern, r'\\1\\1', text)\n",
    "        elif pattern_name == 'retweet':\n",
    "            if re.search(pattern, text):\n",
    "                text = re.sub(pattern, '', text)\n",
    "                regex_count += 1\n",
    "        else:\n",
    "            if re.search(pattern, text):\n",
    "                text = re.sub(pattern, ' ', text)\n",
    "                regex_count += 1\n",
    "\n",
    "    # Handle slang and abbreviations\n",
    "    words = text.split()\n",
    "    processed_words = []\n",
    "    for word in words:\n",
    "        word_clean = word.lower().rstrip('.,!?;:')\n",
    "        if word_clean in slang_dict:\n",
    "            processed_words.append(slang_dict[word_clean])\n",
    "            slang_count += 1\n",
    "        elif word_clean in abbreviation_dict:\n",
    "            processed_words.append(abbreviation_dict[word_clean])\n",
    "            abbrev_count += 1\n",
    "        else:\n",
    "            processed_words.append(word)\n",
    "    text = ' '.join(processed_words)\n",
    "\n",
    "    # Remove punctuation (keep sentiment-relevant ones)\n",
    "    text = re.sub(r'[^\\w\\s!?.]', '', text)\n",
    "    # Step 1: Reduce repeated punctuation (!, ?, .) to single\n",
    "    text = re.sub(r'([!?.]){2,}', r'\\1', text)\n",
    "    # Step 2: Add space after punctuation\n",
    "    text = re.sub(r'([!?.])', r'\\1 ', text)\n",
    "    # Step 3: Normalize whitespace\n",
    "    text = re.sub(r'\\s+', ' ', text).strip()\n",
    "\n",
    "    return text, regex_count, emoji_count, slang_count, abbrev_count\n",
    "\n",
    "# Define dictionaries and patterns\n",
    "slang_dict = {\n",
    "    'lol': 'laugh out loud', 'omg': 'oh my god', 'wtf': 'what the fuck',\n",
    "    'btw': 'by the way', 'tbh': 'to be honest', 'idk': 'i dont know'\n",
    "}\n",
    "abbreviation_dict = {\n",
    "    'usa': 'united states of america', 'nyc': 'new york city',\n",
    "    'govt': 'government', 'dr': 'doctor', 'hr': 'hour'\n",
    "}\n",
    "regex_patterns = {\n",
    "    'url': r'http[s]?://\\S+',\n",
    "    'email': r'\\b[\\w\\.-]+@[\\w\\.-]+\\.\\w+\\b',\n",
    "    'phone': r'\\b\\d{3}-\\d{3}-\\d{4}\\b|\\b\\(\\d{3}\\)\\s?\\d{3}-\\d{4}\\b',\n",
    "    'html_tags': r'<[^>]+>',\n",
    "    'retweet': r'\\bRT\\b',\n",
    "    'repeated_chars': r'(.)\\1{2,}',\n",
    "    'multiple_spaces': r'\\s+',\n",
    "    'newlines': r'\\n|\\r',\n",
    "    'extra_whitespace': r'^\\s+|\\s+$'\n",
    "}\n",
    "\n",
    "# Apply preprocessing\n",
    "if df is not None:\n",
    "    print(\"\\n\" + \"=\"*50 + \"\\nDATA PREPROCESSING\\n\" + \"=\"*50)\n",
    "    df['original_tweet'] = df['Tweet'].copy()\n",
    "    results = df['Tweet'].apply(lambda x: preprocess_text(x, slang_dict, abbreviation_dict, regex_patterns))\n",
    "\n",
    "    df['processed_tweet'] = [r[0] for r in results]\n",
    "    total_regex = sum(r[1] for r in results)\n",
    "    total_emojis = sum(r[2] for r in results)\n",
    "    total_slang = sum(r[3] for r in results)\n",
    "    total_abbrev = sum(r[4] for r in results)\n",
    "\n",
    "    print(f\"Preprocessing Statistics:\")\n",
    "    print(f\"Regex applications: {total_regex}\")\n",
    "    print(f\"Emojis handled: {total_emojis}\")\n",
    "    print(f\"Slang terms handled: {total_slang}\")\n",
    "    print(f\"Abbreviations handled: {total_abbrev}\")\n",
    "\n",
    "    df = df[df['processed_tweet'].str.strip() != ''].reset_index(drop=True)\n",
    "    print(f\"Shape after removing empty tweets: {df.shape}\")"
   ]
  },
  {
   "cell_type": "code",
   "execution_count": 16,
   "id": "50f69313-9966-4a56-a9d6-b5bc0c05aad4",
   "metadata": {
    "id": "50f69313-9966-4a56-a9d6-b5bc0c05aad4"
   },
   "outputs": [
    {
     "name": "stdout",
     "output_type": "stream",
     "text": [
      "@_angelica_toy Happy Anniversary!!!....The Day the FreeDUMB Died (In the tune of Don McLean's \"American Pie\") #FreeDumbConvoy #Freedumbers #FluTruxKlan #convoywatch #convoy #FreedomConvoy   https://t.co/ZT1cIPwmh9\n",
      "happy anniversary. the day the freedumb died in the tune of don mcleans american pie freedumbconvoy freedumbers flutruxklan convoywatch convoy freedomconvoy\n"
     ]
    }
   ],
   "source": [
    "print(df.head(10)['Tweet'][0])\n",
    "print(df.head(10)['processed_tweet'][0])"
   ]
  },
  {
   "cell_type": "code",
   "execution_count": 17,
   "id": "c2d88dba-5bb7-4d87-80f2-fbb19113c655",
   "metadata": {
    "id": "c2d88dba-5bb7-4d87-80f2-fbb19113c655"
   },
   "outputs": [
    {
     "data": {
      "text/html": [
       "<div>\n",
       "<style scoped>\n",
       "    .dataframe tbody tr th:only-of-type {\n",
       "        vertical-align: middle;\n",
       "    }\n",
       "\n",
       "    .dataframe tbody tr th {\n",
       "        vertical-align: top;\n",
       "    }\n",
       "\n",
       "    .dataframe thead th {\n",
       "        text-align: right;\n",
       "    }\n",
       "</style>\n",
       "<table border=\"1\" class=\"dataframe\">\n",
       "  <thead>\n",
       "    <tr style=\"text-align: right;\">\n",
       "      <th></th>\n",
       "      <th>Tweet</th>\n",
       "      <th>Sentiment</th>\n",
       "      <th>original_tweet</th>\n",
       "      <th>processed_tweet</th>\n",
       "    </tr>\n",
       "  </thead>\n",
       "  <tbody>\n",
       "    <tr>\n",
       "      <th>0</th>\n",
       "      <td>@_angelica_toy Happy Anniversary!!!....The Day...</td>\n",
       "      <td>Mild_Pos</td>\n",
       "      <td>@_angelica_toy Happy Anniversary!!!....The Day...</td>\n",
       "      <td>happy anniversary. the day the freedumb died i...</td>\n",
       "    </tr>\n",
       "    <tr>\n",
       "      <th>1</th>\n",
       "      <td>@McfarlaneGlenda Happy Anniversary!!!....The D...</td>\n",
       "      <td>Mild_Pos</td>\n",
       "      <td>@McfarlaneGlenda Happy Anniversary!!!....The D...</td>\n",
       "      <td>happy anniversary. the day the freedumb died i...</td>\n",
       "    </tr>\n",
       "    <tr>\n",
       "      <th>2</th>\n",
       "      <td>@thevivafrei @JustinTrudeau Happy Anniversary!...</td>\n",
       "      <td>Mild_Pos</td>\n",
       "      <td>@thevivafrei @JustinTrudeau Happy Anniversary!...</td>\n",
       "      <td>happy anniversary. the day the freedumb died i...</td>\n",
       "    </tr>\n",
       "    <tr>\n",
       "      <th>3</th>\n",
       "      <td>@NChartierET Happy Anniversary!!!....The Day t...</td>\n",
       "      <td>Mild_Pos</td>\n",
       "      <td>@NChartierET Happy Anniversary!!!....The Day t...</td>\n",
       "      <td>happy anniversary. the day the freedumb died i...</td>\n",
       "    </tr>\n",
       "    <tr>\n",
       "      <th>4</th>\n",
       "      <td>@tabithapeters05 Happy Anniversary!!!....The D...</td>\n",
       "      <td>Mild_Pos</td>\n",
       "      <td>@tabithapeters05 Happy Anniversary!!!....The D...</td>\n",
       "      <td>happy anniversary. the day the freedumb died i...</td>\n",
       "    </tr>\n",
       "    <tr>\n",
       "      <th>5</th>\n",
       "      <td>@JusticeStyle Happy Anniversary!!!....The Day ...</td>\n",
       "      <td>Mild_Pos</td>\n",
       "      <td>@JusticeStyle Happy Anniversary!!!....The Day ...</td>\n",
       "      <td>happy anniversary. the day the freedumb died i...</td>\n",
       "    </tr>\n",
       "    <tr>\n",
       "      <th>6</th>\n",
       "      <td>@Praiset22112963 @Emergencies_Act @ikwilson Ha...</td>\n",
       "      <td>Mild_Pos</td>\n",
       "      <td>@Praiset22112963 @Emergencies_Act @ikwilson Ha...</td>\n",
       "      <td>happy anniversary. the day the freedumb died i...</td>\n",
       "    </tr>\n",
       "    <tr>\n",
       "      <th>7</th>\n",
       "      <td>@parnel1123 @RealAndyLeeShow Happy Anniversary...</td>\n",
       "      <td>Mild_Pos</td>\n",
       "      <td>@parnel1123 @RealAndyLeeShow Happy Anniversary...</td>\n",
       "      <td>happy anniversary. the day the freedumb died i...</td>\n",
       "    </tr>\n",
       "    <tr>\n",
       "      <th>8</th>\n",
       "      <td>Freedom Convoy as InkBlot Test https://t.co/au...</td>\n",
       "      <td>Strong_Pos</td>\n",
       "      <td>Freedom Convoy as InkBlot Test https://t.co/au...</td>\n",
       "      <td>freedom convoy as inkblot test</td>\n",
       "    </tr>\n",
       "    <tr>\n",
       "      <th>9</th>\n",
       "      <td>@WSOnlineNews @DavidKrayden Happy Anniversary!...</td>\n",
       "      <td>Mild_Pos</td>\n",
       "      <td>@WSOnlineNews @DavidKrayden Happy Anniversary!...</td>\n",
       "      <td>happy anniversary. the day the freedumb died i...</td>\n",
       "    </tr>\n",
       "  </tbody>\n",
       "</table>\n",
       "</div>"
      ],
      "text/plain": [
       "                                               Tweet   Sentiment  \\\n",
       "0  @_angelica_toy Happy Anniversary!!!....The Day...    Mild_Pos   \n",
       "1  @McfarlaneGlenda Happy Anniversary!!!....The D...    Mild_Pos   \n",
       "2  @thevivafrei @JustinTrudeau Happy Anniversary!...    Mild_Pos   \n",
       "3  @NChartierET Happy Anniversary!!!....The Day t...    Mild_Pos   \n",
       "4  @tabithapeters05 Happy Anniversary!!!....The D...    Mild_Pos   \n",
       "5  @JusticeStyle Happy Anniversary!!!....The Day ...    Mild_Pos   \n",
       "6  @Praiset22112963 @Emergencies_Act @ikwilson Ha...    Mild_Pos   \n",
       "7  @parnel1123 @RealAndyLeeShow Happy Anniversary...    Mild_Pos   \n",
       "8  Freedom Convoy as InkBlot Test https://t.co/au...  Strong_Pos   \n",
       "9  @WSOnlineNews @DavidKrayden Happy Anniversary!...    Mild_Pos   \n",
       "\n",
       "                                      original_tweet  \\\n",
       "0  @_angelica_toy Happy Anniversary!!!....The Day...   \n",
       "1  @McfarlaneGlenda Happy Anniversary!!!....The D...   \n",
       "2  @thevivafrei @JustinTrudeau Happy Anniversary!...   \n",
       "3  @NChartierET Happy Anniversary!!!....The Day t...   \n",
       "4  @tabithapeters05 Happy Anniversary!!!....The D...   \n",
       "5  @JusticeStyle Happy Anniversary!!!....The Day ...   \n",
       "6  @Praiset22112963 @Emergencies_Act @ikwilson Ha...   \n",
       "7  @parnel1123 @RealAndyLeeShow Happy Anniversary...   \n",
       "8  Freedom Convoy as InkBlot Test https://t.co/au...   \n",
       "9  @WSOnlineNews @DavidKrayden Happy Anniversary!...   \n",
       "\n",
       "                                     processed_tweet  \n",
       "0  happy anniversary. the day the freedumb died i...  \n",
       "1  happy anniversary. the day the freedumb died i...  \n",
       "2  happy anniversary. the day the freedumb died i...  \n",
       "3  happy anniversary. the day the freedumb died i...  \n",
       "4  happy anniversary. the day the freedumb died i...  \n",
       "5  happy anniversary. the day the freedumb died i...  \n",
       "6  happy anniversary. the day the freedumb died i...  \n",
       "7  happy anniversary. the day the freedumb died i...  \n",
       "8                     freedom convoy as inkblot test  \n",
       "9  happy anniversary. the day the freedumb died i...  "
      ]
     },
     "execution_count": 17,
     "metadata": {},
     "output_type": "execute_result"
    }
   ],
   "source": [
    "df.head(10)"
   ]
  },
  {
   "cell_type": "code",
   "execution_count": 18,
   "id": "b912b7fb-6568-4984-b30e-458f5b739ffc",
   "metadata": {
    "id": "b912b7fb-6568-4984-b30e-458f5b739ffc"
   },
   "outputs": [],
   "source": [
    "df.to_csv('processed_tweets.csv', index=False)"
   ]
  },
  {
   "cell_type": "markdown",
   "id": "3e1f9d1d-a670-4c0b-98bf-242865d9b209",
   "metadata": {
    "id": "3e1f9d1d-a670-4c0b-98bf-242865d9b209"
   },
   "source": [
    "# Load processed data from the saved CSV File"
   ]
  },
  {
   "cell_type": "code",
   "execution_count": 20,
   "id": "154d4c2b-d393-4b74-8af4-594e5ed9a22e",
   "metadata": {
    "id": "154d4c2b-d393-4b74-8af4-594e5ed9a22e"
   },
   "outputs": [
    {
     "data": {
      "text/html": [
       "<div>\n",
       "<style scoped>\n",
       "    .dataframe tbody tr th:only-of-type {\n",
       "        vertical-align: middle;\n",
       "    }\n",
       "\n",
       "    .dataframe tbody tr th {\n",
       "        vertical-align: top;\n",
       "    }\n",
       "\n",
       "    .dataframe thead th {\n",
       "        text-align: right;\n",
       "    }\n",
       "</style>\n",
       "<table border=\"1\" class=\"dataframe\">\n",
       "  <thead>\n",
       "    <tr style=\"text-align: right;\">\n",
       "      <th></th>\n",
       "      <th>Tweet</th>\n",
       "      <th>Sentiment</th>\n",
       "      <th>original_tweet</th>\n",
       "      <th>processed_tweet</th>\n",
       "    </tr>\n",
       "  </thead>\n",
       "  <tbody>\n",
       "    <tr>\n",
       "      <th>0</th>\n",
       "      <td>@_angelica_toy Happy Anniversary!!!....The Day...</td>\n",
       "      <td>Mild_Pos</td>\n",
       "      <td>@_angelica_toy Happy Anniversary!!!....The Day...</td>\n",
       "      <td>happy anniversary. the day the freedumb died i...</td>\n",
       "    </tr>\n",
       "    <tr>\n",
       "      <th>1</th>\n",
       "      <td>@McfarlaneGlenda Happy Anniversary!!!....The D...</td>\n",
       "      <td>Mild_Pos</td>\n",
       "      <td>@McfarlaneGlenda Happy Anniversary!!!....The D...</td>\n",
       "      <td>happy anniversary. the day the freedumb died i...</td>\n",
       "    </tr>\n",
       "    <tr>\n",
       "      <th>2</th>\n",
       "      <td>@thevivafrei @JustinTrudeau Happy Anniversary!...</td>\n",
       "      <td>Mild_Pos</td>\n",
       "      <td>@thevivafrei @JustinTrudeau Happy Anniversary!...</td>\n",
       "      <td>happy anniversary. the day the freedumb died i...</td>\n",
       "    </tr>\n",
       "    <tr>\n",
       "      <th>3</th>\n",
       "      <td>@NChartierET Happy Anniversary!!!....The Day t...</td>\n",
       "      <td>Mild_Pos</td>\n",
       "      <td>@NChartierET Happy Anniversary!!!....The Day t...</td>\n",
       "      <td>happy anniversary. the day the freedumb died i...</td>\n",
       "    </tr>\n",
       "    <tr>\n",
       "      <th>4</th>\n",
       "      <td>@tabithapeters05 Happy Anniversary!!!....The D...</td>\n",
       "      <td>Mild_Pos</td>\n",
       "      <td>@tabithapeters05 Happy Anniversary!!!....The D...</td>\n",
       "      <td>happy anniversary. the day the freedumb died i...</td>\n",
       "    </tr>\n",
       "    <tr>\n",
       "      <th>5</th>\n",
       "      <td>@JusticeStyle Happy Anniversary!!!....The Day ...</td>\n",
       "      <td>Mild_Pos</td>\n",
       "      <td>@JusticeStyle Happy Anniversary!!!....The Day ...</td>\n",
       "      <td>happy anniversary. the day the freedumb died i...</td>\n",
       "    </tr>\n",
       "    <tr>\n",
       "      <th>6</th>\n",
       "      <td>@Praiset22112963 @Emergencies_Act @ikwilson Ha...</td>\n",
       "      <td>Mild_Pos</td>\n",
       "      <td>@Praiset22112963 @Emergencies_Act @ikwilson Ha...</td>\n",
       "      <td>happy anniversary. the day the freedumb died i...</td>\n",
       "    </tr>\n",
       "    <tr>\n",
       "      <th>7</th>\n",
       "      <td>@parnel1123 @RealAndyLeeShow Happy Anniversary...</td>\n",
       "      <td>Mild_Pos</td>\n",
       "      <td>@parnel1123 @RealAndyLeeShow Happy Anniversary...</td>\n",
       "      <td>happy anniversary. the day the freedumb died i...</td>\n",
       "    </tr>\n",
       "    <tr>\n",
       "      <th>8</th>\n",
       "      <td>Freedom Convoy as InkBlot Test https://t.co/au...</td>\n",
       "      <td>Strong_Pos</td>\n",
       "      <td>Freedom Convoy as InkBlot Test https://t.co/au...</td>\n",
       "      <td>freedom convoy as inkblot test</td>\n",
       "    </tr>\n",
       "    <tr>\n",
       "      <th>9</th>\n",
       "      <td>@WSOnlineNews @DavidKrayden Happy Anniversary!...</td>\n",
       "      <td>Mild_Pos</td>\n",
       "      <td>@WSOnlineNews @DavidKrayden Happy Anniversary!...</td>\n",
       "      <td>happy anniversary. the day the freedumb died i...</td>\n",
       "    </tr>\n",
       "  </tbody>\n",
       "</table>\n",
       "</div>"
      ],
      "text/plain": [
       "                                               Tweet   Sentiment  \\\n",
       "0  @_angelica_toy Happy Anniversary!!!....The Day...    Mild_Pos   \n",
       "1  @McfarlaneGlenda Happy Anniversary!!!....The D...    Mild_Pos   \n",
       "2  @thevivafrei @JustinTrudeau Happy Anniversary!...    Mild_Pos   \n",
       "3  @NChartierET Happy Anniversary!!!....The Day t...    Mild_Pos   \n",
       "4  @tabithapeters05 Happy Anniversary!!!....The D...    Mild_Pos   \n",
       "5  @JusticeStyle Happy Anniversary!!!....The Day ...    Mild_Pos   \n",
       "6  @Praiset22112963 @Emergencies_Act @ikwilson Ha...    Mild_Pos   \n",
       "7  @parnel1123 @RealAndyLeeShow Happy Anniversary...    Mild_Pos   \n",
       "8  Freedom Convoy as InkBlot Test https://t.co/au...  Strong_Pos   \n",
       "9  @WSOnlineNews @DavidKrayden Happy Anniversary!...    Mild_Pos   \n",
       "\n",
       "                                      original_tweet  \\\n",
       "0  @_angelica_toy Happy Anniversary!!!....The Day...   \n",
       "1  @McfarlaneGlenda Happy Anniversary!!!....The D...   \n",
       "2  @thevivafrei @JustinTrudeau Happy Anniversary!...   \n",
       "3  @NChartierET Happy Anniversary!!!....The Day t...   \n",
       "4  @tabithapeters05 Happy Anniversary!!!....The D...   \n",
       "5  @JusticeStyle Happy Anniversary!!!....The Day ...   \n",
       "6  @Praiset22112963 @Emergencies_Act @ikwilson Ha...   \n",
       "7  @parnel1123 @RealAndyLeeShow Happy Anniversary...   \n",
       "8  Freedom Convoy as InkBlot Test https://t.co/au...   \n",
       "9  @WSOnlineNews @DavidKrayden Happy Anniversary!...   \n",
       "\n",
       "                                     processed_tweet  \n",
       "0  happy anniversary. the day the freedumb died i...  \n",
       "1  happy anniversary. the day the freedumb died i...  \n",
       "2  happy anniversary. the day the freedumb died i...  \n",
       "3  happy anniversary. the day the freedumb died i...  \n",
       "4  happy anniversary. the day the freedumb died i...  \n",
       "5  happy anniversary. the day the freedumb died i...  \n",
       "6  happy anniversary. the day the freedumb died i...  \n",
       "7  happy anniversary. the day the freedumb died i...  \n",
       "8                     freedom convoy as inkblot test  \n",
       "9  happy anniversary. the day the freedumb died i...  "
      ]
     },
     "execution_count": 20,
     "metadata": {},
     "output_type": "execute_result"
    }
   ],
   "source": [
    "dataset = pd.read_csv('processed_tweets.csv')\n",
    "dataset.head(10)"
   ]
  },
  {
   "cell_type": "code",
   "execution_count": 21,
   "id": "5f4b20a3-92df-4d8e-82be-ebf31bb27818",
   "metadata": {
    "id": "5f4b20a3-92df-4d8e-82be-ebf31bb27818"
   },
   "outputs": [
    {
     "data": {
      "text/html": [
       "<div>\n",
       "<style scoped>\n",
       "    .dataframe tbody tr th:only-of-type {\n",
       "        vertical-align: middle;\n",
       "    }\n",
       "\n",
       "    .dataframe tbody tr th {\n",
       "        vertical-align: top;\n",
       "    }\n",
       "\n",
       "    .dataframe thead th {\n",
       "        text-align: right;\n",
       "    }\n",
       "</style>\n",
       "<table border=\"1\" class=\"dataframe\">\n",
       "  <thead>\n",
       "    <tr style=\"text-align: right;\">\n",
       "      <th></th>\n",
       "      <th>Tweet</th>\n",
       "      <th>Sentiment</th>\n",
       "    </tr>\n",
       "  </thead>\n",
       "  <tbody>\n",
       "    <tr>\n",
       "      <th>0</th>\n",
       "      <td>happy anniversary. the day the freedumb died i...</td>\n",
       "      <td>Mild_Pos</td>\n",
       "    </tr>\n",
       "    <tr>\n",
       "      <th>1</th>\n",
       "      <td>happy anniversary. the day the freedumb died i...</td>\n",
       "      <td>Mild_Pos</td>\n",
       "    </tr>\n",
       "    <tr>\n",
       "      <th>2</th>\n",
       "      <td>happy anniversary. the day the freedumb died i...</td>\n",
       "      <td>Mild_Pos</td>\n",
       "    </tr>\n",
       "    <tr>\n",
       "      <th>3</th>\n",
       "      <td>happy anniversary. the day the freedumb died i...</td>\n",
       "      <td>Mild_Pos</td>\n",
       "    </tr>\n",
       "    <tr>\n",
       "      <th>4</th>\n",
       "      <td>happy anniversary. the day the freedumb died i...</td>\n",
       "      <td>Mild_Pos</td>\n",
       "    </tr>\n",
       "    <tr>\n",
       "      <th>5</th>\n",
       "      <td>happy anniversary. the day the freedumb died i...</td>\n",
       "      <td>Mild_Pos</td>\n",
       "    </tr>\n",
       "    <tr>\n",
       "      <th>6</th>\n",
       "      <td>happy anniversary. the day the freedumb died i...</td>\n",
       "      <td>Mild_Pos</td>\n",
       "    </tr>\n",
       "    <tr>\n",
       "      <th>7</th>\n",
       "      <td>happy anniversary. the day the freedumb died i...</td>\n",
       "      <td>Mild_Pos</td>\n",
       "    </tr>\n",
       "    <tr>\n",
       "      <th>8</th>\n",
       "      <td>freedom convoy as inkblot test</td>\n",
       "      <td>Strong_Pos</td>\n",
       "    </tr>\n",
       "    <tr>\n",
       "      <th>9</th>\n",
       "      <td>happy anniversary. the day the freedumb died i...</td>\n",
       "      <td>Mild_Pos</td>\n",
       "    </tr>\n",
       "  </tbody>\n",
       "</table>\n",
       "</div>"
      ],
      "text/plain": [
       "                                               Tweet   Sentiment\n",
       "0  happy anniversary. the day the freedumb died i...    Mild_Pos\n",
       "1  happy anniversary. the day the freedumb died i...    Mild_Pos\n",
       "2  happy anniversary. the day the freedumb died i...    Mild_Pos\n",
       "3  happy anniversary. the day the freedumb died i...    Mild_Pos\n",
       "4  happy anniversary. the day the freedumb died i...    Mild_Pos\n",
       "5  happy anniversary. the day the freedumb died i...    Mild_Pos\n",
       "6  happy anniversary. the day the freedumb died i...    Mild_Pos\n",
       "7  happy anniversary. the day the freedumb died i...    Mild_Pos\n",
       "8                     freedom convoy as inkblot test  Strong_Pos\n",
       "9  happy anniversary. the day the freedumb died i...    Mild_Pos"
      ]
     },
     "execution_count": 21,
     "metadata": {},
     "output_type": "execute_result"
    }
   ],
   "source": [
    "dataset['Tweet'] = dataset['processed_tweet']\n",
    "dataset.drop(columns=['processed_tweet'], inplace=True)\n",
    "dataset.drop(columns=['original_tweet'], inplace=True)\n",
    "dataset.head(10)"
   ]
  },
  {
   "cell_type": "code",
   "execution_count": 22,
   "id": "b56680a9-4419-42f7-bd4c-978c4ce6ab74",
   "metadata": {
    "id": "b56680a9-4419-42f7-bd4c-978c4ce6ab74"
   },
   "outputs": [
    {
     "data": {
      "text/plain": [
       "66666"
      ]
     },
     "execution_count": 22,
     "metadata": {},
     "output_type": "execute_result"
    }
   ],
   "source": [
    "dataset.duplicated().sum()"
   ]
  },
  {
   "cell_type": "code",
   "execution_count": 23,
   "id": "eb9fba7a-dd28-49cf-bb8c-3794cc6c325d",
   "metadata": {
    "id": "eb9fba7a-dd28-49cf-bb8c-3794cc6c325d"
   },
   "outputs": [
    {
     "data": {
      "text/plain": [
       "(450926, 2)"
      ]
     },
     "execution_count": 23,
     "metadata": {},
     "output_type": "execute_result"
    }
   ],
   "source": [
    "dataset.shape"
   ]
  },
  {
   "cell_type": "code",
   "execution_count": 24,
   "id": "dd284734-f52e-47cb-a6aa-9965c35100ce",
   "metadata": {
    "id": "dd284734-f52e-47cb-a6aa-9965c35100ce"
   },
   "outputs": [],
   "source": [
    "dataset.drop_duplicates(inplace=True)\n",
    "dataset.reset_index(drop=True, inplace=True)"
   ]
  },
  {
   "cell_type": "code",
   "execution_count": 25,
   "id": "d75b55a0-6c07-4031-9315-975222fa3ab4",
   "metadata": {
    "id": "d75b55a0-6c07-4031-9315-975222fa3ab4"
   },
   "outputs": [
    {
     "data": {
      "text/plain": [
       "(384260, 2)"
      ]
     },
     "execution_count": 25,
     "metadata": {},
     "output_type": "execute_result"
    }
   ],
   "source": [
    "dataset.shape"
   ]
  },
  {
   "cell_type": "code",
   "execution_count": 26,
   "id": "1a75d7d0-f267-47ec-a34b-c428a67e8269",
   "metadata": {
    "id": "1a75d7d0-f267-47ec-a34b-c428a67e8269"
   },
   "outputs": [
    {
     "name": "stdout",
     "output_type": "stream",
     "text": [
      "Tweet        0\n",
      "Sentiment    0\n",
      "dtype: int64\n"
     ]
    }
   ],
   "source": [
    "# Check total number of nulls per column\n",
    "print(dataset.isnull().sum())"
   ]
  },
  {
   "cell_type": "code",
   "execution_count": 27,
   "id": "9fb426dd-1ced-488f-a718-e5cc931fa825",
   "metadata": {
    "id": "9fb426dd-1ced-488f-a718-e5cc931fa825"
   },
   "outputs": [
    {
     "name": "stdout",
     "output_type": "stream",
     "text": [
      "<class 'pandas.core.frame.DataFrame'>\n",
      "RangeIndex: 384260 entries, 0 to 384259\n",
      "Data columns (total 2 columns):\n",
      " #   Column     Non-Null Count   Dtype \n",
      "---  ------     --------------   ----- \n",
      " 0   Tweet      384260 non-null  object\n",
      " 1   Sentiment  384260 non-null  object\n",
      "dtypes: object(2)\n",
      "memory usage: 5.9+ MB\n"
     ]
    }
   ],
   "source": [
    "dataset.info()"
   ]
  },
  {
   "cell_type": "code",
   "execution_count": 28,
   "id": "75f952d8-9411-48df-9f1d-29d504911441",
   "metadata": {
    "id": "75f952d8-9411-48df-9f1d-29d504911441"
   },
   "outputs": [
    {
     "data": {
      "text/html": [
       "<div>\n",
       "<style scoped>\n",
       "    .dataframe tbody tr th:only-of-type {\n",
       "        vertical-align: middle;\n",
       "    }\n",
       "\n",
       "    .dataframe tbody tr th {\n",
       "        vertical-align: top;\n",
       "    }\n",
       "\n",
       "    .dataframe thead th {\n",
       "        text-align: right;\n",
       "    }\n",
       "</style>\n",
       "<table border=\"1\" class=\"dataframe\">\n",
       "  <thead>\n",
       "    <tr style=\"text-align: right;\">\n",
       "      <th></th>\n",
       "      <th>Tweet</th>\n",
       "      <th>Sentiment</th>\n",
       "    </tr>\n",
       "  </thead>\n",
       "  <tbody>\n",
       "    <tr>\n",
       "      <th>count</th>\n",
       "      <td>384260</td>\n",
       "      <td>384260</td>\n",
       "    </tr>\n",
       "    <tr>\n",
       "      <th>unique</th>\n",
       "      <td>384122</td>\n",
       "      <td>5</td>\n",
       "    </tr>\n",
       "    <tr>\n",
       "      <th>top</th>\n",
       "      <td>freedom convoy to try to deliver humanitarian ...</td>\n",
       "      <td>Strong_Pos</td>\n",
       "    </tr>\n",
       "    <tr>\n",
       "      <th>freq</th>\n",
       "      <td>2</td>\n",
       "      <td>195084</td>\n",
       "    </tr>\n",
       "  </tbody>\n",
       "</table>\n",
       "</div>"
      ],
      "text/plain": [
       "                                                    Tweet   Sentiment\n",
       "count                                              384260      384260\n",
       "unique                                             384122           5\n",
       "top     freedom convoy to try to deliver humanitarian ...  Strong_Pos\n",
       "freq                                                    2      195084"
      ]
     },
     "execution_count": 28,
     "metadata": {},
     "output_type": "execute_result"
    }
   ],
   "source": [
    "dataset.describe()"
   ]
  },
  {
   "cell_type": "markdown",
   "id": "WNL1rZATBker",
   "metadata": {
    "id": "WNL1rZATBker"
   },
   "source": [
    "# Tokenization, Lemmatization, and removing Stop_words"
   ]
  },
  {
   "cell_type": "code",
   "execution_count": 30,
   "id": "tEYd4IhFGH7G",
   "metadata": {
    "id": "tEYd4IhFGH7G"
   },
   "outputs": [
    {
     "name": "stderr",
     "output_type": "stream",
     "text": [
      "[nltk_data] Downloading package punkt to /Users/mukulgarg/nltk_data...\n",
      "[nltk_data]   Package punkt is already up-to-date!\n",
      "[nltk_data] Downloading package stopwords to\n",
      "[nltk_data]     /Users/mukulgarg/nltk_data...\n",
      "[nltk_data]   Package stopwords is already up-to-date!\n",
      "[nltk_data] Downloading package wordnet to\n",
      "[nltk_data]     /Users/mukulgarg/nltk_data...\n",
      "[nltk_data]   Package wordnet is already up-to-date!\n",
      "[nltk_data] Downloading package punkt_tab to\n",
      "[nltk_data]     /Users/mukulgarg/nltk_data...\n",
      "[nltk_data]   Package punkt_tab is already up-to-date!\n",
      "[nltk_data] Downloading package omw-1.4 to\n",
      "[nltk_data]     /Users/mukulgarg/nltk_data...\n",
      "[nltk_data]   Package omw-1.4 is already up-to-date!\n"
     ]
    },
    {
     "data": {
      "text/plain": [
       "True"
      ]
     },
     "execution_count": 30,
     "metadata": {},
     "output_type": "execute_result"
    }
   ],
   "source": [
    "import string\n",
    "\n",
    "# Download required NLTK resources (run once)\n",
    "nltk.download('punkt')\n",
    "nltk.download('stopwords')\n",
    "nltk.download('wordnet')\n",
    "nltk.download('punkt_tab')\n",
    "nltk.download('omw-1.4')"
   ]
  },
  {
   "cell_type": "code",
   "execution_count": 31,
   "id": "4r1WlBVeBcTt",
   "metadata": {
    "id": "4r1WlBVeBcTt"
   },
   "outputs": [],
   "source": [
    "# Initialize tools\n",
    "punctuations = set(string.punctuation)\n",
    "\n",
    "def clean_tokens(text):\n",
    "    text = str(text).lower()\n",
    "    tokens = word_tokenize(text)\n",
    "\n",
    "    # Remove punctuation & stopwords, lemmatize\n",
    "    clean_words = []\n",
    "    for word in tokens:\n",
    "        if word not in stop_words and word not in punctuations:\n",
    "            lemma = lemmatizer.lemmatize(word)\n",
    "            clean_words.append(lemma)\n",
    "\n",
    "    return ' '.join(clean_words)\n"
   ]
  },
  {
   "cell_type": "code",
   "execution_count": 32,
   "id": "OUUwSWdFGVgx",
   "metadata": {
    "id": "OUUwSWdFGVgx"
   },
   "outputs": [
    {
     "data": {
      "text/html": [
       "<div>\n",
       "<style scoped>\n",
       "    .dataframe tbody tr th:only-of-type {\n",
       "        vertical-align: middle;\n",
       "    }\n",
       "\n",
       "    .dataframe tbody tr th {\n",
       "        vertical-align: top;\n",
       "    }\n",
       "\n",
       "    .dataframe thead th {\n",
       "        text-align: right;\n",
       "    }\n",
       "</style>\n",
       "<table border=\"1\" class=\"dataframe\">\n",
       "  <thead>\n",
       "    <tr style=\"text-align: right;\">\n",
       "      <th></th>\n",
       "      <th>Tweet</th>\n",
       "      <th>Sentiment</th>\n",
       "      <th>cleaned_tweet</th>\n",
       "    </tr>\n",
       "  </thead>\n",
       "  <tbody>\n",
       "    <tr>\n",
       "      <th>0</th>\n",
       "      <td>happy anniversary. the day the freedumb died i...</td>\n",
       "      <td>Mild_Pos</td>\n",
       "      <td>happy anniversary day freedumb died tune mclea...</td>\n",
       "    </tr>\n",
       "    <tr>\n",
       "      <th>1</th>\n",
       "      <td>freedom convoy as inkblot test</td>\n",
       "      <td>Strong_Pos</td>\n",
       "      <td>freedom convoy inkblot test</td>\n",
       "    </tr>\n",
       "    <tr>\n",
       "      <th>2</th>\n",
       "      <td>well itâs pretty easy to see what their agenda...</td>\n",
       "      <td>Strong_Pos</td>\n",
       "      <td>well itâs pretty easy see agenda pierre remain...</td>\n",
       "    </tr>\n",
       "    <tr>\n",
       "      <th>3</th>\n",
       "      <td>you belong in jail. vaccinemandates crimesagai...</td>\n",
       "      <td>Neutral</td>\n",
       "      <td>belong jail vaccinemandates crimesagainsthuman...</td>\n",
       "    </tr>\n",
       "    <tr>\n",
       "      <th>4</th>\n",
       "      <td>freedumbconvoy freedomconvoy freedumbers freed...</td>\n",
       "      <td>Neutral</td>\n",
       "      <td>freedumbconvoy freedomconvoy freedumbers freed...</td>\n",
       "    </tr>\n",
       "    <tr>\n",
       "      <th>5</th>\n",
       "      <td>your head is so far up trudeauâs ass you can s...</td>\n",
       "      <td>Strong_Pos</td>\n",
       "      <td>head far trudeauâs as see lunch trudeau doesnâ...</td>\n",
       "    </tr>\n",
       "    <tr>\n",
       "      <th>6</th>\n",
       "      <td>the freedom convoy you supported which include...</td>\n",
       "      <td>Strong_Pos</td>\n",
       "      <td>freedom convoy supported included diagolon acc...</td>\n",
       "    </tr>\n",
       "    <tr>\n",
       "      <th>7</th>\n",
       "      <td>freedomconvoy</td>\n",
       "      <td>Neutral</td>\n",
       "      <td>freedomconvoy</td>\n",
       "    </tr>\n",
       "    <tr>\n",
       "      <th>8</th>\n",
       "      <td>the freedomconvoy 1 year anniversary. they do ...</td>\n",
       "      <td>Strong_Neg</td>\n",
       "      <td>freedomconvoy 1 year anniversary not like free...</td>\n",
       "    </tr>\n",
       "    <tr>\n",
       "      <th>9</th>\n",
       "      <td>those knee drops remind me of something. oh ri...</td>\n",
       "      <td>Mild_Neg</td>\n",
       "      <td>knee drop remind something oh right trudeaus c...</td>\n",
       "    </tr>\n",
       "  </tbody>\n",
       "</table>\n",
       "</div>"
      ],
      "text/plain": [
       "                                               Tweet   Sentiment  \\\n",
       "0  happy anniversary. the day the freedumb died i...    Mild_Pos   \n",
       "1                     freedom convoy as inkblot test  Strong_Pos   \n",
       "2  well itâs pretty easy to see what their agenda...  Strong_Pos   \n",
       "3  you belong in jail. vaccinemandates crimesagai...     Neutral   \n",
       "4  freedumbconvoy freedomconvoy freedumbers freed...     Neutral   \n",
       "5  your head is so far up trudeauâs ass you can s...  Strong_Pos   \n",
       "6  the freedom convoy you supported which include...  Strong_Pos   \n",
       "7                                      freedomconvoy     Neutral   \n",
       "8  the freedomconvoy 1 year anniversary. they do ...  Strong_Neg   \n",
       "9  those knee drops remind me of something. oh ri...    Mild_Neg   \n",
       "\n",
       "                                       cleaned_tweet  \n",
       "0  happy anniversary day freedumb died tune mclea...  \n",
       "1                        freedom convoy inkblot test  \n",
       "2  well itâs pretty easy see agenda pierre remain...  \n",
       "3  belong jail vaccinemandates crimesagainsthuman...  \n",
       "4  freedumbconvoy freedomconvoy freedumbers freed...  \n",
       "5  head far trudeauâs as see lunch trudeau doesnâ...  \n",
       "6  freedom convoy supported included diagolon acc...  \n",
       "7                                      freedomconvoy  \n",
       "8  freedomconvoy 1 year anniversary not like free...  \n",
       "9  knee drop remind something oh right trudeaus c...  "
      ]
     },
     "execution_count": 32,
     "metadata": {},
     "output_type": "execute_result"
    }
   ],
   "source": [
    "# Apply to dataset\n",
    "dataset['cleaned_tweet'] = dataset['Tweet'].apply(clean_tokens)\n",
    "dataset.head(10)"
   ]
  },
  {
   "cell_type": "markdown",
   "id": "bfMagel7CIVH",
   "metadata": {
    "id": "bfMagel7CIVH"
   },
   "source": [
    "### Extract Features and Analyze **Separability**"
   ]
  },
  {
   "cell_type": "code",
   "execution_count": 34,
   "id": "ZttswQ4jJlM3",
   "metadata": {
    "id": "ZttswQ4jJlM3"
   },
   "outputs": [
    {
     "data": {
      "text/html": [
       "<div>\n",
       "<style scoped>\n",
       "    .dataframe tbody tr th:only-of-type {\n",
       "        vertical-align: middle;\n",
       "    }\n",
       "\n",
       "    .dataframe tbody tr th {\n",
       "        vertical-align: top;\n",
       "    }\n",
       "\n",
       "    .dataframe thead th {\n",
       "        text-align: right;\n",
       "    }\n",
       "</style>\n",
       "<table border=\"1\" class=\"dataframe\">\n",
       "  <thead>\n",
       "    <tr style=\"text-align: right;\">\n",
       "      <th></th>\n",
       "      <th>Tweet</th>\n",
       "      <th>Sentiment</th>\n",
       "      <th>cleaned_tweet</th>\n",
       "    </tr>\n",
       "  </thead>\n",
       "  <tbody>\n",
       "    <tr>\n",
       "      <th>0</th>\n",
       "      <td>happy anniversary. the day the freedumb died i...</td>\n",
       "      <td>Mild_Pos</td>\n",
       "      <td>happy anniversary day freedumb died tune mclea...</td>\n",
       "    </tr>\n",
       "    <tr>\n",
       "      <th>1</th>\n",
       "      <td>freedom convoy as inkblot test</td>\n",
       "      <td>Strong_Pos</td>\n",
       "      <td>freedom convoy inkblot test</td>\n",
       "    </tr>\n",
       "    <tr>\n",
       "      <th>2</th>\n",
       "      <td>well itâs pretty easy to see what their agenda...</td>\n",
       "      <td>Strong_Pos</td>\n",
       "      <td>well itâs pretty easy see agenda pierre remain...</td>\n",
       "    </tr>\n",
       "    <tr>\n",
       "      <th>3</th>\n",
       "      <td>you belong in jail. vaccinemandates crimesagai...</td>\n",
       "      <td>Neutral</td>\n",
       "      <td>belong jail vaccinemandates crimesagainsthuman...</td>\n",
       "    </tr>\n",
       "    <tr>\n",
       "      <th>4</th>\n",
       "      <td>freedumbconvoy freedomconvoy freedumbers freed...</td>\n",
       "      <td>Neutral</td>\n",
       "      <td>freedumbconvoy freedomconvoy freedumbers freed...</td>\n",
       "    </tr>\n",
       "    <tr>\n",
       "      <th>5</th>\n",
       "      <td>your head is so far up trudeauâs ass you can s...</td>\n",
       "      <td>Strong_Pos</td>\n",
       "      <td>head far trudeauâs as see lunch trudeau doesnâ...</td>\n",
       "    </tr>\n",
       "    <tr>\n",
       "      <th>6</th>\n",
       "      <td>the freedom convoy you supported which include...</td>\n",
       "      <td>Strong_Pos</td>\n",
       "      <td>freedom convoy supported included diagolon acc...</td>\n",
       "    </tr>\n",
       "    <tr>\n",
       "      <th>7</th>\n",
       "      <td>freedomconvoy</td>\n",
       "      <td>Neutral</td>\n",
       "      <td>freedomconvoy</td>\n",
       "    </tr>\n",
       "    <tr>\n",
       "      <th>8</th>\n",
       "      <td>the freedomconvoy 1 year anniversary. they do ...</td>\n",
       "      <td>Strong_Neg</td>\n",
       "      <td>freedomconvoy 1 year anniversary not like free...</td>\n",
       "    </tr>\n",
       "    <tr>\n",
       "      <th>9</th>\n",
       "      <td>those knee drops remind me of something. oh ri...</td>\n",
       "      <td>Mild_Neg</td>\n",
       "      <td>knee drop remind something oh right trudeaus c...</td>\n",
       "    </tr>\n",
       "  </tbody>\n",
       "</table>\n",
       "</div>"
      ],
      "text/plain": [
       "                                               Tweet   Sentiment  \\\n",
       "0  happy anniversary. the day the freedumb died i...    Mild_Pos   \n",
       "1                     freedom convoy as inkblot test  Strong_Pos   \n",
       "2  well itâs pretty easy to see what their agenda...  Strong_Pos   \n",
       "3  you belong in jail. vaccinemandates crimesagai...     Neutral   \n",
       "4  freedumbconvoy freedomconvoy freedumbers freed...     Neutral   \n",
       "5  your head is so far up trudeauâs ass you can s...  Strong_Pos   \n",
       "6  the freedom convoy you supported which include...  Strong_Pos   \n",
       "7                                      freedomconvoy     Neutral   \n",
       "8  the freedomconvoy 1 year anniversary. they do ...  Strong_Neg   \n",
       "9  those knee drops remind me of something. oh ri...    Mild_Neg   \n",
       "\n",
       "                                       cleaned_tweet  \n",
       "0  happy anniversary day freedumb died tune mclea...  \n",
       "1                        freedom convoy inkblot test  \n",
       "2  well itâs pretty easy see agenda pierre remain...  \n",
       "3  belong jail vaccinemandates crimesagainsthuman...  \n",
       "4  freedumbconvoy freedomconvoy freedumbers freed...  \n",
       "5  head far trudeauâs as see lunch trudeau doesnâ...  \n",
       "6  freedom convoy supported included diagolon acc...  \n",
       "7                                      freedomconvoy  \n",
       "8  freedomconvoy 1 year anniversary not like free...  \n",
       "9  knee drop remind something oh right trudeaus c...  "
      ]
     },
     "execution_count": 34,
     "metadata": {},
     "output_type": "execute_result"
    }
   ],
   "source": [
    "dataset.head(10)"
   ]
  },
  {
   "cell_type": "code",
   "execution_count": 35,
   "id": "N6UWWYxCCHQw",
   "metadata": {
    "id": "N6UWWYxCCHQw"
   },
   "outputs": [
    {
     "name": "stdout",
     "output_type": "stream",
     "text": [
      "\n",
      "==================================================\n",
      "FEATURE EXTRACTION & SEPARABILITY\n",
      "==================================================\n",
      "Top separability features:\n",
      "word_count: 1.0961\n",
      "tweet_length: 1.0873\n"
     ]
    },
    {
     "data": {
      "image/png": "[encoded data removed]",
      "text/plain": [
       "<Figure size 800x500 with 1 Axes>"
      ]
     },
     "metadata": {},
     "output_type": "display_data"
    },
    {
     "data": {
      "image/png": "[encoded data removed]",
      "text/plain": [
       "<Figure size 800x500 with 1 Axes>"
      ]
     },
     "metadata": {},
     "output_type": "display_data"
    }
   ],
   "source": [
    "if dataset is not None:\n",
    "    print(\"\\n\" + \"=\"*50 + \"\\nFEATURE EXTRACTION & SEPARABILITY\\n\" + \"=\"*50)\n",
    "\n",
    "    # Extract features\n",
    "    dataset['tweet_length'] = dataset['cleaned_tweet'].str.len()\n",
    "    dataset['word_count'] = dataset['cleaned_tweet'].str.split().str.len()\n",
    "    #dataset['avg_word_length'] = dataset['tweet_length'] / dataset['word_count'].replace(0, 1)\n",
    "    # dataset['exclamation_count'] = dataset['cleaned_tweet'].str.count('!')\n",
    "    # dataset['uppercase_ratio'] = dataset['cleaned_tweet'].str.count(r'[A-Z]') / dataset['tweet_length'].replace(0, 1)\n",
    "    # dataset['hashtag_count'] = dataset['cleaned_tweet'].str.count('#')\n",
    "\n",
    "    #positive_words = ['good', 'great', 'awesome']\n",
    "    #negative_words = ['bad', 'terrible', 'awful']\n",
    "    #dataset['positive_word_count'] = dataset['cleaned_tweet'].str.lower().str.count('|'.join(positive_words))\n",
    "    #dataset['negative_word_count'] = dataset['cleaned_tweet'].str.lower().str.count('|'.join(negative_words))\n",
    "    #dataset['sentiment_score'] = dataset['positive_word_count'] - dataset['negative_word_count']\n",
    "\n",
    "    # Class separability\n",
    "    feature_columns = ['tweet_length', 'word_count']#, 'avg_word_length',          #'exclamation_count','uppercase_ratio', 'hashtag_count',\n",
    "                       #'positive_word_count',\n",
    "                      #negative_word_count', 'sentiment_score']\n",
    "\n",
    "    separability_scores = {}\n",
    "    for feature in feature_columns:\n",
    "        overall_var = dataset[feature].var()\n",
    "        class_vars = dataset.groupby('Sentiment')[feature].var().mean()\n",
    "        separability_scores[feature] = overall_var / (class_vars + 1e-10)\n",
    "\n",
    "    sorted_features = sorted(separability_scores.items(), key=lambda x: x[1], reverse=True)\n",
    "    best_features = [f[0] for f in sorted_features[:3]]\n",
    "\n",
    "    print(\"Top separability features:\")\n",
    "    for feature, score in sorted_features[:3]:\n",
    "        print(f\"{feature}: {score:.4f}\")\n",
    "\n",
    "    # Visualize top features\n",
    "    for feature in best_features:\n",
    "        plt.figure(figsize=(8, 5))\n",
    "        sns.boxplot(x='Sentiment', y=feature, data=dataset)\n",
    "        plt.title(f'{feature} by Sentiment')\n",
    "        plt.xticks(rotation=45)\n",
    "        plt.tight_layout()\n",
    "        plt.show()"
   ]
  },
  {
   "cell_type": "code",
   "execution_count": 36,
   "id": "e66T1Jc8CQd9",
   "metadata": {
    "id": "e66T1Jc8CQd9"
   },
   "outputs": [
    {
     "data": {
      "text/html": [
       "<div>\n",
       "<style scoped>\n",
       "    .dataframe tbody tr th:only-of-type {\n",
       "        vertical-align: middle;\n",
       "    }\n",
       "\n",
       "    .dataframe tbody tr th {\n",
       "        vertical-align: top;\n",
       "    }\n",
       "\n",
       "    .dataframe thead th {\n",
       "        text-align: right;\n",
       "    }\n",
       "</style>\n",
       "<table border=\"1\" class=\"dataframe\">\n",
       "  <thead>\n",
       "    <tr style=\"text-align: right;\">\n",
       "      <th></th>\n",
       "      <th>Tweet</th>\n",
       "      <th>Sentiment</th>\n",
       "      <th>cleaned_tweet</th>\n",
       "      <th>tweet_length</th>\n",
       "      <th>word_count</th>\n",
       "    </tr>\n",
       "  </thead>\n",
       "  <tbody>\n",
       "    <tr>\n",
       "      <th>0</th>\n",
       "      <td>happy anniversary. the day the freedumb died i...</td>\n",
       "      <td>Mild_Pos</td>\n",
       "      <td>happy anniversary day freedumb died tune mclea...</td>\n",
       "      <td>133</td>\n",
       "      <td>15</td>\n",
       "    </tr>\n",
       "    <tr>\n",
       "      <th>1</th>\n",
       "      <td>freedom convoy as inkblot test</td>\n",
       "      <td>Strong_Pos</td>\n",
       "      <td>freedom convoy inkblot test</td>\n",
       "      <td>27</td>\n",
       "      <td>4</td>\n",
       "    </tr>\n",
       "    <tr>\n",
       "      <th>2</th>\n",
       "      <td>well itâs pretty easy to see what their agenda...</td>\n",
       "      <td>Strong_Pos</td>\n",
       "      <td>well itâs pretty easy see agenda pierre remain...</td>\n",
       "      <td>99</td>\n",
       "      <td>16</td>\n",
       "    </tr>\n",
       "    <tr>\n",
       "      <th>3</th>\n",
       "      <td>you belong in jail. vaccinemandates crimesagai...</td>\n",
       "      <td>Neutral</td>\n",
       "      <td>belong jail vaccinemandates crimesagainsthuman...</td>\n",
       "      <td>83</td>\n",
       "      <td>6</td>\n",
       "    </tr>\n",
       "    <tr>\n",
       "      <th>4</th>\n",
       "      <td>freedumbconvoy freedomconvoy freedumbers freed...</td>\n",
       "      <td>Neutral</td>\n",
       "      <td>freedumbconvoy freedomconvoy freedumbers freed...</td>\n",
       "      <td>57</td>\n",
       "      <td>5</td>\n",
       "    </tr>\n",
       "    <tr>\n",
       "      <th>5</th>\n",
       "      <td>your head is so far up trudeauâs ass you can s...</td>\n",
       "      <td>Strong_Pos</td>\n",
       "      <td>head far trudeauâs as see lunch trudeau doesnâ...</td>\n",
       "      <td>136</td>\n",
       "      <td>19</td>\n",
       "    </tr>\n",
       "    <tr>\n",
       "      <th>6</th>\n",
       "      <td>the freedom convoy you supported which include...</td>\n",
       "      <td>Strong_Pos</td>\n",
       "      <td>freedom convoy supported included diagolon acc...</td>\n",
       "      <td>123</td>\n",
       "      <td>17</td>\n",
       "    </tr>\n",
       "    <tr>\n",
       "      <th>7</th>\n",
       "      <td>freedomconvoy</td>\n",
       "      <td>Neutral</td>\n",
       "      <td>freedomconvoy</td>\n",
       "      <td>13</td>\n",
       "      <td>1</td>\n",
       "    </tr>\n",
       "    <tr>\n",
       "      <th>8</th>\n",
       "      <td>the freedomconvoy 1 year anniversary. they do ...</td>\n",
       "      <td>Strong_Neg</td>\n",
       "      <td>freedomconvoy 1 year anniversary not like free...</td>\n",
       "      <td>57</td>\n",
       "      <td>8</td>\n",
       "    </tr>\n",
       "    <tr>\n",
       "      <th>9</th>\n",
       "      <td>those knee drops remind me of something. oh ri...</td>\n",
       "      <td>Mild_Neg</td>\n",
       "      <td>knee drop remind something oh right trudeaus c...</td>\n",
       "      <td>84</td>\n",
       "      <td>11</td>\n",
       "    </tr>\n",
       "  </tbody>\n",
       "</table>\n",
       "</div>"
      ],
      "text/plain": [
       "                                               Tweet   Sentiment  \\\n",
       "0  happy anniversary. the day the freedumb died i...    Mild_Pos   \n",
       "1                     freedom convoy as inkblot test  Strong_Pos   \n",
       "2  well itâs pretty easy to see what their agenda...  Strong_Pos   \n",
       "3  you belong in jail. vaccinemandates crimesagai...     Neutral   \n",
       "4  freedumbconvoy freedomconvoy freedumbers freed...     Neutral   \n",
       "5  your head is so far up trudeauâs ass you can s...  Strong_Pos   \n",
       "6  the freedom convoy you supported which include...  Strong_Pos   \n",
       "7                                      freedomconvoy     Neutral   \n",
       "8  the freedomconvoy 1 year anniversary. they do ...  Strong_Neg   \n",
       "9  those knee drops remind me of something. oh ri...    Mild_Neg   \n",
       "\n",
       "                                       cleaned_tweet  tweet_length  word_count  \n",
       "0  happy anniversary day freedumb died tune mclea...           133          15  \n",
       "1                        freedom convoy inkblot test            27           4  \n",
       "2  well itâs pretty easy see agenda pierre remain...            99          16  \n",
       "3  belong jail vaccinemandates crimesagainsthuman...            83           6  \n",
       "4  freedumbconvoy freedomconvoy freedumbers freed...            57           5  \n",
       "5  head far trudeauâs as see lunch trudeau doesnâ...           136          19  \n",
       "6  freedom convoy supported included diagolon acc...           123          17  \n",
       "7                                      freedomconvoy            13           1  \n",
       "8  freedomconvoy 1 year anniversary not like free...            57           8  \n",
       "9  knee drop remind something oh right trudeaus c...            84          11  "
      ]
     },
     "execution_count": 36,
     "metadata": {},
     "output_type": "execute_result"
    }
   ],
   "source": [
    "dataset.head(10)"
   ]
  },
  {
   "cell_type": "code",
   "execution_count": 37,
   "id": "XiUFsQB9Kft_",
   "metadata": {
    "id": "XiUFsQB9Kft_"
   },
   "outputs": [
    {
     "name": "stdout",
     "output_type": "stream",
     "text": [
      "Index(['Tweet', 'Sentiment', 'cleaned_tweet', 'tweet_length', 'word_count'], dtype='object')\n"
     ]
    }
   ],
   "source": [
    "print(dataset.columns)"
   ]
  },
  {
   "cell_type": "code",
   "execution_count": 38,
   "id": "TPpO9oYqKmWV",
   "metadata": {
    "id": "TPpO9oYqKmWV"
   },
   "outputs": [
    {
     "name": "stdout",
     "output_type": "stream",
     "text": [
      "Tweet :  384122\n",
      "Sentiment :  5\n",
      "cleaned_tweet :  380386\n",
      "tweet_length :  408\n",
      "word_count :  93\n"
     ]
    }
   ],
   "source": [
    "for d in dataset.columns:\n",
    "  print(d, \": \", dataset[d].nunique())"
   ]
  },
  {
   "cell_type": "code",
   "execution_count": 39,
   "id": "dSdps3LhG0Nw",
   "metadata": {
    "id": "dSdps3LhG0Nw"
   },
   "outputs": [],
   "source": [
    "# dataset.to_csv('/content/drive/My Drive/Colab_Notebooks/processed_tweets.csv', index=False)"
   ]
  },
  {
   "cell_type": "code",
   "execution_count": 40,
   "id": "FMwO9aSBNjJu",
   "metadata": {
    "id": "FMwO9aSBNjJu"
   },
   "outputs": [],
   "source": [
    "# file_path = '/content/drive/My Drive/Colab_Notebooks/processed_tweets.csv'\n",
    "# # Load data\n",
    "# try:\n",
    "#     dataset = pd.read_csv(file_path, encoding='utf-8')\n",
    "#     print(f\"Loaded data (UTF-8). Shape: {dataset.shape}\")\n",
    "# except UnicodeDecodeError:\n",
    "#     dataset = pd.read_csv(file_path, encoding='ISO-8859-1')\n",
    "#     print(f\"Loaded data (ISO-8859-1). Shape: {dataset.shape}\")\n",
    "# except Exception as e:\n",
    "#     print(f\"Error loading data: {e}\")\n",
    "#     dataset = None\n",
    "\n",
    "\n",
    "# dataset.head()"
   ]
  },
  {
   "cell_type": "markdown",
   "id": "6da6304e-ff97-47ba-84f4-b7f61800f6d7",
   "metadata": {
    "id": "6da6304e-ff97-47ba-84f4-b7f61800f6d7"
   },
   "source": [
    "# SVM using GloVe"
   ]
  },
  {
   "cell_type": "code",
   "execution_count": 42,
   "id": "a7a317e0-2cf1-4eca-80c0-60bbca08f3d4",
   "metadata": {
    "id": "a7a317e0-2cf1-4eca-80c0-60bbca08f3d4"
   },
   "outputs": [
    {
     "data": {
      "text/html": [
       "<div>\n",
       "<style scoped>\n",
       "    .dataframe tbody tr th:only-of-type {\n",
       "        vertical-align: middle;\n",
       "    }\n",
       "\n",
       "    .dataframe tbody tr th {\n",
       "        vertical-align: top;\n",
       "    }\n",
       "\n",
       "    .dataframe thead th {\n",
       "        text-align: right;\n",
       "    }\n",
       "</style>\n",
       "<table border=\"1\" class=\"dataframe\">\n",
       "  <thead>\n",
       "    <tr style=\"text-align: right;\">\n",
       "      <th></th>\n",
       "      <th>Tweet</th>\n",
       "      <th>Sentiment</th>\n",
       "      <th>cleaned_tweet</th>\n",
       "      <th>tweet_length</th>\n",
       "      <th>word_count</th>\n",
       "    </tr>\n",
       "  </thead>\n",
       "  <tbody>\n",
       "    <tr>\n",
       "      <th>0</th>\n",
       "      <td>happy anniversary. the day the freedumb died i...</td>\n",
       "      <td>Mild_Pos</td>\n",
       "      <td>happy anniversary day freedumb died tune mclea...</td>\n",
       "      <td>133</td>\n",
       "      <td>15</td>\n",
       "    </tr>\n",
       "    <tr>\n",
       "      <th>1</th>\n",
       "      <td>freedom convoy as inkblot test</td>\n",
       "      <td>Strong_Pos</td>\n",
       "      <td>freedom convoy inkblot test</td>\n",
       "      <td>27</td>\n",
       "      <td>4</td>\n",
       "    </tr>\n",
       "    <tr>\n",
       "      <th>2</th>\n",
       "      <td>well itâs pretty easy to see what their agenda...</td>\n",
       "      <td>Strong_Pos</td>\n",
       "      <td>well itâs pretty easy see agenda pierre remain...</td>\n",
       "      <td>99</td>\n",
       "      <td>16</td>\n",
       "    </tr>\n",
       "    <tr>\n",
       "      <th>3</th>\n",
       "      <td>you belong in jail. vaccinemandates crimesagai...</td>\n",
       "      <td>Neutral</td>\n",
       "      <td>belong jail vaccinemandates crimesagainsthuman...</td>\n",
       "      <td>83</td>\n",
       "      <td>6</td>\n",
       "    </tr>\n",
       "    <tr>\n",
       "      <th>4</th>\n",
       "      <td>freedumbconvoy freedomconvoy freedumbers freed...</td>\n",
       "      <td>Neutral</td>\n",
       "      <td>freedumbconvoy freedomconvoy freedumbers freed...</td>\n",
       "      <td>57</td>\n",
       "      <td>5</td>\n",
       "    </tr>\n",
       "    <tr>\n",
       "      <th>5</th>\n",
       "      <td>your head is so far up trudeauâs ass you can s...</td>\n",
       "      <td>Strong_Pos</td>\n",
       "      <td>head far trudeauâs as see lunch trudeau doesnâ...</td>\n",
       "      <td>136</td>\n",
       "      <td>19</td>\n",
       "    </tr>\n",
       "    <tr>\n",
       "      <th>6</th>\n",
       "      <td>the freedom convoy you supported which include...</td>\n",
       "      <td>Strong_Pos</td>\n",
       "      <td>freedom convoy supported included diagolon acc...</td>\n",
       "      <td>123</td>\n",
       "      <td>17</td>\n",
       "    </tr>\n",
       "    <tr>\n",
       "      <th>7</th>\n",
       "      <td>freedomconvoy</td>\n",
       "      <td>Neutral</td>\n",
       "      <td>freedomconvoy</td>\n",
       "      <td>13</td>\n",
       "      <td>1</td>\n",
       "    </tr>\n",
       "    <tr>\n",
       "      <th>8</th>\n",
       "      <td>the freedomconvoy 1 year anniversary. they do ...</td>\n",
       "      <td>Strong_Neg</td>\n",
       "      <td>freedomconvoy 1 year anniversary not like free...</td>\n",
       "      <td>57</td>\n",
       "      <td>8</td>\n",
       "    </tr>\n",
       "    <tr>\n",
       "      <th>9</th>\n",
       "      <td>those knee drops remind me of something. oh ri...</td>\n",
       "      <td>Mild_Neg</td>\n",
       "      <td>knee drop remind something oh right trudeaus c...</td>\n",
       "      <td>84</td>\n",
       "      <td>11</td>\n",
       "    </tr>\n",
       "  </tbody>\n",
       "</table>\n",
       "</div>"
      ],
      "text/plain": [
       "                                               Tweet   Sentiment  \\\n",
       "0  happy anniversary. the day the freedumb died i...    Mild_Pos   \n",
       "1                     freedom convoy as inkblot test  Strong_Pos   \n",
       "2  well itâs pretty easy to see what their agenda...  Strong_Pos   \n",
       "3  you belong in jail. vaccinemandates crimesagai...     Neutral   \n",
       "4  freedumbconvoy freedomconvoy freedumbers freed...     Neutral   \n",
       "5  your head is so far up trudeauâs ass you can s...  Strong_Pos   \n",
       "6  the freedom convoy you supported which include...  Strong_Pos   \n",
       "7                                      freedomconvoy     Neutral   \n",
       "8  the freedomconvoy 1 year anniversary. they do ...  Strong_Neg   \n",
       "9  those knee drops remind me of something. oh ri...    Mild_Neg   \n",
       "\n",
       "                                       cleaned_tweet  tweet_length  word_count  \n",
       "0  happy anniversary day freedumb died tune mclea...           133          15  \n",
       "1                        freedom convoy inkblot test            27           4  \n",
       "2  well itâs pretty easy see agenda pierre remain...            99          16  \n",
       "3  belong jail vaccinemandates crimesagainsthuman...            83           6  \n",
       "4  freedumbconvoy freedomconvoy freedumbers freed...            57           5  \n",
       "5  head far trudeauâs as see lunch trudeau doesnâ...           136          19  \n",
       "6  freedom convoy supported included diagolon acc...           123          17  \n",
       "7                                      freedomconvoy            13           1  \n",
       "8  freedomconvoy 1 year anniversary not like free...            57           8  \n",
       "9  knee drop remind something oh right trudeaus c...            84          11  "
      ]
     },
     "execution_count": 42,
     "metadata": {},
     "output_type": "execute_result"
    }
   ],
   "source": [
    "dataset.head(10)"
   ]
  },
  {
   "cell_type": "markdown",
   "id": "e7da97c5-ed21-42e1-bfe5-2d0adb22930c",
   "metadata": {
    "id": "e7da97c5-ed21-42e1-bfe5-2d0adb22930c"
   },
   "source": [
    "## Writing Code For Model"
   ]
  },
  {
   "cell_type": "code",
   "execution_count": 44,
   "id": "313e1f99-b6ae-4608-8af2-488c3175a00a",
   "metadata": {
    "id": "313e1f99-b6ae-4608-8af2-488c3175a00a"
   },
   "outputs": [],
   "source": [
    "#Importing libraries for model building\n",
    "from imblearn.over_sampling import SMOTE\n",
    "from imblearn.under_sampling import RandomUnderSampler\n",
    "\n",
    "import time\n",
    "from sklearn.preprocessing import LabelEncoder\n",
    "from sklearn.model_selection import train_test_split\n",
    "from sklearn.svm import SVC\n",
    "from sklearn.metrics import classification_report, accuracy_score"
   ]
  },
  {
   "cell_type": "code",
   "execution_count": 45,
   "id": "06aac535-e0a2-4598-ad85-14b6e464eaca",
   "metadata": {
    "id": "06aac535-e0a2-4598-ad85-14b6e464eaca"
   },
   "outputs": [],
   "source": [
    "# !curl -L -O http://nlp.stanford.edu/data/glove.6B.zip\n",
    "# !unzip glove.6B.zip"
   ]
  },
  {
   "cell_type": "code",
   "execution_count": 46,
   "id": "cf2a3fcf-1f64-4624-af2b-d42a65d73952",
   "metadata": {
    "id": "cf2a3fcf-1f64-4624-af2b-d42a65d73952"
   },
   "outputs": [
    {
     "name": "stdout",
     "output_type": "stream",
     "text": [
      "Loading GloVe embeddings...\n",
      "  Loaded 100000 lines...\n",
      "  Loaded 200000 lines...\n",
      "  Loaded 300000 lines...\n",
      "Completed loading 400000 word vectors in 1.51 seconds.\n",
      "\n"
     ]
    }
   ],
   "source": [
    "# Load GloVe vectors\n",
    "def load_glove_embeddings(filepath):\n",
    "    embeddings = {}\n",
    "    print(\"Loading GloVe embeddings...\")\n",
    "    start_time = time.time()\n",
    "    with open(filepath, encoding='utf8') as f:\n",
    "        for i, line in enumerate(f):\n",
    "            values = line.strip().split()\n",
    "            word = values[0]\n",
    "            vector = np.asarray(values[1:], dtype='float32')\n",
    "            embeddings[word] = vector\n",
    "            if i % 100000 == 0 and i > 0:\n",
    "                print(f\"  Loaded {i} lines...\")\n",
    "    duration = time.time() - start_time\n",
    "    print(f\"Completed loading {len(embeddings)} word vectors in {duration:.2f} seconds.\\n\")\n",
    "    return embeddings\n",
    "\n",
    "glove_path = 'glove.6B.50d.txt'  # Update this path\n",
    "glove_embeddings = load_glove_embeddings(glove_path)\n",
    "embedding_dim = 50\n"
   ]
  },
  {
   "cell_type": "code",
   "execution_count": 47,
   "id": "u2etrYgrQF8P",
   "metadata": {
    "id": "u2etrYgrQF8P"
   },
   "outputs": [
    {
     "data": {
      "text/plain": [
       "'happy anniversary day freedumb died tune mcleans american pie freedumbconvoy freedumbers flutruxklan convoywatch convoy freedomconvoy'"
      ]
     },
     "execution_count": 47,
     "metadata": {},
     "output_type": "execute_result"
    }
   ],
   "source": [
    "dataset['cleaned_tweet'][0]"
   ]
  },
  {
   "cell_type": "code",
   "execution_count": 48,
   "id": "348a28c2-595c-4bb6-b910-f649fcd666c2",
   "metadata": {
    "id": "348a28c2-595c-4bb6-b910-f649fcd666c2"
   },
   "outputs": [
    {
     "name": "stdout",
     "output_type": "stream",
     "text": [
      "Vectorizing tweets...\n",
      "Vectorization done in 2.53 seconds\n",
      "\n"
     ]
    }
   ],
   "source": [
    "import time\n",
    "\n",
    "# Modify vectorize_text to handle non-string values\n",
    "def vectorize_text(text, glove, dim=50):\n",
    "    if not isinstance(text, str):  # Check if the text is a string\n",
    "        return np.zeros(dim)  # Return zero vector for non-string values\n",
    "\n",
    "    words = text.split()\n",
    "    valid_vectors = [glove[word] for word in words if word in glove]\n",
    "    if valid_vectors:\n",
    "        return np.mean(valid_vectors, axis=0)\n",
    "    else:\n",
    "        return np.zeros(dim)\n",
    "\n",
    "print(\"Vectorizing tweets...\")\n",
    "start = time.time()\n",
    "\n",
    "X = np.vstack(dataset['cleaned_tweet'].apply(lambda x: vectorize_text(str(x), glove_embeddings, embedding_dim)))\n",
    "print(f\"Vectorization done in {time.time()-start:.2f} seconds\\n\")\n"
   ]
  },
  {
   "cell_type": "code",
   "execution_count": 49,
   "id": "4e6ac67d-d388-427b-8593-b63b6614b4f5",
   "metadata": {
    "id": "4e6ac67d-d388-427b-8593-b63b6614b4f5"
   },
   "outputs": [
    {
     "name": "stdout",
     "output_type": "stream",
     "text": [
      "Encoding labels...\n",
      "\u001b[1mMild_Neg\u001b[0m --> \u001b[1m0\u001b[0m\n",
      "\u001b[1mMild_Pos\u001b[0m --> \u001b[1m1\u001b[0m\n",
      "\u001b[1mNeutral\u001b[0m --> \u001b[1m2\u001b[0m\n",
      "\u001b[1mStrong_Neg\u001b[0m --> \u001b[1m3\u001b[0m\n",
      "\u001b[1mStrong_Pos\u001b[0m --> \u001b[1m4\u001b[0m\n",
      "Encoded labels in 0.0203 seconds.\n",
      "\n"
     ]
    }
   ],
   "source": [
    "# 3. Encode labels with timing\n",
    "print(\"Encoding labels...\")\n",
    "start_time = time.time()\n",
    "le = LabelEncoder()\n",
    "y = le.fit_transform(dataset['Sentiment'])\n",
    "duration = time.time() - start_time\n",
    "label_mapping = dict(zip(le.classes_, le.transform(le.classes_)))\n",
    "for label, code in label_mapping.items():\n",
    "    print(f\"\\033[1m{label}\\033[0m --> \\033[1m{code}\\033[0m\")\n",
    "print(f\"Encoded labels in {duration:.4f} seconds.\\n\")"
   ]
  },
  {
   "cell_type": "code",
   "execution_count": 50,
   "id": "n-tvOHXkRCPj",
   "metadata": {
    "id": "n-tvOHXkRCPj"
   },
   "outputs": [
    {
     "data": {
      "text/plain": [
       "Index(['Tweet', 'Sentiment', 'cleaned_tweet', 'tweet_length', 'word_count'], dtype='object')"
      ]
     },
     "execution_count": 50,
     "metadata": {},
     "output_type": "execute_result"
    }
   ],
   "source": [
    "dataset.columns"
   ]
  },
  {
   "cell_type": "markdown",
   "id": "5nehpb5MRI6T",
   "metadata": {
    "id": "5nehpb5MRI6T"
   },
   "source": [
    "['tweet_length', 'word_count',\n",
    "       'avg_word_length', 'positive_word_count', 'negative_word_count',\n",
    "       'sentiment_score']"
   ]
  },
  {
   "cell_type": "code",
   "execution_count": 52,
   "id": "4cPN31oYRAZH",
   "metadata": {
    "id": "4cPN31oYRAZH"
   },
   "outputs": [
    {
     "name": "stdout",
     "output_type": "stream",
     "text": [
      "Features shape after adding numerical features: (384260, 52)\n",
      "\n"
     ]
    }
   ],
   "source": [
    "# Stack original embeddings + new features\n",
    "additional_features = dataset[['tweet_length', 'word_count']]#, 'avg_word_length', 'positive_word_count', 'negative_word_count', 'sentiment_score']].values\n",
    "X = np.hstack((X, additional_features))\n",
    "\n",
    "print(f\"Features shape after adding numerical features: {X.shape}\\n\")"
   ]
  },
  {
   "cell_type": "code",
   "execution_count": 53,
   "id": "4d2791a7-7e01-4969-90be-3c37b962efc1",
   "metadata": {
    "id": "4d2791a7-7e01-4969-90be-3c37b962efc1"
   },
   "outputs": [
    {
     "data": {
      "text/plain": [
       "(384260, 52)"
      ]
     },
     "execution_count": 53,
     "metadata": {},
     "output_type": "execute_result"
    }
   ],
   "source": [
    "X.shape"
   ]
  },
  {
   "cell_type": "code",
   "execution_count": 54,
   "id": "f7fe145f-5fe8-411c-954a-7a2c654b0af5",
   "metadata": {
    "id": "f7fe145f-5fe8-411c-954a-7a2c654b0af5"
   },
   "outputs": [
    {
     "name": "stdout",
     "output_type": "stream",
     "text": [
      "Splitting data into train and test sets...\n",
      "Training samples: 307408\n",
      "Testing samples: 76852\n",
      "Split done in 0.0425 seconds.\n",
      "\n"
     ]
    }
   ],
   "source": [
    "# 4. Train-test split with timing\n",
    "print(\"Splitting data into train and test sets...\")\n",
    "start_time = time.time()\n",
    "X_train, X_test, y_train, y_test = train_test_split(X, y, test_size=0.2, random_state=42)\n",
    "duration = time.time() - start_time\n",
    "print(f\"Training samples: {len(X_train)}\")\n",
    "print(f\"Testing samples: {len(X_test)}\")\n",
    "print(f\"Split done in {duration:.4f} seconds.\\n\")"
   ]
  },
  {
   "cell_type": "code",
   "execution_count": 55,
   "id": "6e65cc99-3c7d-48ac-9483-32107f71f438",
   "metadata": {},
   "outputs": [],
   "source": [
    "# smote = SMOTE(random_state=42)\n",
    "# X_train_resampled, y_train_resampled = smote.fit_resample(X_train, y_train)\n",
    "\n",
    "# Step 5: Undersample the training data using RandomUnderSampler\n",
    "undersampler = RandomUnderSampler(random_state=42)\n",
    "X_train_resampled, y_train_resampled = undersampler.fit_resample(X_train, y_train)\n"
   ]
  },
  {
   "cell_type": "code",
   "execution_count": 56,
   "id": "822786a7-e11d-4b87-a184-faca4335f2b1",
   "metadata": {},
   "outputs": [
    {
     "data": {
      "text/plain": [
       "(119400, 52)"
      ]
     },
     "execution_count": 56,
     "metadata": {},
     "output_type": "execute_result"
    }
   ],
   "source": [
    "X_train_resampled.shape"
   ]
  },
  {
   "cell_type": "code",
   "execution_count": 130,
   "id": "ae65718d-8957-4cc2-9b7b-98ef441d9a34",
   "metadata": {},
   "outputs": [],
   "source": [
    "from sklearn.preprocessing import label_binarize\n",
    "from sklearn.multiclass import OneVsRestClassifier"
   ]
  },
  {
   "cell_type": "code",
   "execution_count": null,
   "id": "bae5a867-b73f-4326-ad9d-1d8ae672ab5b",
   "metadata": {
    "colab": {
     "base_uri": "https://localhost:8080/"
    },
    "id": "bae5a867-b73f-4326-ad9d-1d8ae672ab5b",
    "outputId": "74dd8273-6113-4b75-a1b8-cf89d24c7d7b"
   },
   "outputs": [
    {
     "name": "stdout",
     "output_type": "stream",
     "text": [
      "Training SVM classifier...\n"
     ]
    }
   ],
   "source": [
    "# 5. Train SVM with timing\n",
    "print(\"Training SVM classifier...\")\n",
    "start_time = time.time()\n",
    "\n",
    "#clf = SVC(kernel='rbf', class_weight='balanced', decision_function_shape='ovr')\n",
    "#clf.fit(X_train_resampled, y_train_resampled)\n",
    "\n",
    "clf = OneVsRestClassifier(SVC(kernel='rbf', class_weight='balanced', probability=True))\n",
    "clf.fit(X_train_resampled, y_train_resampled)\n",
    "\n",
    "print(clf)\n",
    "\n",
    "duration = time.time() - start_time\n",
    "print(f\"Training completed in {duration:.2f} seconds.\\n\")"
   ]
  },
  {
   "cell_type": "code",
   "execution_count": null,
   "id": "e5e48de8-aed4-47af-bc8b-d41be9d18454",
   "metadata": {
    "id": "e5e48de8-aed4-47af-bc8b-d41be9d18454"
   },
   "outputs": [],
   "source": [
    "# 6. Predict and evaluate with timing\n",
    "print(\"Evaluating model...\")\n",
    "start_time = time.time()\n",
    "y_pred = clf.predict(X_test)\n",
    "duration = time.time() - start_time\n",
    "acc = accuracy_score(y_test, y_pred)\n",
    "print(f\"Prediction done in {duration:.4f} seconds.\")\n",
    "print(f\"Accuracy: {acc:.4f}\\n\")\n",
    "print(\"Classification Report:\")\n",
    "print(classification_report(y_test, y_pred, target_names=le.classes_))\n"
   ]
  },
  {
   "cell_type": "code",
   "execution_count": null,
   "id": "8f19229e-7420-492a-9546-65fe88efe048",
   "metadata": {},
   "outputs": [],
   "source": [
    "from sklearn.metrics import accuracy_score\n",
    "\n",
    "# Predict on training and test sets\n",
    "y_train_pred = clf.predict(X_train_resampled)\n",
    "\n",
    "# Calculate accuracies\n",
    "train_acc = accuracy_score(y_train_resampled, y_train_pred)\n",
    "test_acc = accuracy_score(y_test, y_pred)\n",
    "\n",
    "print(f\"Training Accuracy: {train_acc:.4f}\")\n",
    "print(f\"Test Accuracy:     {test_acc:.4f}\")\n"
   ]
  },
  {
   "cell_type": "code",
   "execution_count": 60,
   "id": "7hlu6YaidexP",
   "metadata": {
    "id": "7hlu6YaidexP"
   },
   "outputs": [
    {
     "name": "stdout",
     "output_type": "stream",
     "text": [
      "Model and data saved successfully in a single file.\n"
     ]
    }
   ],
   "source": [
    "import pickle\n",
    "\n",
    "# Save the model, label encoder, and data in a single pickle file\n",
    "save_data = {\n",
    "    'svm_model': clf,\n",
    "    # 'svm_model_1vsRest': classifier,\n",
    "    'label_encoder': le,\n",
    "    'X_test': X_test,\n",
    "    'y_test': y_test,\n",
    "    'X_train': X_train,\n",
    "    'y_train': y_train,\n",
    "    'y_pred': y_pred,\n",
    "    'y_train_pred': y_train_pred,\n",
    "    'X_train_resampled': X_train_resampled,\n",
    "    'y_train_resampled': y_train_resampled\n",
    "}\n",
    "\n",
    "with open('rbf_svm_model_and_data_with_undersampling.pkl', 'wb') as f:\n",
    "    pickle.dump(save_data, f)\n",
    "\n",
    "print(\"Model and data saved successfully in a single file.\")"
   ]
  },
  {
   "cell_type": "code",
   "execution_count": 2,
   "id": "SBhey4qGxI_e",
   "metadata": {
    "id": "SBhey4qGxI_e"
   },
   "outputs": [
    {
     "name": "stderr",
     "output_type": "stream",
     "text": [
      "C:\\Users\\GINE\\anaconda3\\Lib\\site-packages\\sklearn\\base.py:318: UserWarning: Trying to unpickle estimator SVC from version 1.5.1 when using version 1.2.2. This might lead to breaking code or invalid results. Use at your own risk. For more info please refer to:\n",
      "https://scikit-learn.org/stable/model_persistence.html#security-maintainability-limitations\n",
      "  warnings.warn(\n",
      "C:\\Users\\GINE\\anaconda3\\Lib\\site-packages\\sklearn\\base.py:318: UserWarning: Trying to unpickle estimator LabelEncoder from version 1.5.1 when using version 1.2.2. This might lead to breaking code or invalid results. Use at your own risk. For more info please refer to:\n",
      "https://scikit-learn.org/stable/model_persistence.html#security-maintainability-limitations\n",
      "  warnings.warn(\n"
     ]
    }
   ],
   "source": [
    "import pickle\n",
    "with open('rbf_svm_model_and_data_with_undersampling.pkl', 'rb') as f:\n",
    "    saved_data = pickle.load(f)\n",
    "\n",
    "# Access the saved data\n",
    "clf = saved_data['svm_model']\n",
    "le = saved_data['label_encoder']\n",
    "X_test = saved_data['X_test']\n",
    "y_test = saved_data['y_test']\n",
    "X_train = saved_data['X_train']\n",
    "y_train = saved_data['y_train']\n",
    "y_pred = saved_data['y_pred']\n",
    "y_train_pred = saved_data['y_train_pred']\n",
    "X_train_resampled = saved_data['X_train_resampled']\n",
    "y_train_resampled = saved_data['y_train_resampled']\n",
    "# classifier_1VsR = saved_data['svm_model_1vsRest']"
   ]
  },
  {
   "cell_type": "code",
   "execution_count": 62,
   "id": "51cc7e03-1fe7-4a95-848b-c148fe7ab51e",
   "metadata": {},
   "outputs": [
    {
     "name": "stdout",
     "output_type": "stream",
     "text": [
      "Training Data Evaluation\n",
      "==================================================\n",
      "\n",
      "Accuracy: 0.3307\n",
      "Precision (macro): 0.3523457304312808\n",
      "Recall (macro): 0.3306532663316583\n",
      "F1 Score (macro): 0.311831682918158\n",
      "Precision (weighted): 0.35234573043128087\n",
      "Recall (weighted): 0.3306532663316583\n",
      "F1 Score (weighted): 0.311831682918158\n",
      "\n",
      "Classification Report:\n",
      "              precision    recall  f1-score   support\n",
      "\n",
      "    Mild_Neg       0.26      0.12      0.16     23880\n",
      "    Mild_Pos       0.25      0.18      0.21     23880\n",
      "     Neutral       0.58      0.31      0.41     23880\n",
      "  Strong_Neg       0.29      0.67      0.40     23880\n",
      "  Strong_Pos       0.38      0.38      0.38     23880\n",
      "\n",
      "    accuracy                           0.33    119400\n",
      "   macro avg       0.35      0.33      0.31    119400\n",
      "weighted avg       0.35      0.33      0.31    119400\n",
      "\n"
     ]
    },
    {
     "data": {
      "image/png": "[encoded data removed]",
      "text/plain": [
       "<Figure size 800x600 with 2 Axes>"
      ]
     },
     "metadata": {},
     "output_type": "display_data"
    }
   ],
   "source": [
    "\n",
    "print(\"Training Data Evaluation\")\n",
    "print(\"=\"*50)\n",
    "print(\"\")\n",
    "\n",
    "from sklearn.metrics import (\n",
    "    accuracy_score,\n",
    "    precision_score,\n",
    "    recall_score,\n",
    "    f1_score,\n",
    "    classification_report,\n",
    "    confusion_matrix\n",
    ")\n",
    "\n",
    "# 1. Accuracy\n",
    "acc = accuracy_score(y_train_resampled, y_train_pred)\n",
    "print(f\"Accuracy: {acc:.4f}\")\n",
    "\n",
    "# 2. Precision, Recall, F1 Score (macro, micro, weighted)\n",
    "print(\"Precision (macro):\", precision_score(y_train_resampled, y_train_pred, average='macro'))\n",
    "print(\"Recall (macro):\", recall_score(y_train_resampled, y_train_pred, average='macro'))\n",
    "print(\"F1 Score (macro):\", f1_score(y_train_resampled, y_train_pred, average='macro'))\n",
    "\n",
    "print(\"Precision (weighted):\", precision_score(y_train_resampled, y_train_pred, average='weighted'))\n",
    "print(\"Recall (weighted):\", recall_score(y_train_resampled, y_train_pred, average='weighted'))\n",
    "print(\"F1 Score (weighted):\", f1_score(y_train_resampled, y_train_pred, average='weighted'))\n",
    "\n",
    "# 3. Classification Report\n",
    "print(\"\\nClassification Report:\")\n",
    "print(classification_report(y_train_resampled, y_train_pred, target_names=le.classes_))\n",
    "\n",
    "# 4. Confusion Matrix\n",
    "cm = confusion_matrix(y_train_resampled, y_train_pred)\n",
    "plt.figure(figsize=(8, 6))\n",
    "sns.heatmap(cm, annot=True, fmt='d', xticklabels=le.classes_, yticklabels=le.classes_, cmap='Blues')\n",
    "plt.xlabel('Predicted')\n",
    "plt.ylabel('True')\n",
    "plt.title('Confusion Matrix For Training Data')\n",
    "plt.show()\n"
   ]
  },
  {
   "cell_type": "code",
   "execution_count": 63,
   "id": "4a2a7735-71a2-400d-9364-33d2f39c8262",
   "metadata": {},
   "outputs": [
    {
     "name": "stdout",
     "output_type": "stream",
     "text": [
      "Testing Data Evaluation\n",
      "==================================================\n",
      "\n",
      "Accuracy: 0.3507\n",
      "Precision (macro): 0.35030713394015217\n",
      "Recall (macro): 0.33174222169521655\n",
      "F1 Score (macro): 0.29189377263031585\n",
      "Precision (weighted): 0.511993267896792\n",
      "Recall (weighted): 0.3506610107739551\n",
      "F1 Score (weighted): 0.38248247381185485\n",
      "\n",
      "Classification Report:\n",
      "              precision    recall  f1-score   support\n",
      "\n",
      "    Mild_Neg       0.11      0.12      0.11      5876\n",
      "    Mild_Pos       0.18      0.18      0.18     10652\n",
      "     Neutral       0.58      0.30      0.40     13154\n",
      "  Strong_Neg       0.17      0.68      0.27      8084\n",
      "  Strong_Pos       0.71      0.38      0.50     39086\n",
      "\n",
      "    accuracy                           0.35     76852\n",
      "   macro avg       0.35      0.33      0.29     76852\n",
      "weighted avg       0.51      0.35      0.38     76852\n",
      "\n"
     ]
    },
    {
     "data": {
      "image/png": "[encoded data removed]",
      "text/plain": [
       "<Figure size 800x600 with 2 Axes>"
      ]
     },
     "metadata": {},
     "output_type": "display_data"
    }
   ],
   "source": [
    "\n",
    "print(\"Testing Data Evaluation\")\n",
    "print(\"=\"*50)\n",
    "print(\"\")\n",
    "\n",
    "from sklearn.metrics import (\n",
    "    accuracy_score,\n",
    "    precision_score,\n",
    "    recall_score,\n",
    "    f1_score,\n",
    "    classification_report,\n",
    "    confusion_matrix\n",
    ")\n",
    "\n",
    "# y_test: true labels\n",
    "# y_pred: predicted labels from model\n",
    "\n",
    "# 1. Accuracy\n",
    "acc = accuracy_score(y_test, y_pred)\n",
    "print(f\"Accuracy: {acc:.4f}\")\n",
    "\n",
    "# 2. Precision, Recall, F1 Score (macro, micro, weighted)\n",
    "print(\"Precision (macro):\", precision_score(y_test, y_pred, average='macro'))\n",
    "print(\"Recall (macro):\", recall_score(y_test, y_pred, average='macro'))\n",
    "print(\"F1 Score (macro):\", f1_score(y_test, y_pred, average='macro'))\n",
    "\n",
    "print(\"Precision (weighted):\", precision_score(y_test, y_pred, average='weighted'))\n",
    "print(\"Recall (weighted):\", recall_score(y_test, y_pred, average='weighted'))\n",
    "print(\"F1 Score (weighted):\", f1_score(y_test, y_pred, average='weighted'))\n",
    "\n",
    "# 3. Classification Report\n",
    "print(\"\\nClassification Report:\")\n",
    "print(classification_report(y_test, y_pred, target_names=le.classes_))\n",
    "\n",
    "# 4. Confusion Matrix\n",
    "cm = confusion_matrix(y_test, y_pred)\n",
    "plt.figure(figsize=(8, 6))\n",
    "sns.heatmap(cm, annot=True, fmt='d', xticklabels=le.classes_, yticklabels=le.classes_, cmap='Blues')\n",
    "plt.xlabel('Predicted')\n",
    "plt.ylabel('True')\n",
    "plt.title('Confusion Matrix For Testing Data')\n",
    "plt.show()\n"
   ]
  },
  {
   "cell_type": "code",
   "execution_count": null,
   "id": "81364246-acbd-47e4-b446-57a9c31357d1",
   "metadata": {},
   "outputs": [],
   "source": []
  },
  {
   "cell_type": "code",
   "execution_count": 3,
   "id": "e5116f7b-9274-4b00-9305-16decbb19fc7",
   "metadata": {},
   "outputs": [],
   "source": [
    "from sklearn.preprocessing import label_binarize\n",
    "from sklearn.multiclass import OneVsRestClassifier\n",
    "from sklearn.metrics import roc_curve, auc, roc_auc_score\n",
    "import matplotlib.pyplot as plt\n",
    "import numpy as np"
   ]
  },
  {
   "cell_type": "code",
   "execution_count": 9,
   "id": "95fc1bdb-9369-436f-b473-984b5c94a31f",
   "metadata": {},
   "outputs": [
    {
     "data": {
      "text/html": [
       "<style>#sk-container-id-1 {\n",
       "  /* Definition of color scheme common for light and dark mode */\n",
       "  --sklearn-color-text: black;\n",
       "  --sklearn-color-line: gray;\n",
       "  /* Definition of color scheme for unfitted estimators */\n",
       "  --sklearn-color-unfitted-level-0: #fff5e6;\n",
       "  --sklearn-color-unfitted-level-1: #f6e4d2;\n",
       "  --sklearn-color-unfitted-level-2: #ffe0b3;\n",
       "  --sklearn-color-unfitted-level-3: chocolate;\n",
       "  /* Definition of color scheme for fitted estimators */\n",
       "  --sklearn-color-fitted-level-0: #f0f8ff;\n",
       "  --sklearn-color-fitted-level-1: #d4ebff;\n",
       "  --sklearn-color-fitted-level-2: #b3dbfd;\n",
       "  --sklearn-color-fitted-level-3: cornflowerblue;\n",
       "\n",
       "  /* Specific color for light theme */\n",
       "  --sklearn-color-text-on-default-background: var(--sg-text-color, var(--theme-code-foreground, var(--jp-content-font-color1, black)));\n",
       "  --sklearn-color-background: var(--sg-background-color, var(--theme-background, var(--jp-layout-color0, white)));\n",
       "  --sklearn-color-border-box: var(--sg-text-color, var(--theme-code-foreground, var(--jp-content-font-color1, black)));\n",
       "  --sklearn-color-icon: #696969;\n",
       "\n",
       "  @media (prefers-color-scheme: dark) {\n",
       "    /* Redefinition of color scheme for dark theme */\n",
       "    --sklearn-color-text-on-default-background: var(--sg-text-color, var(--theme-code-foreground, var(--jp-content-font-color1, white)));\n",
       "    --sklearn-color-background: var(--sg-background-color, var(--theme-background, var(--jp-layout-color0, #111)));\n",
       "    --sklearn-color-border-box: var(--sg-text-color, var(--theme-code-foreground, var(--jp-content-font-color1, white)));\n",
       "    --sklearn-color-icon: #878787;\n",
       "  }\n",
       "}\n",
       "\n",
       "#sk-container-id-1 {\n",
       "  color: var(--sklearn-color-text);\n",
       "}\n",
       "\n",
       "#sk-container-id-1 pre {\n",
       "  padding: 0;\n",
       "}\n",
       "\n",
       "#sk-container-id-1 input.sk-hidden--visually {\n",
       "  border: 0;\n",
       "  clip: rect(1px 1px 1px 1px);\n",
       "  clip: rect(1px, 1px, 1px, 1px);\n",
       "  height: 1px;\n",
       "  margin: -1px;\n",
       "  overflow: hidden;\n",
       "  padding: 0;\n",
       "  position: absolute;\n",
       "  width: 1px;\n",
       "}\n",
       "\n",
       "#sk-container-id-1 div.sk-dashed-wrapped {\n",
       "  border: 1px dashed var(--sklearn-color-line);\n",
       "  margin: 0 0.4em 0.5em 0.4em;\n",
       "  box-sizing: border-box;\n",
       "  padding-bottom: 0.4em;\n",
       "  background-color: var(--sklearn-color-background);\n",
       "}\n",
       "\n",
       "#sk-container-id-1 div.sk-container {\n",
       "  /* jupyter's `normalize.less` sets `[hidden] { display: none; }`\n",
       "     but bootstrap.min.css set `[hidden] { display: none !important; }`\n",
       "     so we also need the `!important` here to be able to override the\n",
       "     default hidden behavior on the sphinx rendered scikit-learn.org.\n",
       "     See: https://github.com/scikit-learn/scikit-learn/issues/21755 */\n",
       "  display: inline-block !important;\n",
       "  position: relative;\n",
       "}\n",
       "\n",
       "#sk-container-id-1 div.sk-text-repr-fallback {\n",
       "  display: none;\n",
       "}\n",
       "\n",
       "div.sk-parallel-item,\n",
       "div.sk-serial,\n",
       "div.sk-item {\n",
       "  /* draw centered vertical line to link estimators */\n",
       "  background-image: linear-gradient(var(--sklearn-color-text-on-default-background), var(--sklearn-color-text-on-default-background));\n",
       "  background-size: 2px 100%;\n",
       "  background-repeat: no-repeat;\n",
       "  background-position: center center;\n",
       "}\n",
       "\n",
       "/* Parallel-specific style estimator block */\n",
       "\n",
       "#sk-container-id-1 div.sk-parallel-item::after {\n",
       "  content: \"\";\n",
       "  width: 100%;\n",
       "  border-bottom: 2px solid var(--sklearn-color-text-on-default-background);\n",
       "  flex-grow: 1;\n",
       "}\n",
       "\n",
       "#sk-container-id-1 div.sk-parallel {\n",
       "  display: flex;\n",
       "  align-items: stretch;\n",
       "  justify-content: center;\n",
       "  background-color: var(--sklearn-color-background);\n",
       "  position: relative;\n",
       "}\n",
       "\n",
       "#sk-container-id-1 div.sk-parallel-item {\n",
       "  display: flex;\n",
       "  flex-direction: column;\n",
       "}\n",
       "\n",
       "#sk-container-id-1 div.sk-parallel-item:first-child::after {\n",
       "  align-self: flex-end;\n",
       "  width: 50%;\n",
       "}\n",
       "\n",
       "#sk-container-id-1 div.sk-parallel-item:last-child::after {\n",
       "  align-self: flex-start;\n",
       "  width: 50%;\n",
       "}\n",
       "\n",
       "#sk-container-id-1 div.sk-parallel-item:only-child::after {\n",
       "  width: 0;\n",
       "}\n",
       "\n",
       "/* Serial-specific style estimator block */\n",
       "\n",
       "#sk-container-id-1 div.sk-serial {\n",
       "  display: flex;\n",
       "  flex-direction: column;\n",
       "  align-items: center;\n",
       "  background-color: var(--sklearn-color-background);\n",
       "  padding-right: 1em;\n",
       "  padding-left: 1em;\n",
       "}\n",
       "\n",
       "\n",
       "/* Toggleable style: style used for estimator/Pipeline/ColumnTransformer box that is\n",
       "clickable and can be expanded/collapsed.\n",
       "- Pipeline and ColumnTransformer use this feature and define the default style\n",
       "- Estimators will overwrite some part of the style using the `sk-estimator` class\n",
       "*/\n",
       "\n",
       "/* Pipeline and ColumnTransformer style (default) */\n",
       "\n",
       "#sk-container-id-1 div.sk-toggleable {\n",
       "  /* Default theme specific background. It is overwritten whether we have a\n",
       "  specific estimator or a Pipeline/ColumnTransformer */\n",
       "  background-color: var(--sklearn-color-background);\n",
       "}\n",
       "\n",
       "/* Toggleable label */\n",
       "#sk-container-id-1 label.sk-toggleable__label {\n",
       "  cursor: pointer;\n",
       "  display: block;\n",
       "  width: 100%;\n",
       "  margin-bottom: 0;\n",
       "  padding: 0.5em;\n",
       "  box-sizing: border-box;\n",
       "  text-align: center;\n",
       "}\n",
       "\n",
       "#sk-container-id-1 label.sk-toggleable__label-arrow:before {\n",
       "  /* Arrow on the left of the label */\n",
       "  content: \"▸\";\n",
       "  float: left;\n",
       "  margin-right: 0.25em;\n",
       "  color: var(--sklearn-color-icon);\n",
       "}\n",
       "\n",
       "#sk-container-id-1 label.sk-toggleable__label-arrow:hover:before {\n",
       "  color: var(--sklearn-color-text);\n",
       "}\n",
       "\n",
       "/* Toggleable content - dropdown */\n",
       "\n",
       "#sk-container-id-1 div.sk-toggleable__content {\n",
       "  max-height: 0;\n",
       "  max-width: 0;\n",
       "  overflow: hidden;\n",
       "  text-align: left;\n",
       "  /* unfitted */\n",
       "  background-color: var(--sklearn-color-unfitted-level-0);\n",
       "}\n",
       "\n",
       "#sk-container-id-1 div.sk-toggleable__content.fitted {\n",
       "  /* fitted */\n",
       "  background-color: var(--sklearn-color-fitted-level-0);\n",
       "}\n",
       "\n",
       "#sk-container-id-1 div.sk-toggleable__content pre {\n",
       "  margin: 0.2em;\n",
       "  border-radius: 0.25em;\n",
       "  color: var(--sklearn-color-text);\n",
       "  /* unfitted */\n",
       "  background-color: var(--sklearn-color-unfitted-level-0);\n",
       "}\n",
       "\n",
       "#sk-container-id-1 div.sk-toggleable__content.fitted pre {\n",
       "  /* unfitted */\n",
       "  background-color: var(--sklearn-color-fitted-level-0);\n",
       "}\n",
       "\n",
       "#sk-container-id-1 input.sk-toggleable__control:checked~div.sk-toggleable__content {\n",
       "  /* Expand drop-down */\n",
       "  max-height: 200px;\n",
       "  max-width: 100%;\n",
       "  overflow: auto;\n",
       "}\n",
       "\n",
       "#sk-container-id-1 input.sk-toggleable__control:checked~label.sk-toggleable__label-arrow:before {\n",
       "  content: \"▾\";\n",
       "}\n",
       "\n",
       "/* Pipeline/ColumnTransformer-specific style */\n",
       "\n",
       "#sk-container-id-1 div.sk-label input.sk-toggleable__control:checked~label.sk-toggleable__label {\n",
       "  color: var(--sklearn-color-text);\n",
       "  background-color: var(--sklearn-color-unfitted-level-2);\n",
       "}\n",
       "\n",
       "#sk-container-id-1 div.sk-label.fitted input.sk-toggleable__control:checked~label.sk-toggleable__label {\n",
       "  background-color: var(--sklearn-color-fitted-level-2);\n",
       "}\n",
       "\n",
       "/* Estimator-specific style */\n",
       "\n",
       "/* Colorize estimator box */\n",
       "#sk-container-id-1 div.sk-estimator input.sk-toggleable__control:checked~label.sk-toggleable__label {\n",
       "  /* unfitted */\n",
       "  background-color: var(--sklearn-color-unfitted-level-2);\n",
       "}\n",
       "\n",
       "#sk-container-id-1 div.sk-estimator.fitted input.sk-toggleable__control:checked~label.sk-toggleable__label {\n",
       "  /* fitted */\n",
       "  background-color: var(--sklearn-color-fitted-level-2);\n",
       "}\n",
       "\n",
       "#sk-container-id-1 div.sk-label label.sk-toggleable__label,\n",
       "#sk-container-id-1 div.sk-label label {\n",
       "  /* The background is the default theme color */\n",
       "  color: var(--sklearn-color-text-on-default-background);\n",
       "}\n",
       "\n",
       "/* On hover, darken the color of the background */\n",
       "#sk-container-id-1 div.sk-label:hover label.sk-toggleable__label {\n",
       "  color: var(--sklearn-color-text);\n",
       "  background-color: var(--sklearn-color-unfitted-level-2);\n",
       "}\n",
       "\n",
       "/* Label box, darken color on hover, fitted */\n",
       "#sk-container-id-1 div.sk-label.fitted:hover label.sk-toggleable__label.fitted {\n",
       "  color: var(--sklearn-color-text);\n",
       "  background-color: var(--sklearn-color-fitted-level-2);\n",
       "}\n",
       "\n",
       "/* Estimator label */\n",
       "\n",
       "#sk-container-id-1 div.sk-label label {\n",
       "  font-family: monospace;\n",
       "  font-weight: bold;\n",
       "  display: inline-block;\n",
       "  line-height: 1.2em;\n",
       "}\n",
       "\n",
       "#sk-container-id-1 div.sk-label-container {\n",
       "  text-align: center;\n",
       "}\n",
       "\n",
       "/* Estimator-specific */\n",
       "#sk-container-id-1 div.sk-estimator {\n",
       "  font-family: monospace;\n",
       "  border: 1px dotted var(--sklearn-color-border-box);\n",
       "  border-radius: 0.25em;\n",
       "  box-sizing: border-box;\n",
       "  margin-bottom: 0.5em;\n",
       "  /* unfitted */\n",
       "  background-color: var(--sklearn-color-unfitted-level-0);\n",
       "}\n",
       "\n",
       "#sk-container-id-1 div.sk-estimator.fitted {\n",
       "  /* fitted */\n",
       "  background-color: var(--sklearn-color-fitted-level-0);\n",
       "}\n",
       "\n",
       "/* on hover */\n",
       "#sk-container-id-1 div.sk-estimator:hover {\n",
       "  /* unfitted */\n",
       "  background-color: var(--sklearn-color-unfitted-level-2);\n",
       "}\n",
       "\n",
       "#sk-container-id-1 div.sk-estimator.fitted:hover {\n",
       "  /* fitted */\n",
       "  background-color: var(--sklearn-color-fitted-level-2);\n",
       "}\n",
       "\n",
       "/* Specification for estimator info (e.g. \"i\" and \"?\") */\n",
       "\n",
       "/* Common style for \"i\" and \"?\" */\n",
       "\n",
       ".sk-estimator-doc-link,\n",
       "a:link.sk-estimator-doc-link,\n",
       "a:visited.sk-estimator-doc-link {\n",
       "  float: right;\n",
       "  font-size: smaller;\n",
       "  line-height: 1em;\n",
       "  font-family: monospace;\n",
       "  background-color: var(--sklearn-color-background);\n",
       "  border-radius: 1em;\n",
       "  height: 1em;\n",
       "  width: 1em;\n",
       "  text-decoration: none !important;\n",
       "  margin-left: 1ex;\n",
       "  /* unfitted */\n",
       "  border: var(--sklearn-color-unfitted-level-1) 1pt solid;\n",
       "  color: var(--sklearn-color-unfitted-level-1);\n",
       "}\n",
       "\n",
       ".sk-estimator-doc-link.fitted,\n",
       "a:link.sk-estimator-doc-link.fitted,\n",
       "a:visited.sk-estimator-doc-link.fitted {\n",
       "  /* fitted */\n",
       "  border: var(--sklearn-color-fitted-level-1) 1pt solid;\n",
       "  color: var(--sklearn-color-fitted-level-1);\n",
       "}\n",
       "\n",
       "/* On hover */\n",
       "div.sk-estimator:hover .sk-estimator-doc-link:hover,\n",
       ".sk-estimator-doc-link:hover,\n",
       "div.sk-label-container:hover .sk-estimator-doc-link:hover,\n",
       ".sk-estimator-doc-link:hover {\n",
       "  /* unfitted */\n",
       "  background-color: var(--sklearn-color-unfitted-level-3);\n",
       "  color: var(--sklearn-color-background);\n",
       "  text-decoration: none;\n",
       "}\n",
       "\n",
       "div.sk-estimator.fitted:hover .sk-estimator-doc-link.fitted:hover,\n",
       ".sk-estimator-doc-link.fitted:hover,\n",
       "div.sk-label-container:hover .sk-estimator-doc-link.fitted:hover,\n",
       ".sk-estimator-doc-link.fitted:hover {\n",
       "  /* fitted */\n",
       "  background-color: var(--sklearn-color-fitted-level-3);\n",
       "  color: var(--sklearn-color-background);\n",
       "  text-decoration: none;\n",
       "}\n",
       "\n",
       "/* Span, style for the box shown on hovering the info icon */\n",
       ".sk-estimator-doc-link span {\n",
       "  display: none;\n",
       "  z-index: 9999;\n",
       "  position: relative;\n",
       "  font-weight: normal;\n",
       "  right: .2ex;\n",
       "  padding: .5ex;\n",
       "  margin: .5ex;\n",
       "  width: min-content;\n",
       "  min-width: 20ex;\n",
       "  max-width: 50ex;\n",
       "  color: var(--sklearn-color-text);\n",
       "  box-shadow: 2pt 2pt 4pt #999;\n",
       "  /* unfitted */\n",
       "  background: var(--sklearn-color-unfitted-level-0);\n",
       "  border: .5pt solid var(--sklearn-color-unfitted-level-3);\n",
       "}\n",
       "\n",
       ".sk-estimator-doc-link.fitted span {\n",
       "  /* fitted */\n",
       "  background: var(--sklearn-color-fitted-level-0);\n",
       "  border: var(--sklearn-color-fitted-level-3);\n",
       "}\n",
       "\n",
       ".sk-estimator-doc-link:hover span {\n",
       "  display: block;\n",
       "}\n",
       "\n",
       "/* \"?\"-specific style due to the `<a>` HTML tag */\n",
       "\n",
       "#sk-container-id-1 a.estimator_doc_link {\n",
       "  float: right;\n",
       "  font-size: 1rem;\n",
       "  line-height: 1em;\n",
       "  font-family: monospace;\n",
       "  background-color: var(--sklearn-color-background);\n",
       "  border-radius: 1rem;\n",
       "  height: 1rem;\n",
       "  width: 1rem;\n",
       "  text-decoration: none;\n",
       "  /* unfitted */\n",
       "  color: var(--sklearn-color-unfitted-level-1);\n",
       "  border: var(--sklearn-color-unfitted-level-1) 1pt solid;\n",
       "}\n",
       "\n",
       "#sk-container-id-1 a.estimator_doc_link.fitted {\n",
       "  /* fitted */\n",
       "  border: var(--sklearn-color-fitted-level-1) 1pt solid;\n",
       "  color: var(--sklearn-color-fitted-level-1);\n",
       "}\n",
       "\n",
       "/* On hover */\n",
       "#sk-container-id-1 a.estimator_doc_link:hover {\n",
       "  /* unfitted */\n",
       "  background-color: var(--sklearn-color-unfitted-level-3);\n",
       "  color: var(--sklearn-color-background);\n",
       "  text-decoration: none;\n",
       "}\n",
       "\n",
       "#sk-container-id-1 a.estimator_doc_link.fitted:hover {\n",
       "  /* fitted */\n",
       "  background-color: var(--sklearn-color-fitted-level-3);\n",
       "}\n",
       "</style><div id=\"sk-container-id-1\" class=\"sk-top-container\"><div class=\"sk-text-repr-fallback\"><pre>OneVsRestClassifier(estimator=SVC())</pre><b>In a Jupyter environment, please rerun this cell to show the HTML representation or trust the notebook. <br />On GitHub, the HTML representation is unable to render, please try loading this page with nbviewer.org.</b></div><div class=\"sk-container\" hidden><div class=\"sk-item sk-dashed-wrapped\"><div class=\"sk-label-container\"><div class=\"sk-label fitted sk-toggleable\"><input class=\"sk-toggleable__control sk-hidden--visually\" id=\"sk-estimator-id-1\" type=\"checkbox\" ><label for=\"sk-estimator-id-1\" class=\"sk-toggleable__label fitted sk-toggleable__label-arrow fitted\">&nbsp;&nbsp;OneVsRestClassifier<a class=\"sk-estimator-doc-link fitted\" rel=\"noreferrer\" target=\"_blank\" href=\"https://scikit-learn.org/1.5/modules/generated/sklearn.multiclass.OneVsRestClassifier.html\">?<span>Documentation for OneVsRestClassifier</span></a><span class=\"sk-estimator-doc-link fitted\">i<span>Fitted</span></span></label><div class=\"sk-toggleable__content fitted\"><pre>OneVsRestClassifier(estimator=SVC())</pre></div> </div></div><div class=\"sk-parallel\"><div class=\"sk-parallel-item\"><div class=\"sk-item\"><div class=\"sk-label-container\"><div class=\"sk-label fitted sk-toggleable\"><input class=\"sk-toggleable__control sk-hidden--visually\" id=\"sk-estimator-id-2\" type=\"checkbox\" ><label for=\"sk-estimator-id-2\" class=\"sk-toggleable__label fitted sk-toggleable__label-arrow fitted\">estimator: SVC</label><div class=\"sk-toggleable__content fitted\"><pre>SVC()</pre></div> </div></div><div class=\"sk-serial\"><div class=\"sk-item\"><div class=\"sk-estimator fitted sk-toggleable\"><input class=\"sk-toggleable__control sk-hidden--visually\" id=\"sk-estimator-id-3\" type=\"checkbox\" ><label for=\"sk-estimator-id-3\" class=\"sk-toggleable__label fitted sk-toggleable__label-arrow fitted\">&nbsp;SVC<a class=\"sk-estimator-doc-link fitted\" rel=\"noreferrer\" target=\"_blank\" href=\"https://scikit-learn.org/1.5/modules/generated/sklearn.svm.SVC.html\">?<span>Documentation for SVC</span></a></label><div class=\"sk-toggleable__content fitted\"><pre>SVC()</pre></div> </div></div></div></div></div></div></div></div></div>"
      ],
      "text/plain": [
       "OneVsRestClassifier(estimator=SVC())"
      ]
     },
     "execution_count": 9,
     "metadata": {},
     "output_type": "execute_result"
    }
   ],
   "source": [
    "#Train classifier\n",
    "classifier = OneVsRestClassifier(SVC(kernel='rbf'))\n",
    "classifier.fit(X_train_resampled, y_train_resampled)"
   ]
  },
  {
   "cell_type": "code",
   "execution_count": 15,
   "id": "443bfee9-36a4-4543-ab65-b4cab97378c5",
   "metadata": {},
   "outputs": [
    {
     "name": "stdout",
     "output_type": "stream",
     "text": [
      "Macro-average Train AUC: 0.6351\n",
      "Macro-average Test AUC:  0.6432\n"
     ]
    },
    {
     "data": {
      "image/png": "[encoded data removed]",
      "text/plain": [
       "<Figure size 1200x800 with 1 Axes>"
      ]
     },
     "metadata": {},
     "output_type": "display_data"
    }
   ],
   "source": [
    "\n",
    "\n",
    "# Prepare label binarization\n",
    "classes = np.unique(y_train_resampled)\n",
    "n_classes = len(classes)\n",
    "\n",
    "# Binarize labels\n",
    "y_train_bin = label_binarize(y_train_resampled, classes=classes)\n",
    "y_test_bin = label_binarize(y_test, classes=classes)\n",
    "\n",
    "\n",
    "\n",
    "# Decision scores\n",
    "y_train_score = classifier.decision_function(X_train_resampled)\n",
    "y_test_score = classifier.decision_function(X_test)\n",
    "\n",
    "# ROC & AUC\n",
    "fpr_train, tpr_train, roc_auc_train = {}, {}, {}\n",
    "fpr_test, tpr_test, roc_auc_test = {}, {}, {}\n",
    "\n",
    "for i in range(n_classes):\n",
    "    fpr_train[i], tpr_train[i], _ = roc_curve(y_train_bin[:, i], y_train_score[:, i])\n",
    "    roc_auc_train[i] = auc(fpr_train[i], tpr_train[i])\n",
    "\n",
    "    fpr_test[i], tpr_test[i], _ = roc_curve(y_test_bin[:, i], y_test_score[:, i])\n",
    "    roc_auc_test[i] = auc(fpr_test[i], tpr_test[i])\n",
    "\n",
    "# Macro AUC scores\n",
    "roc_auc_train_macro = roc_auc_score(y_train_bin, y_train_score, average='macro')\n",
    "roc_auc_test_macro = roc_auc_score(y_test_bin, y_test_score, average='macro')\n",
    "\n",
    "print(f\"Macro-average Train AUC: {roc_auc_train_macro:.4f}\")\n",
    "print(f\"Macro-average Test AUC:  {roc_auc_test_macro:.4f}\")\n",
    "\n",
    "# Plotting\n",
    "colors = ['aqua', 'darkorange', 'cornflowerblue', 'red', 'green']\n",
    "plt.figure(figsize=(12, 8))\n",
    "\n",
    "for i in range(n_classes):\n",
    "    plt.plot(fpr_train[i], tpr_train[i],\n",
    "             linestyle='--',\n",
    "             color=colors[i % len(colors)],\n",
    "             label=f'Train Class {i} AUC = {roc_auc_train[i]:.2f}')\n",
    "    \n",
    "    plt.plot(fpr_test[i], tpr_test[i],\n",
    "             linestyle='-',\n",
    "             color=colors[i % len(colors)],\n",
    "             label=f'Test Class {i} AUC = {roc_auc_test[i]:.2f}')\n",
    "\n",
    "plt.plot([0, 1], [0, 1], 'k--', lw=2)\n",
    "plt.xlabel('False Positive Rate')\n",
    "plt.ylabel('True Positive Rate')\n",
    "plt.title('Multi-Class ROC Curve (Train vs Test)')\n",
    "plt.legend(loc=\"lower right\")\n",
    "plt.grid(True)\n",
    "plt.tight_layout()\n",
    "plt.show()\n"
   ]
  },
  {
   "cell_type": "code",
   "execution_count": 124,
   "id": "4c40a620-00a7-4999-a393-8f675d4b9a17",
   "metadata": {},
   "outputs": [
    {
     "name": "stderr",
     "output_type": "stream",
     "text": [
      "PermutationExplainer explainer: 11it [45:33, 273.32s/it]                        \n"
     ]
    },
    {
     "ename": "IndexError",
     "evalue": "index 20 is out of bounds for axis 0 with size 5",
     "output_type": "error",
     "traceback": [
      "\u001b[0;31m---------------------------------------------------------------------------\u001b[0m",
      "\u001b[0;31mIndexError\u001b[0m                                Traceback (most recent call last)",
      "Cell \u001b[0;32mIn[124], line 14\u001b[0m\n\u001b[1;32m     11\u001b[0m feature_names \u001b[38;5;241m=\u001b[39m dataset\u001b[38;5;241m.\u001b[39mcolumns[\u001b[38;5;241m-\u001b[39mX_test\u001b[38;5;241m.\u001b[39mshape[\u001b[38;5;241m1\u001b[39m]:]\n\u001b[1;32m     13\u001b[0m \u001b[38;5;66;03m# Summary plot\u001b[39;00m\n\u001b[0;32m---> 14\u001b[0m shap\u001b[38;5;241m.\u001b[39msummary_plot(shap_values, features\u001b[38;5;241m=\u001b[39mX_test[:\u001b[38;5;241m10\u001b[39m], feature_names\u001b[38;5;241m=\u001b[39mfeature_names)\n",
      "File \u001b[0;32m/opt/anaconda3/lib/python3.12/site-packages/shap/plots/_beeswarm.py:1114\u001b[0m, in \u001b[0;36msummary_legacy\u001b[0;34m(shap_values, features, feature_names, max_display, plot_type, color, axis_color, title, alpha, show, sort, color_bar, plot_size, layered_violin_max_num_bins, class_names, class_inds, color_bar_label, cmap, show_values_in_legend, use_log_scale, rng)\u001b[0m\n\u001b[1;32m   1112\u001b[0m         left_pos \u001b[38;5;241m+\u001b[39m\u001b[38;5;241m=\u001b[39m global_shap_values[feature_inds]\n\u001b[1;32m   1113\u001b[0m     pl\u001b[38;5;241m.\u001b[39myticks(y_pos, fontsize\u001b[38;5;241m=\u001b[39m\u001b[38;5;241m13\u001b[39m)\n\u001b[0;32m-> 1114\u001b[0m     pl\u001b[38;5;241m.\u001b[39mgca()\u001b[38;5;241m.\u001b[39mset_yticklabels([feature_names[i] \u001b[38;5;28;01mfor\u001b[39;00m i \u001b[38;5;129;01min\u001b[39;00m feature_inds])\n\u001b[1;32m   1115\u001b[0m     pl\u001b[38;5;241m.\u001b[39mlegend(frameon\u001b[38;5;241m=\u001b[39m\u001b[38;5;28;01mFalse\u001b[39;00m, fontsize\u001b[38;5;241m=\u001b[39m\u001b[38;5;241m12\u001b[39m)\n\u001b[1;32m   1117\u001b[0m \u001b[38;5;66;03m# draw the color bar\u001b[39;00m\n",
      "File \u001b[0;32m/opt/anaconda3/lib/python3.12/site-packages/pandas/core/indexes/base.py:5389\u001b[0m, in \u001b[0;36mIndex.__getitem__\u001b[0;34m(self, key)\u001b[0m\n\u001b[1;32m   5386\u001b[0m \u001b[38;5;28;01mif\u001b[39;00m is_integer(key) \u001b[38;5;129;01mor\u001b[39;00m is_float(key):\n\u001b[1;32m   5387\u001b[0m     \u001b[38;5;66;03m# GH#44051 exclude bool, which would return a 2d ndarray\u001b[39;00m\n\u001b[1;32m   5388\u001b[0m     key \u001b[38;5;241m=\u001b[39m com\u001b[38;5;241m.\u001b[39mcast_scalar_indexer(key)\n\u001b[0;32m-> 5389\u001b[0m     \u001b[38;5;28;01mreturn\u001b[39;00m getitem(key)\n\u001b[1;32m   5391\u001b[0m \u001b[38;5;28;01mif\u001b[39;00m \u001b[38;5;28misinstance\u001b[39m(key, \u001b[38;5;28mslice\u001b[39m):\n\u001b[1;32m   5392\u001b[0m     \u001b[38;5;66;03m# This case is separated from the conditional above to avoid\u001b[39;00m\n\u001b[1;32m   5393\u001b[0m     \u001b[38;5;66;03m# pessimization com.is_bool_indexer and ndim checks.\u001b[39;00m\n\u001b[1;32m   5394\u001b[0m     \u001b[38;5;28;01mreturn\u001b[39;00m \u001b[38;5;28mself\u001b[39m\u001b[38;5;241m.\u001b[39m_getitem_slice(key)\n",
      "\u001b[0;31mIndexError\u001b[0m: index 20 is out of bounds for axis 0 with size 5"
     ]
    },
    {
     "data": {
      "image/png": "[encoded data removed]",
      "text/plain": [
       "<Figure size 800x950 with 1 Axes>"
      ]
     },
     "metadata": {},
     "output_type": "display_data"
    }
   ],
   "source": [
    "import shap\n",
    "\n",
    "# Creating the SHAP explainer using decision_function\n",
    "explainer = shap.Explainer(clf.decision_function, X_train)\n",
    "\n",
    "\n",
    "shap_values = explainer(X_test[:10])  \n",
    "\n",
    "feature_names = dataset.columns[-X_test.shape[1]:]\n",
    "\n",
    "# Summary plot\n",
    "shap.summary_plot(shap_values, features=X_test[:10], feature_names=feature_names)\n"
   ]
  },
  {
   "cell_type": "code",
   "execution_count": 3,
   "id": "5d5a6ee5-017e-4b71-93f6-ee4dd583cf2d",
   "metadata": {},
   "outputs": [
    {
     "name": "stdout",
     "output_type": "stream",
     "text": [
      "\n",
      "==================================================\n",
      "ITERATION 1 (Stratified Sampling): Fast SVM Hyperparameter Tuning\n",
      "==================================================\n",
      "Fitting 3 folds for each of 4 candidates, totalling 12 fits\n",
      "\n",
      "Grid search completed in 257.78 seconds\n",
      "Best parameters: {'estimator__C': 1, 'estimator__gamma': 0.1}\n",
      "\n",
      "Classification Report:\n",
      "               precision    recall  f1-score   support\n",
      "\n",
      "           0       0.11      0.25      0.15      5876\n",
      "           1       0.17      0.27      0.21     10652\n",
      "           2       0.45      0.36      0.40     13154\n",
      "           3       0.22      0.42      0.29      8084\n",
      "           4       0.72      0.38      0.49     39086\n",
      "\n",
      "    accuracy                           0.35     76852\n",
      "   macro avg       0.33      0.34      0.31     76852\n",
      "weighted avg       0.50      0.35      0.39     76852\n",
      "\n",
      "\n",
      "Confusion Matrix:\n",
      " [[ 1481  1177   795  1736   687]\n",
      " [ 2003  2851  1174  2146  2478]\n",
      " [ 2200  2351  4790  2082  1731]\n",
      " [ 1941  1172   806  3404   761]\n",
      " [ 5642  9388  3082  6281 14693]]\n"
     ]
    }
   ],
   "source": [
    "from sklearn.model_selection import GridSearchCV, train_test_split\n",
    "from sklearn.svm import SVC\n",
    "from sklearn.multiclass import OneVsRestClassifier\n",
    "from sklearn.metrics import classification_report, confusion_matrix\n",
    "import time\n",
    "\n",
    "print(\"\\n\" + \"=\"*50 + \"\\nITERATION 1 (Stratified Sampling): Fast SVM Hyperparameter Tuning\\n\" + \"=\"*50)\n",
    "\n",
    "# STEP 1: Stratified sampling from the resampled training set (30% or ~3000 samples)\n",
    "X_small, _, y_small, _ = train_test_split(\n",
    "    X_train_resampled,\n",
    "    y_train_resampled,\n",
    "    train_size=0.05,\n",
    "    stratify=y_train_resampled,\n",
    "    random_state=42\n",
    ")\n",
    "\n",
    "# STEP 2: Small parameter grid for faster tuning\n",
    "param_grid = {\n",
    "    'estimator__C': [1, 10],\n",
    "    'estimator__gamma': ['scale', 0.1],\n",
    "}\n",
    "\n",
    "# STEP 3: Setup model\n",
    "base_svm = SVC(kernel='rbf', class_weight='balanced', probability=True, random_state=42)\n",
    "model = OneVsRestClassifier(base_svm)\n",
    "\n",
    "# STEP 4: Run GridSearchCV\n",
    "grid_search = GridSearchCV(estimator=model,\n",
    "                           param_grid=param_grid,\n",
    "                           scoring='accuracy',\n",
    "                           cv=3,\n",
    "                           verbose=2,\n",
    "                           n_jobs=-1)\n",
    "\n",
    "# STEP 5: Fit model on small subset\n",
    "start_time = time.time()\n",
    "grid_search.fit(X_small, y_small)\n",
    "print(f\"\\nGrid search completed in {time.time() - start_time:.2f} seconds\")\n",
    "\n",
    "# STEP 6: Get best model and evaluate on test set\n",
    "best_model = grid_search.best_estimator_\n",
    "print(\"Best parameters:\", grid_search.best_params_)\n",
    "\n",
    "y_pred = best_model.predict(X_test)\n",
    "print(\"\\nClassification Report:\\n\", classification_report(y_test, y_pred))\n",
    "print(\"\\nConfusion Matrix:\\n\", confusion_matrix(y_test, y_pred))"
   ]
  },
  {
   "cell_type": "code",
   "execution_count": 7,
   "id": "c504f33d-3ab1-4ed2-92ad-29a1e5e5fea3",
   "metadata": {},
   "outputs": [
    {
     "name": "stdout",
     "output_type": "stream",
     "text": [
      "\n",
      " Metrics Summary (Iteration 1):\n",
      "AUC = 0.6544\n",
      "F1 Macro (Avg across all classes) = 0.3090\n",
      "F1 Micro (Global accuracy)       = 0.3542\n",
      "F1 Weighted (Label freq weighted)= 0.3910\n"
     ]
    }
   ],
   "source": [
    "from sklearn.metrics import roc_auc_score, f1_score\n",
    "from sklearn.preprocessing import label_binarize\n",
    "import numpy as np\n",
    "\n",
    "# --- AUC calculation ---\n",
    "if len(np.unique(y_test)) > 2:\n",
    "    y_test_bin = label_binarize(y_test, classes=np.unique(y_test))\n",
    "    y_pred_prob = best_model.predict_proba(X_test)\n",
    "    auc_score = roc_auc_score(y_test_bin, y_pred_prob, average='macro', multi_class='ovr')\n",
    "else:\n",
    "    y_pred_prob = best_model.predict_proba(X_test)[:, 1]\n",
    "    auc_score = roc_auc_score(y_test, y_pred_prob)\n",
    "\n",
    "# --- F1 Score (Macro for multi-class) ---\n",
    "f1_macro = f1_score(y_test, y_pred, average='macro')\n",
    "f1_micro = f1_score(y_test, y_pred, average='micro')\n",
    "f1_weighted = f1_score(y_test, y_pred, average='weighted')\n",
    "\n",
    "# --- Display ---\n",
    "print(f\"\\n Metrics Summary (Iteration 1):\")\n",
    "print(f\"AUC = {auc_score:.4f}\")\n",
    "print(f\"F1 Macro (Avg across all classes) = {f1_macro:.4f}\")\n",
    "print(f\"F1 Micro (Global accuracy)       = {f1_micro:.4f}\")\n",
    "print(f\"F1 Weighted (Label freq weighted)= {f1_weighted:.4f}\")\n"
   ]
  },
  {
   "cell_type": "code",
   "execution_count": 8,
   "id": "a43df8e4-5cc0-4ce4-bba6-ce8baa163b2b",
   "metadata": {},
   "outputs": [
    {
     "name": "stdout",
     "output_type": "stream",
     "text": [
      "F1 Score for Negative Class (0): 0.1547\n",
      "F1 Score for Positive Class (1): 0.2067\n"
     ]
    }
   ],
   "source": [
    "from sklearn.metrics import f1_score\n",
    "\n",
    "# Get F1 scores for each class\n",
    "f1_per_class = f1_score(y_test, y_pred, average=None)\n",
    "\n",
    "# Assuming class 0 = Negative, class 1 = Positive\n",
    "f1_negative = f1_per_class[0]\n",
    "f1_positive = f1_per_class[1]\n",
    "\n",
    "print(f\"F1 Score for Negative Class (0): {f1_negative:.4f}\")\n",
    "print(f\"F1 Score for Positive Class (1): {f1_positive:.4f}\")\n"
   ]
  },
  {
   "cell_type": "code",
   "execution_count": 5,
   "id": "6ac3c37e-6a36-48b9-9c45-bca4137d18f9",
   "metadata": {
    "scrolled": true
   },
   "outputs": [
    {
     "name": "stdout",
     "output_type": "stream",
     "text": [
      "\n",
      "==================================================\n",
      "ITERATION 2: SVM with Scaling + Kernel Comparison (Fixed)\n",
      "==================================================\n",
      "Fitting 3 folds for each of 8 candidates, totalling 24 fits\n",
      "\n",
      "Grid search completed in 1003.68 seconds\n",
      "Best parameters: {'estimator__estimator__C': 1, 'estimator__estimator__gamma': 'scale', 'estimator__estimator__kernel': 'rbf'}\n",
      "\n",
      "Classification Report:\n",
      "               precision    recall  f1-score   support\n",
      "\n",
      "           0       0.16      0.35      0.22      5876\n",
      "           1       0.22      0.35      0.27     10652\n",
      "           2       0.57      0.38      0.46     13154\n",
      "           3       0.34      0.51      0.41      8084\n",
      "           4       0.81      0.54      0.65     39086\n",
      "\n",
      "    accuracy                           0.47     76852\n",
      "   macro avg       0.42      0.43      0.40     76852\n",
      "weighted avg       0.59      0.47      0.51     76852\n",
      "\n",
      "\n",
      "Confusion Matrix:\n",
      " [[ 2028  1069   574  1716   489]\n",
      " [ 2058  3753   936  1572  2333]\n",
      " [ 2600  2277  5048  1724  1505]\n",
      " [ 2126   852   432  4121   553]\n",
      " [ 3795  9189  1926  3068 21108]]\n"
     ]
    }
   ],
   "source": [
    "from sklearn.model_selection import GridSearchCV, train_test_split\n",
    "from sklearn.preprocessing import StandardScaler\n",
    "from sklearn.pipeline import Pipeline\n",
    "from sklearn.svm import SVC\n",
    "from sklearn.multiclass import OneVsRestClassifier\n",
    "from sklearn.metrics import classification_report, confusion_matrix\n",
    "import time\n",
    "\n",
    "print(\"\\n\" + \"=\"*50 + \"\\nITERATION 2: SVM with Scaling + Kernel Comparison (Fixed)\\n\" + \"=\"*50)\n",
    "\n",
    "# Stratified sample\n",
    "X_small, _, y_small, _ = train_test_split(\n",
    "    X_train_resampled,\n",
    "    y_train_resampled,\n",
    "    train_size=0.05,\n",
    "    stratify=y_train_resampled,\n",
    "    random_state=42\n",
    ")\n",
    "\n",
    "# Pipeline: Scaling + SVM\n",
    "pipeline = Pipeline([\n",
    "    ('scaler', StandardScaler()),\n",
    "    ('estimator', SVC(probability=True, class_weight='balanced', random_state=42))\n",
    "])\n",
    "\n",
    "# OneVsRest wrapper\n",
    "model_pipeline = OneVsRestClassifier(pipeline)\n",
    "\n",
    "# Corrected param_grid\n",
    "param_grid = {\n",
    "    'estimator__estimator__C': [1, 10],\n",
    "    'estimator__estimator__gamma': ['scale', 0.1],\n",
    "    'estimator__estimator__kernel': ['rbf', 'linear']\n",
    "}\n",
    "\n",
    "# Grid search\n",
    "grid_search_2 = GridSearchCV(estimator=model_pipeline,\n",
    "                             param_grid=param_grid,\n",
    "                             scoring='accuracy',\n",
    "                             cv=3,\n",
    "                             verbose=2,\n",
    "                             n_jobs=-1)\n",
    "\n",
    "start_time = time.time()\n",
    "grid_search_2.fit(X_small, y_small)\n",
    "print(f\"\\nGrid search completed in {time.time() - start_time:.2f} seconds\")\n",
    "\n",
    "best_model_2 = grid_search_2.best_estimator_\n",
    "print(\"Best parameters:\", grid_search_2.best_params_)\n",
    "\n",
    "# Evaluate\n",
    "y_pred_2 = best_model_2.predict(X_test)\n",
    "print(\"\\nClassification Report:\\n\", classification_report(y_test, y_pred_2))\n",
    "print(\"\\nConfusion Matrix:\\n\", confusion_matrix(y_test, y_pred_2))\n"
   ]
  },
  {
   "cell_type": "code",
   "execution_count": 9,
   "id": "849c6e25-b7d1-4bd9-9676-bbb64a0d1bef",
   "metadata": {},
   "outputs": [
    {
     "name": "stdout",
     "output_type": "stream",
     "text": [
      "\n",
      " Metrics Summary (Iteration 2):\n",
      "AUC = 0.7466\n",
      "F1 Macro (Avg across all classes) = 0.4004\n",
      "F1 Micro (Global accuracy)       = 0.4692\n",
      "F1 Weighted (Label freq weighted)= 0.5052\n"
     ]
    }
   ],
   "source": [
    "from sklearn.metrics import roc_auc_score, f1_score\n",
    "from sklearn.preprocessing import label_binarize\n",
    "import numpy as np\n",
    "\n",
    "# --- AUC calculation ---\n",
    "if len(np.unique(y_test)) > 2:\n",
    "    y_test_bin_2 = label_binarize(y_test, classes=np.unique(y_test))\n",
    "    y_pred_prob_2 = best_model_2.predict_proba(X_test)\n",
    "    auc_score_2 = roc_auc_score(y_test_bin_2, y_pred_prob_2, average='macro', multi_class='ovr')\n",
    "else:\n",
    "    y_pred_prob_2 = best_model_2.predict_proba(X_test)[:, 1]\n",
    "    auc_score_2 = roc_auc_score(y_test, y_pred_prob_2)\n",
    "\n",
    "# --- F1 Score (Macro for multi-class) ---\n",
    "f1_macro_2 = f1_score(y_test, y_pred_2, average='macro')\n",
    "f1_micro_2 = f1_score(y_test, y_pred_2, average='micro')\n",
    "f1_weighted_2 = f1_score(y_test, y_pred_2, average='weighted')\n",
    "\n",
    "# --- Display ---\n",
    "print(f\"\\n Metrics Summary (Iteration 2):\")\n",
    "print(f\"AUC = {auc_score_2:.4f}\")\n",
    "print(f\"F1 Macro (Avg across all classes) = {f1_macro_2:.4f}\")\n",
    "print(f\"F1 Micro (Global accuracy)       = {f1_micro_2:.4f}\")\n",
    "print(f\"F1 Weighted (Label freq weighted)= {f1_weighted_2:.4f}\")\n"
   ]
  }
 ],
 "metadata": {
  "colab": {
   "provenance": []
  },
  "kernelspec": {
   "display_name": "Python 3 (ipykernel)",
   "language": "python",
   "name": "python3"
  },
  "language_info": {
   "codemirror_mode": {
    "name": "ipython",
    "version": 3
   },
   "file_extension": ".py",
   "mimetype": "text/x-python",
   "name": "python",
   "nbconvert_exporter": "python",
   "pygments_lexer": "ipython3",
   "version": "3.11.7"
  }
 },
 "nbformat": 4,
 "nbformat_minor": 5
}
