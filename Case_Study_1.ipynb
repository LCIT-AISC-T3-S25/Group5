{
 "cells": [
  {
   "cell_type": "code",
   "execution_count": 1,
   "id": "5d3d6957-2089-42be-b9b7-78c01bdc1e6a",
   "metadata": {},
   "outputs": [],
   "source": [
    "# Importing Libraries\n",
    "import pandas as pd\n",
    "import numpy as np\n",
    "import re\n",
    "\n",
    "#Importing library for stemming\n",
    "from nltk.stem import PorterStemmer\n",
    "import string\n",
    "\n",
    "#Importing library for lemmatizer\n",
    "from nltk.stem import WordNetLemmatizer\n",
    "\n",
    "import nltk\n",
    "from nltk.tokenize import word_tokenize\n",
    "\n",
    "import warnings\n",
    "warnings.filterwarnings('ignore')"
   ]
  },
  {
   "cell_type": "code",
   "execution_count": 2,
   "id": "3e1f0656-5f2b-4619-975c-9af29b86d4b5",
   "metadata": {},
   "outputs": [],
   "source": [
    "# To show all rows\n",
    "pd.set_option('display.max_rows', None)\n",
    "\n",
    "# To show all columns\n",
    "pd.set_option('display.max_columns', None)"
   ]
  },
  {
   "cell_type": "code",
   "execution_count": 3,
   "id": "1ee816b2-80e5-410f-af2e-24cbb586d992",
   "metadata": {},
   "outputs": [
    {
     "name": "stderr",
     "output_type": "stream",
     "text": [
      "[nltk_data] Downloading package punkt to /Users/mukulgarg/nltk_data...\n",
      "[nltk_data]   Package punkt is already up-to-date!\n",
      "[nltk_data] Downloading package punkt_tab to\n",
      "[nltk_data]     /Users/mukulgarg/nltk_data...\n",
      "[nltk_data]   Package punkt_tab is already up-to-date!\n"
     ]
    },
    {
     "data": {
      "text/plain": [
       "True"
      ]
     },
     "execution_count": 3,
     "metadata": {},
     "output_type": "execute_result"
    }
   ],
   "source": [
    "nltk.download('punkt')\n",
    "nltk.download('punkt_tab')"
   ]
  },
  {
   "cell_type": "code",
   "execution_count": 4,
   "id": "8b07ad9f-3e90-481f-be95-dca063c15bd1",
   "metadata": {},
   "outputs": [],
   "source": [
    "#Load Dataset File\n",
    "#Replace the dataset file path with your own dataset path\n",
    "dataset = pd.read_csv(\"data.csv\")"
   ]
  },
  {
   "cell_type": "code",
   "execution_count": 5,
   "id": "d084076a-3a9e-47c0-8856-e6fd6de08409",
   "metadata": {},
   "outputs": [
    {
     "data": {
      "text/html": [
       "<div>\n",
       "<style scoped>\n",
       "    .dataframe tbody tr th:only-of-type {\n",
       "        vertical-align: middle;\n",
       "    }\n",
       "\n",
       "    .dataframe tbody tr th {\n",
       "        vertical-align: top;\n",
       "    }\n",
       "\n",
       "    .dataframe thead th {\n",
       "        text-align: right;\n",
       "    }\n",
       "</style>\n",
       "<table border=\"1\" class=\"dataframe\">\n",
       "  <thead>\n",
       "    <tr style=\"text-align: right;\">\n",
       "      <th></th>\n",
       "      <th>Data</th>\n",
       "    </tr>\n",
       "  </thead>\n",
       "  <tbody>\n",
       "    <tr>\n",
       "      <th>0</th>\n",
       "      <td>Watch or listen live weekdays at 8:30am MT at ...</td>\n",
       "    </tr>\n",
       "    <tr>\n",
       "      <th>1</th>\n",
       "      <td>Watch or listen live weekdays at 8:30am MT at ...</td>\n",
       "    </tr>\n",
       "    <tr>\n",
       "      <th>2</th>\n",
       "      <td>Chubby And Hot, Always Stir The Pot!</td>\n",
       "    </tr>\n",
       "    <tr>\n",
       "      <th>3</th>\n",
       "      <td>Chubby And Hot, Always Stir The Pot!</td>\n",
       "    </tr>\n",
       "    <tr>\n",
       "      <th>4</th>\n",
       "      <td>Journalist, publisher of Rebel News — telling ...</td>\n",
       "    </tr>\n",
       "  </tbody>\n",
       "</table>\n",
       "</div>"
      ],
      "text/plain": [
       "                                                Data\n",
       "0  Watch or listen live weekdays at 8:30am MT at ...\n",
       "1  Watch or listen live weekdays at 8:30am MT at ...\n",
       "2               Chubby And Hot, Always Stir The Pot!\n",
       "3               Chubby And Hot, Always Stir The Pot!\n",
       "4  Journalist, publisher of Rebel News — telling ..."
      ]
     },
     "execution_count": 5,
     "metadata": {},
     "output_type": "execute_result"
    }
   ],
   "source": [
    "#printing first 5 rows of data\n",
    "dataset.head(5)"
   ]
  },
  {
   "cell_type": "code",
   "execution_count": 6,
   "id": "1c21536a-7cc6-4571-b076-27391006507b",
   "metadata": {
    "scrolled": true
   },
   "outputs": [],
   "source": [
    "#Joining all the text data into a single string\n",
    "text_data = ' '.join(dataset['Data'].astype(str)).lower()\n",
    "#text_data"
   ]
  },
  {
   "cell_type": "code",
   "execution_count": 7,
   "id": "3492d1d3-86f0-4729-a522-5c697d9c14a0",
   "metadata": {
    "scrolled": true
   },
   "outputs": [],
   "source": [
    "#All text data into a single string\n",
    "#text_data"
   ]
  },
  {
   "cell_type": "code",
   "execution_count": 8,
   "id": "fa63b7a5-85a4-4413-8d6d-2afdb08fd01e",
   "metadata": {},
   "outputs": [],
   "source": [
    "review = re.sub('[^a-zA-Z0-9]',' ',text_data) #Removing non alpha-numeric characters from the text data\n",
    "#review"
   ]
  },
  {
   "cell_type": "code",
   "execution_count": 9,
   "id": "e911a9d6-4429-40eb-9ac8-168c198f5e8f",
   "metadata": {},
   "outputs": [],
   "source": [
    "tokenized_words = word_tokenize(review)"
   ]
  },
  {
   "cell_type": "code",
   "execution_count": 10,
   "id": "7284dc3a-7108-40cf-820e-69458594f73b",
   "metadata": {
    "scrolled": true
   },
   "outputs": [],
   "source": [
    "#print(tokenized_words)"
   ]
  },
  {
   "cell_type": "code",
   "execution_count": 11,
   "id": "a1794a6e-d45f-4404-b53c-25fce1ff60a0",
   "metadata": {},
   "outputs": [
    {
     "data": {
      "text/plain": [
       "122774"
      ]
     },
     "execution_count": 11,
     "metadata": {},
     "output_type": "execute_result"
    }
   ],
   "source": [
    "len(tokenized_words)"
   ]
  },
  {
   "cell_type": "markdown",
   "id": "3ea31d35-4f9a-4cef-bf24-c69d57969993",
   "metadata": {},
   "source": [
    "## Count of unique words/tokens before stemming/Lemmatization"
   ]
  },
  {
   "cell_type": "code",
   "execution_count": 13,
   "id": "222d1f7b-6af8-48a2-9a38-0bd117f08b28",
   "metadata": {},
   "outputs": [],
   "source": [
    "unique_words = set(tokenized_words)"
   ]
  },
  {
   "cell_type": "code",
   "execution_count": 14,
   "id": "04407a5e-a25d-45d2-aa65-c6105ac59c23",
   "metadata": {},
   "outputs": [],
   "source": [
    "unique_word_counts = len(unique_words)"
   ]
  },
  {
   "cell_type": "code",
   "execution_count": 15,
   "id": "51eb2768-7013-4e89-b467-3c392bda076c",
   "metadata": {
    "scrolled": true
   },
   "outputs": [],
   "source": [
    "#print(unique_words)"
   ]
  },
  {
   "cell_type": "code",
   "execution_count": 16,
   "id": "84b20512-f73c-43bb-8884-b30d9d6399e9",
   "metadata": {},
   "outputs": [
    {
     "data": {
      "text/plain": [
       "7893"
      ]
     },
     "execution_count": 16,
     "metadata": {},
     "output_type": "execute_result"
    }
   ],
   "source": [
    "unique_word_counts"
   ]
  },
  {
   "cell_type": "markdown",
   "id": "3b175b19-46eb-481d-af2b-364bc39e216b",
   "metadata": {},
   "source": [
    "# Stemming"
   ]
  },
  {
   "cell_type": "markdown",
   "id": "257aa5d5-d35f-41d6-bc3d-1efdfbbdad2d",
   "metadata": {},
   "source": [
    "## Count of unique words/tokens After stemming"
   ]
  },
  {
   "cell_type": "code",
   "execution_count": 19,
   "id": "a728f407-052f-44ea-995f-27ce32d8c018",
   "metadata": {
    "scrolled": true
   },
   "outputs": [],
   "source": [
    "# Initializing Porter Stemmer\n",
    "stemmer = PorterStemmer()\n",
    "\n",
    "# Applying stemming to each word/token\n",
    "stemmed_words = [stemmer.stem(token) for token in tokenized_words]\n",
    "\n",
    "# Count unique tokens after stemming\n",
    "stemmed_unique_words = set(stemmed_words)\n",
    "stemmed_unique_words_count = len(stemmed_unique_words)"
   ]
  },
  {
   "cell_type": "code",
   "execution_count": 20,
   "id": "a9483de8-bd73-4005-87dd-d8ae80a0d52b",
   "metadata": {},
   "outputs": [
    {
     "data": {
      "text/plain": [
       "6528"
      ]
     },
     "execution_count": 20,
     "metadata": {},
     "output_type": "execute_result"
    }
   ],
   "source": [
    "stemmed_unique_words_count"
   ]
  },
  {
   "cell_type": "code",
   "execution_count": 21,
   "id": "3ccbccc9-dfc7-479b-b7c6-43e4677ee5e2",
   "metadata": {
    "scrolled": true
   },
   "outputs": [],
   "source": [
    "#print(stemmed_unique_words)"
   ]
  },
  {
   "cell_type": "code",
   "execution_count": 22,
   "id": "c36faca6-2334-4bae-9cf4-2d190f4c1b60",
   "metadata": {},
   "outputs": [
    {
     "name": "stdout",
     "output_type": "stream",
     "text": [
      "Count of Unique words before stemming: 7893\n",
      "Count of Unique words after stemming: 6528\n"
     ]
    }
   ],
   "source": [
    "print(\"Count of Unique words before stemming:\",unique_word_counts)\n",
    "print(\"Count of Unique words after stemming:\",stemmed_unique_words_count)"
   ]
  },
  {
   "cell_type": "markdown",
   "id": "ed9b0f7b-baf6-4492-976b-5a6c7030dc5e",
   "metadata": {},
   "source": [
    "## Q-B1: Use porter stemmer to run stemming. Count the number of unique words/tokens before and after stemming\n",
    "\n",
    "## Stemming Result:\n",
    "### As can be seen from above the number of unique words before and after stemming have been reduced from 7893 to 6528."
   ]
  },
  {
   "cell_type": "markdown",
   "id": "490a4c5a-bcd1-45b4-839b-d9105079fc10",
   "metadata": {},
   "source": [
    "# Lemmatization"
   ]
  },
  {
   "cell_type": "markdown",
   "id": "d9a0861e-a60d-4730-8e19-e74020820aff",
   "metadata": {},
   "source": [
    "## Count of unique words/tokens after Lemmatization"
   ]
  },
  {
   "cell_type": "code",
   "execution_count": 26,
   "id": "4bcf46b5-d141-4321-9cfa-f23eca03c028",
   "metadata": {},
   "outputs": [],
   "source": [
    "# Initialize the lemmatizer\n",
    "lemmatizer = WordNetLemmatizer()\n",
    "\n",
    "# Applying lemmatization to each word/token\n",
    "lemma_words = [lemmatizer.lemmatize(token) for token in tokenized_words]\n",
    "\n",
    "# Count unique tokens after lemmatization\n",
    "lemma_unique_words = set(lemma_words)\n",
    "lemma_unique_words_count = len(lemma_unique_words)"
   ]
  },
  {
   "cell_type": "code",
   "execution_count": 27,
   "id": "7c026c98-52a6-4c8b-97d4-6c54c7a9672c",
   "metadata": {
    "scrolled": true
   },
   "outputs": [],
   "source": [
    "#print(lemma_unique_words)"
   ]
  },
  {
   "cell_type": "code",
   "execution_count": 28,
   "id": "3913842b-4748-4ac5-8a29-b3b2d2821d7c",
   "metadata": {},
   "outputs": [
    {
     "data": {
      "text/plain": [
       "7334"
      ]
     },
     "execution_count": 28,
     "metadata": {},
     "output_type": "execute_result"
    }
   ],
   "source": [
    "lemma_unique_words_count"
   ]
  },
  {
   "cell_type": "code",
   "execution_count": 29,
   "id": "8307b330-8a6a-4906-b7a1-98a3dba949f5",
   "metadata": {},
   "outputs": [
    {
     "name": "stdout",
     "output_type": "stream",
     "text": [
      "Count of Unique words before lemmatization: 7893\n",
      "Count of Unique words after lemmatization: 7334\n"
     ]
    }
   ],
   "source": [
    "print(\"Count of Unique words before lemmatization:\",unique_word_counts)\n",
    "print(\"Count of Unique words after lemmatization:\",lemma_unique_words_count)"
   ]
  },
  {
   "cell_type": "markdown",
   "id": "f2bf5217-0c21-4c09-8287-79d38923a7e5",
   "metadata": {},
   "source": [
    "## Q-B2: Perform lemmatization using NLTK lemmatizer . Count the number of unique words/tokens before and after lemmatization?\n",
    "\n",
    "## Lemmatization Result:\n",
    "### As can be seen from above the number of unique words before and after lemmatization have been reduced from 7893 to 7334."
   ]
  }
 ],
 "metadata": {
  "kernelspec": {
   "display_name": "Python [conda env:base] *",
   "language": "python",
   "name": "conda-base-py"
  },
  "language_info": {
   "codemirror_mode": {
    "name": "ipython",
    "version": 3
   },
   "file_extension": ".py",
   "mimetype": "text/x-python",
   "name": "python",
   "nbconvert_exporter": "python",
   "pygments_lexer": "ipython3",
   "version": "3.12.7"
  }
 },
 "nbformat": 4,
 "nbformat_minor": 5
}
