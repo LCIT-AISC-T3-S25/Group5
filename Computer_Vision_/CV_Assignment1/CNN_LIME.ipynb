{
 "cells": [
  {
   "cell_type": "markdown",
   "id": "9f313790-21cc-4328-8bee-4d98250e2ca2",
   "metadata": {},
   "source": [
    "## LIME"
   ]
  },
  {
   "cell_type": "code",
   "execution_count": 50,
   "id": "129ee699-b2da-477b-b69f-5b7e753ed5da",
   "metadata": {},
   "outputs": [],
   "source": [
    "import numpy as np\n",
    "import matplotlib.pyplot as plt\n",
    "from lime import lime_image\n",
    "from skimage.segmentation import mark_boundaries\n",
    "\n",
    "# Define a preprocessing function for LIME\n",
    "def preprocess_input_lime(img):\n",
    "    return img / 255.0"
   ]
  },
  {
   "cell_type": "code",
   "execution_count": 57,
   "id": "23f6d987-2c3e-4fb2-9f3e-7495c709e816",
   "metadata": {},
   "outputs": [
    {
     "data": {
      "application/vnd.jupyter.widget-view+json": {
       "model_id": "cf1ed138c41847b38d3dbd55d545a145",
       "version_major": 2,
       "version_minor": 0
      },
      "text/plain": [
       "  0%|          | 0/1000 [00:00<?, ?it/s]"
      ]
     },
     "metadata": {},
     "output_type": "display_data"
    }
   ],
   "source": [
    "# Convert grayscale image to RGB for LIME (visual only)\n",
    "def gray_to_rgb(img):\n",
    "    if img.shape[-1] == 1:\n",
    "        return np.repeat(img, 3, axis=-1)\n",
    "    return img\n",
    "\n",
    "# Pick a grayscale test image\n",
    "sample_image = X_test[0]  # shape (64, 64, 1)\n",
    "sample_image_rgb = gray_to_rgb(sample_image)\n",
    "\n",
    "# LIME explainer\n",
    "explainer = lime_image.LimeImageExplainer()\n",
    "\n",
    "# Prediction function — convert back to grayscale for the model\n",
    "def predict_fn(images):\n",
    "    # Convert 3-channel RGB back to grayscale expected by model\n",
    "    gray_images = np.expand_dims(images[:, :, :, 0], axis=-1)\n",
    "    return model.predict(gray_images, verbose=0)\n",
    "\n",
    "# Run LIME\n",
    "explanation = explainer.explain_instance(\n",
    "    sample_image_rgb.astype('double'),  # RGB version\n",
    "    predict_fn,\n",
    "    top_labels=1,\n",
    "    hide_color=0,\n",
    "    num_samples=1000\n",
    ")\n",
    "\n",
    "# Visualize result\n",
    "temp, mask = explanation.get_image_and_mask(\n",
    "    label=explanation.top_labels[0],\n",
    "    positive_only=True,\n",
    "    hide_rest=False,\n",
    "    num_features=5,\n",
    "    min_weight=0.0\n",
    ")"
   ]
  },
  {
   "cell_type": "code",
   "execution_count": 58,
   "id": "33701363-d206-4fad-8586-6bf98572909a",
   "metadata": {},
   "outputs": [
    {
     "data": {
      "image/png": "[encoded data removed]",
      "text/plain": [
       "<Figure size 600x600 with 1 Axes>"
      ]
     },
     "metadata": {},
     "output_type": "display_data"
    }
   ],
   "source": [
    "plt.figure(figsize=(6, 6))\n",
    "plt.title(\"LIME Explanation (Grayscale Model)\")\n",
    "plt.imshow(mark_boundaries(temp, mask))\n",
    "plt.axis('off')\n",
    "plt.show()"
   ]
  },
  {
   "cell_type": "markdown",
   "id": "b568cd2f",
   "metadata": {},
   "source": [
    "## Observations:\n",
    "- The yellow boundaries mark the top superpixels (segments) that influenced the prediction the most.\n",
    "\n",
    "- In this explanation, only a narrow vertical and horizontal region was highlighted, which suggests:\n",
    "\n",
    "- The model's decision was heavily influenced by a small section of the image.\n",
    "\n",
    "- This region might include features such as edges, contours, or object boundaries.\n",
    "\n",
    "- The rest of the image appears to have minimal impact on the prediction."
   ]
  },
  {
   "cell_type": "markdown",
   "id": "81d3b70c",
   "metadata": {},
   "source": [
    "## Interpretation:\n",
    "- The model may be overfitting to specific structural elements in grayscale, rather than learning - holistic object-level representations.\n",
    "\n",
    "- The highlighted areas are crisp and well-localized, indicating the CNN is focusing on certain textures or object outlines.\n",
    "\n",
    "- If the model misclassifies the image, it could be because these narrow regions are not representative of the entire class."
   ]
  },
  {
   "cell_type": "markdown",
   "id": "f0ee1645",
   "metadata": {},
   "source": []
  }
 ],
 "metadata": {
  "kernelspec": {
   "display_name": "Python 3 (ipykernel)",
   "language": "python",
   "name": "python3"
  },
  "language_info": {
   "codemirror_mode": {
    "name": "ipython",
    "version": 3
   },
   "file_extension": ".py",
   "mimetype": "text/x-python",
   "name": "python",
   "nbconvert_exporter": "python",
   "pygments_lexer": "ipython3",
   "version": "3.11.7"
  }
 },
 "nbformat": 4,
 "nbformat_minor": 5
}
