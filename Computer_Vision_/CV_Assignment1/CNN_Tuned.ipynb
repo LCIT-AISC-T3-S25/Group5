{
 "cells": [
  {
   "cell_type": "markdown",
   "id": "2b758242-c24b-4941-aa8b-74a86d1f410d",
   "metadata": {},
   "source": [
    "## Empirical Tuning"
   ]
  },
  {
   "cell_type": "markdown",
   "id": "5ef43140-3594-432f-9381-43e7645fe3d4",
   "metadata": {},
   "source": [
    "### Round 1"
   ]
  },
  {
   "cell_type": "code",
   "execution_count": 102,
   "id": "c15c9c30-3761-42a7-b872-817777ca2875",
   "metadata": {},
   "outputs": [],
   "source": [
    "import numpy as np\n",
    "from sklearn.metrics import (\n",
    "    confusion_matrix, classification_report, roc_auc_score,\n",
    "    log_loss, balanced_accuracy_score, cohen_kappa_score,\n",
    "    matthews_corrcoef, f1_score, recall_score, precision_score\n",
    ")\n",
    "from tensorflow.keras.utils import to_categorical\n",
    "from tensorflow.keras.preprocessing.image import ImageDataGenerator\n",
    "from tensorflow.keras.layers import BatchNormalization"
   ]
  },
  {
   "cell_type": "code",
   "execution_count": 39,
   "id": "68340592-1e86-4df7-a727-69b283d23fbc",
   "metadata": {},
   "outputs": [
    {
     "name": "stdout",
     "output_type": "stream",
     "text": [
      "\n",
      "=== Round 1: Baseline CNN ===\n"
     ]
    }
   ],
   "source": [
    "print(\"\\n=== Round 1: Baseline CNN ===\")\n",
    "\n",
    "model = tf.keras.Sequential([\n",
    "    tf.keras.layers.Input(shape=input_shape),\n",
    "    tf.keras.layers.Conv2D(32, (3,3), activation='relu'),\n",
    "    tf.keras.layers.MaxPooling2D((2,2)),\n",
    "    tf.keras.layers.Conv2D(64, (3,3), activation='relu'),\n",
    "    tf.keras.layers.MaxPooling2D((2,2)),\n",
    "    tf.keras.layers.Conv2D(128, (3,3), activation='relu'),\n",
    "    tf.keras.layers.Flatten(),\n",
    "    tf.keras.layers.Dense(64, activation='relu'),\n",
    "    tf.keras.layers.Dense(num_classes, activation='softmax')])"
   ]
  },
  {
   "cell_type": "code",
   "execution_count": 41,
   "id": "599ef447-321a-4cda-947a-c7bc9df1a033",
   "metadata": {},
   "outputs": [],
   "source": [
    "model.compile(optimizer='adam',\n",
    "              loss='sparse_categorical_crossentropy',\n",
    "              metrics=['accuracy', tf.keras.metrics.sparse_top_k_categorical_accuracy])"
   ]
  },
  {
   "cell_type": "code",
   "execution_count": 43,
   "id": "4ef35faa-095a-482c-921b-db4d92ead5ed",
   "metadata": {
    "scrolled": true
   },
   "outputs": [
    {
     "name": "stdout",
     "output_type": "stream",
     "text": [
      "Epoch 1/10\n",
      "187/187 - 7s - 39ms/step - accuracy: 0.5634 - loss: 1.1020 - sparse_top_k_categorical_accuracy: 1.0000 - val_accuracy: 0.5964 - val_loss: 1.0377 - val_sparse_top_k_categorical_accuracy: 1.0000\n",
      "Epoch 2/10\n",
      "187/187 - 4s - 23ms/step - accuracy: 0.6518 - loss: 0.8982 - sparse_top_k_categorical_accuracy: 1.0000 - val_accuracy: 0.6539 - val_loss: 0.9106 - val_sparse_top_k_categorical_accuracy: 1.0000\n",
      "Epoch 3/10\n",
      "187/187 - 5s - 24ms/step - accuracy: 0.6976 - loss: 0.7964 - sparse_top_k_categorical_accuracy: 1.0000 - val_accuracy: 0.7008 - val_loss: 0.8244 - val_sparse_top_k_categorical_accuracy: 1.0000\n",
      "Epoch 4/10\n",
      "187/187 - 4s - 23ms/step - accuracy: 0.7504 - loss: 0.6719 - sparse_top_k_categorical_accuracy: 1.0000 - val_accuracy: 0.7028 - val_loss: 0.8430 - val_sparse_top_k_categorical_accuracy: 1.0000\n",
      "Epoch 5/10\n",
      "187/187 - 4s - 23ms/step - accuracy: 0.7929 - loss: 0.5442 - sparse_top_k_categorical_accuracy: 1.0000 - val_accuracy: 0.7135 - val_loss: 0.8389 - val_sparse_top_k_categorical_accuracy: 1.0000\n",
      "Epoch 6/10\n",
      "187/187 - 5s - 25ms/step - accuracy: 0.8604 - loss: 0.3843 - sparse_top_k_categorical_accuracy: 1.0000 - val_accuracy: 0.6948 - val_loss: 1.0440 - val_sparse_top_k_categorical_accuracy: 1.0000\n",
      "Epoch 7/10\n",
      "187/187 - 4s - 22ms/step - accuracy: 0.9160 - loss: 0.2442 - sparse_top_k_categorical_accuracy: 1.0000 - val_accuracy: 0.6707 - val_loss: 1.4017 - val_sparse_top_k_categorical_accuracy: 1.0000\n",
      "Epoch 8/10\n",
      "187/187 - 5s - 25ms/step - accuracy: 0.9550 - loss: 0.1342 - sparse_top_k_categorical_accuracy: 1.0000 - val_accuracy: 0.6754 - val_loss: 1.4071 - val_sparse_top_k_categorical_accuracy: 1.0000\n",
      "Epoch 9/10\n",
      "187/187 - 4s - 24ms/step - accuracy: 0.9833 - loss: 0.0607 - sparse_top_k_categorical_accuracy: 1.0000 - val_accuracy: 0.7075 - val_loss: 1.8293 - val_sparse_top_k_categorical_accuracy: 1.0000\n",
      "Epoch 10/10\n",
      "187/187 - 4s - 23ms/step - accuracy: 0.9946 - loss: 0.0230 - sparse_top_k_categorical_accuracy: 1.0000 - val_accuracy: 0.7062 - val_loss: 2.1115 - val_sparse_top_k_categorical_accuracy: 1.0000\n"
     ]
    }
   ],
   "source": [
    "history = model.fit(X_train, y_train, epochs=10, validation_split=0.2, batch_size=32, verbose=2)"
   ]
  },
  {
   "cell_type": "code",
   "execution_count": 44,
   "id": "5066e68e-749f-40f4-98de-825773117700",
   "metadata": {},
   "outputs": [
    {
     "name": "stdout",
     "output_type": "stream",
     "text": [
      "Round 1 Test Accuracy: 0.6872\n",
      "Round 1 Test Top-3 Accuracy: 1.0000\n"
     ]
    }
   ],
   "source": [
    "test_loss, test_acc, test_top3_acc = model.evaluate(X_test, y_test, verbose=0)\n",
    "print(f\"Round 1 Test Accuracy: {test_acc:.4f}\")\n",
    "print(f\"Round 1 Test Top-3 Accuracy: {test_top3_acc:.4f}\")"
   ]
  },
  {
   "cell_type": "markdown",
   "id": "c66dcd58-a38e-42aa-8957-a1e21b2acafe",
   "metadata": {},
   "source": [
    "## 🔍 Observations\n",
    "\n",
    "### 🧪 Model Performance\n",
    "- **Test Accuracy**: `68.7%` – Moderate overall performance.\n",
    "- **Top-3 Accuracy**: `100%` – Excellent; the correct label is almost always in the top 3 predictions.\n",
    "---"
   ]
  },
  {
   "cell_type": "code",
   "execution_count": 45,
   "id": "44428a7b-3979-4d64-91a0-fad0291125f0",
   "metadata": {},
   "outputs": [
    {
     "name": "stdout",
     "output_type": "stream",
     "text": [
      "\u001b[1m59/59\u001b[0m \u001b[32m━━━━━━━━━━━━━━━━━━━━\u001b[0m\u001b[37m\u001b[0m \u001b[1m1s\u001b[0m 9ms/step\n"
     ]
    }
   ],
   "source": [
    "y_pred_probs = model.predict(X_test)\n",
    "y_pred = np.argmax(y_pred_probs, axis=1)"
   ]
  },
  {
   "cell_type": "code",
   "execution_count": 46,
   "id": "525792f8-0eab-4fd8-8e6a-1770aed95847",
   "metadata": {},
   "outputs": [
    {
     "name": "stdout",
     "output_type": "stream",
     "text": [
      "Confusion Matrix:\n",
      "[[317  65  26 110   0]\n",
      " [ 67  47   4  57   0]\n",
      " [ 29  13  45  57   1]\n",
      " [ 90  29  17 874   0]\n",
      " [  7   1   2   9   0]]\n"
     ]
    }
   ],
   "source": [
    "cm = confusion_matrix(y_test, y_pred)\n",
    "print(\"Confusion Matrix:\")\n",
    "print(cm)"
   ]
  },
  {
   "cell_type": "markdown",
   "id": "d5fe1682-9f15-492c-b5c9-a536a9d17012",
   "metadata": {},
   "source": [
    "### 🧾 Confusion Matrix Insights\n",
    "- Noticeable confusion between **'inside'**, **'outside'**, and **'drink'** classes.\n",
    "- **'Food'** has many correct predictions but also attracts false positives from other classes.\n",
    "---"
   ]
  },
  {
   "cell_type": "code",
   "execution_count": 47,
   "id": "af53dbfb-424a-4ec3-b0c4-8f7dcc063c0b",
   "metadata": {},
   "outputs": [
    {
     "name": "stdout",
     "output_type": "stream",
     "text": [
      "Classification Report:\n",
      "              precision    recall  f1-score   support\n",
      "\n",
      "      inside       0.62      0.61      0.62       518\n",
      "     outside       0.30      0.27      0.28       175\n",
      "       drink       0.48      0.31      0.38       145\n",
      "        food       0.79      0.87      0.83      1010\n",
      "        menu       0.00      0.00      0.00        19\n",
      "\n",
      "    accuracy                           0.69      1867\n",
      "   macro avg       0.44      0.41      0.42      1867\n",
      "weighted avg       0.67      0.69      0.67      1867\n",
      "\n"
     ]
    }
   ],
   "source": [
    "print(\"Classification Report:\")\n",
    "print(classification_report(y_test, y_pred, target_names=list(label_dict.keys())))"
   ]
  },
  {
   "cell_type": "markdown",
   "id": "8c250044-92b0-4d0c-b1c5-cae960797d09",
   "metadata": {},
   "source": [
    "### 📉 Class-wise Performance\n",
    "- **'Food' class** performs best with an F1-score of `0.83`, thanks to high support (sample count).\n",
    "- **'Menu' class** has extremely poor performance (`F1-score: 0.00`) – likely due to very low support (only 19 samples).\n",
    "- **'Outside'** and **'drink'** classes have low precision, recall, and F1-scores – indicating frequent misclassifications.\n",
    "---"
   ]
  },
  {
   "cell_type": "code",
   "execution_count": 53,
   "id": "80472822-5e20-43e9-a1ed-4e6a054f29ea",
   "metadata": {},
   "outputs": [],
   "source": [
    "y_test_cat = to_categorical(y_test, num_classes=num_classes)"
   ]
  },
  {
   "cell_type": "code",
   "execution_count": 55,
   "id": "565b04f9-e41f-4ebb-b797-bc3f442a3dd7",
   "metadata": {},
   "outputs": [
    {
     "name": "stdout",
     "output_type": "stream",
     "text": [
      "\n",
      "AUC Scores:\n",
      "Class inside AUC: 0.851\n",
      "Class outside AUC: 0.785\n",
      "Class drink AUC: 0.768\n",
      "Class food AUC: 0.893\n",
      "Class menu AUC: 0.717\n"
     ]
    }
   ],
   "source": [
    "print(\"\\nAUC Scores:\")\n",
    "auc_scores = []\n",
    "for i in range(num_classes):\n",
    "    try:\n",
    "        auc = roc_auc_score(y_test_cat[:, i], y_pred_probs[:, i])\n",
    "        auc_scores.append(auc)\n",
    "        print(f\"Class {list(label_dict.keys())[i]} AUC: {auc:.3f}\")\n",
    "    except:\n",
    "        auc_scores.append(None)\n",
    "        print(f\"Class {list(label_dict.keys())[i]} AUC: N/A\")"
   ]
  },
  {
   "cell_type": "code",
   "execution_count": 66,
   "id": "20b0009f-e79a-426d-bbfc-23d6d04ef6b5",
   "metadata": {},
   "outputs": [],
   "source": [
    "logloss = log_loss(y_test, y_pred_probs)\n",
    "balanced_acc = balanced_accuracy_score(y_test, y_pred)\n",
    "kappa = cohen_kappa_score(y_test, y_pred)\n",
    "mcc = matthews_corrcoef(y_test, y_pred)\n",
    "macro_f1 = f1_score(y_test, y_pred, average='macro')\n",
    "weighted_f1 = f1_score(y_test, y_pred, average='weighted')\n",
    "macro_recall = recall_score(y_test, y_pred, average='macro')  # Sensitivity\n",
    "macro_precision = precision_score(y_test, y_pred, average='macro')"
   ]
  },
  {
   "cell_type": "code",
   "execution_count": 68,
   "id": "382a674a-4ea2-4445-85ec-a2f46a89a6bb",
   "metadata": {},
   "outputs": [
    {
     "name": "stdout",
     "output_type": "stream",
     "text": [
      "\n",
      "Specificity per Class:\n",
      "Class inside Specificity: 0.857\n",
      "Class outside Specificity: 0.936\n",
      "Class drink Specificity: 0.972\n",
      "Class food Specificity: 0.728\n",
      "Class menu Specificity: 0.999\n"
     ]
    }
   ],
   "source": [
    "print(\"\\nSpecificity per Class:\")\n",
    "specificity_per_class = []\n",
    "for i in range(num_classes):\n",
    "    tn = np.sum((y_test != i) & (y_pred != i))\n",
    "    fp = np.sum((y_test != i) & (y_pred == i))\n",
    "    specificity = tn / (tn + fp) if (tn + fp) > 0 else 0\n",
    "    specificity_per_class.append(specificity)\n",
    "    print(f\"Class {list(label_dict.keys())[i]} Specificity: {specificity:.3f}\")"
   ]
  },
  {
   "cell_type": "markdown",
   "id": "968a745f-7467-4bb2-aa92-b5f8df1a75d2",
   "metadata": {},
   "source": [
    "### ✔️ Specificity per Class\n",
    "- High specificity for all classes:\n",
    "  - `inside`: 0.857\n",
    "  - `outside`: 0.936\n",
    "  - `drink`: 0.972\n",
    "  - `food`: 0.728\n",
    "  - `menu`: 0.999\n",
    "- Suggests the model is good at **not misclassifying other classes as these**, but may be too conservative in predicting them (especially for 'menu').\n",
    "---"
   ]
  },
  {
   "cell_type": "code",
   "execution_count": 70,
   "id": "347e7b87-04fe-4bf1-bfc9-726db81f7cd3",
   "metadata": {},
   "outputs": [
    {
     "name": "stdout",
     "output_type": "stream",
     "text": [
      "\n",
      "=== Extended Metrics Summary ===\n",
      "Log Loss: 1.9876\n",
      "Balanced Accuracy: 0.4112\n",
      "Cohen's Kappa: 0.4714\n",
      "Matthews Correlation Coefficient: 0.4733\n",
      "Macro F1-Score: 0.4208\n",
      "Weighted F1-Score: 0.6737\n",
      "Macro Recall (Sensitivity): 0.4112\n",
      "Macro Precision: 0.4386\n"
     ]
    }
   ],
   "source": [
    "print(\"\\n=== Extended Metrics Summary ===\")\n",
    "print(f\"Log Loss: {logloss:.4f}\")\n",
    "print(f\"Balanced Accuracy: {balanced_acc:.4f}\")\n",
    "print(f\"Cohen's Kappa: {kappa:.4f}\")\n",
    "print(f\"Matthews Correlation Coefficient: {mcc:.4f}\")\n",
    "print(f\"Macro F1-Score: {macro_f1:.4f}\")\n",
    "print(f\"Weighted F1-Score: {weighted_f1:.4f}\")\n",
    "print(f\"Macro Recall (Sensitivity): {macro_recall:.4f}\")\n",
    "print(f\"Macro Precision: {macro_precision:.4f}\")"
   ]
  },
  {
   "cell_type": "markdown",
   "id": "7d905ee9-6c34-4435-969d-611260c12332",
   "metadata": {},
   "source": [
    "### 📊 Advanced Metrics\n",
    "- **Log Loss**: `1.9876` – High, indicating overconfident yet incorrect predictions.\n",
    "- **Balanced Accuracy**: `0.4112` – Low, showing the model doesn't generalize well across all classes.\n",
    "- **Cohen’s Kappa**: `0.4714` – Moderate agreement with true labels, better than chance.\n",
    "- **Matthews Correlation Coefficient**: `0.4733` – Indicates moderate classification quality.\n",
    "- **Macro F1-Score**: `0.4208` vs. **Weighted F1-Score**: `0.6737` – Shows performance skewed by class imbalance.\n",
    "- **Macro Recall (Sensitivity)**: `0.4112`, **Macro Precision**: `0.4386` – Both indicate overall weak ability to identify minority classes.\n",
    "---"
   ]
  },
  {
   "cell_type": "markdown",
   "id": "3efbb02a-843b-4dc2-8395-1edee70d6e27",
   "metadata": {},
   "source": [
    "## 📌 Summary\n",
    "\n",
    "- The model shows **strong bias toward the dominant class ('food')**, leading to misleadingly high accuracy and weighted F1-score.\n",
    "- **Excellent top-3 accuracy** reveals strong ranking ability – useful in multi-suggestion systems.\n",
    "- **Severe class imbalance** causes underperformance on minority classes such as 'menu', 'outside', and 'drink'.\n",
    "- **Overfitting signs** visible: training accuracy increases steadily, but validation accuracy plateaus early.\n",
    "- **Predictions are overconfident**, as shown by high log loss; calibration may be required.\n",
    "- **Key improvements needed**:\n",
    "  - Address class imbalance (resampling, class weighting)\n",
    "  - Use regularization and/or early stopping\n",
    "  - Try alternative loss functions (e.g., focal loss)\n",
    "  - Improve confidence calibration (e.g., temperature scaling)"
   ]
  },
  {
   "cell_type": "code",
   "execution_count": null,
   "id": "133a96c6-19a3-4920-a6e0-46ede9020aef",
   "metadata": {},
   "outputs": [],
   "source": []
  },
  {
   "cell_type": "markdown",
   "id": "5a486876-0a7b-46a1-8927-f56e27e74764",
   "metadata": {},
   "source": [
    "### Round 2 "
   ]
  },
  {
   "cell_type": "code",
   "execution_count": 73,
   "id": "d8db72fc-af4b-4c6b-8511-bf959c439466",
   "metadata": {},
   "outputs": [
    {
     "name": "stdout",
     "output_type": "stream",
     "text": [
      "\n",
      "=== Round 2: Add Dropout and tune optimizer ===\n"
     ]
    }
   ],
   "source": [
    "print(\"\\n=== Round 2: Add Dropout and tune optimizer ===\")\n",
    "\n",
    "model = tf.keras.Sequential([\n",
    "    tf.keras.layers.Input(shape=input_shape),\n",
    "    tf.keras.layers.Conv2D(32, (3, 3), activation='relu'),\n",
    "    tf.keras.layers.MaxPooling2D((2, 2)),\n",
    "    tf.keras.layers.Dropout(0.25),\n",
    "    tf.keras.layers.Conv2D(64, (3, 3), activation='relu'),\n",
    "    tf.keras.layers.MaxPooling2D((2, 2)),\n",
    "    tf.keras.layers.Dropout(0.25),\n",
    "    tf.keras.layers.Conv2D(128, (3, 3), activation='relu'),\n",
    "    tf.keras.layers.Flatten(),\n",
    "    tf.keras.layers.Dense(128, activation='relu'),\n",
    "    tf.keras.layers.Dropout(0.5),\n",
    "    tf.keras.layers.Dense(num_classes, activation='softmax')])"
   ]
  },
  {
   "cell_type": "code",
   "execution_count": 75,
   "id": "5fb7a481-5a73-4938-bb9d-d9cbbf69f089",
   "metadata": {},
   "outputs": [],
   "source": [
    "optimizer = tf.keras.optimizers.Adam(learning_rate=0.0005)\n",
    "model.compile(\n",
    "    optimizer=optimizer,\n",
    "    loss='sparse_categorical_crossentropy',\n",
    "    metrics=[\n",
    "        'accuracy',\n",
    "        tf.keras.metrics.SparseTopKCategoricalAccuracy(k=3)])"
   ]
  },
  {
   "cell_type": "code",
   "execution_count": 77,
   "id": "d93e0a6a-c2e9-4302-8587-0454f25c4911",
   "metadata": {
    "scrolled": true
   },
   "outputs": [
    {
     "name": "stdout",
     "output_type": "stream",
     "text": [
      "Epoch 1/15\n",
      "187/187 - 8s - 43ms/step - accuracy: 0.5381 - loss: 1.1687 - sparse_top_k_categorical_accuracy: 0.9089 - val_accuracy: 0.5689 - val_loss: 1.1722 - val_sparse_top_k_categorical_accuracy: 0.9123\n",
      "Epoch 2/15\n",
      "187/187 - 6s - 31ms/step - accuracy: 0.5915 - loss: 1.0591 - sparse_top_k_categorical_accuracy: 0.9223 - val_accuracy: 0.6325 - val_loss: 0.9546 - val_sparse_top_k_categorical_accuracy: 0.9190\n",
      "Epoch 3/15\n",
      "187/187 - 6s - 32ms/step - accuracy: 0.6325 - loss: 0.9414 - sparse_top_k_categorical_accuracy: 0.9344 - val_accuracy: 0.6539 - val_loss: 0.9050 - val_sparse_top_k_categorical_accuracy: 0.9304\n",
      "Epoch 4/15\n",
      "187/187 - 6s - 33ms/step - accuracy: 0.6645 - loss: 0.8738 - sparse_top_k_categorical_accuracy: 0.9396 - val_accuracy: 0.6539 - val_loss: 0.8988 - val_sparse_top_k_categorical_accuracy: 0.9331\n",
      "Epoch 5/15\n",
      "187/187 - 6s - 33ms/step - accuracy: 0.6847 - loss: 0.8235 - sparse_top_k_categorical_accuracy: 0.9478 - val_accuracy: 0.6841 - val_loss: 0.8565 - val_sparse_top_k_categorical_accuracy: 0.9438\n",
      "Epoch 6/15\n",
      "187/187 - 6s - 32ms/step - accuracy: 0.7134 - loss: 0.7542 - sparse_top_k_categorical_accuracy: 0.9558 - val_accuracy: 0.6981 - val_loss: 0.8429 - val_sparse_top_k_categorical_accuracy: 0.9458\n",
      "Epoch 7/15\n",
      "187/187 - 6s - 32ms/step - accuracy: 0.7300 - loss: 0.7081 - sparse_top_k_categorical_accuracy: 0.9588 - val_accuracy: 0.7075 - val_loss: 0.8221 - val_sparse_top_k_categorical_accuracy: 0.9498\n",
      "Epoch 8/15\n",
      "187/187 - 6s - 32ms/step - accuracy: 0.7614 - loss: 0.6435 - sparse_top_k_categorical_accuracy: 0.9653 - val_accuracy: 0.7102 - val_loss: 0.8388 - val_sparse_top_k_categorical_accuracy: 0.9438\n",
      "Epoch 9/15\n",
      "187/187 - 6s - 32ms/step - accuracy: 0.7844 - loss: 0.5749 - sparse_top_k_categorical_accuracy: 0.9734 - val_accuracy: 0.7082 - val_loss: 0.8333 - val_sparse_top_k_categorical_accuracy: 0.9471\n",
      "Epoch 10/15\n",
      "187/187 - 6s - 32ms/step - accuracy: 0.8081 - loss: 0.5174 - sparse_top_k_categorical_accuracy: 0.9791 - val_accuracy: 0.6995 - val_loss: 0.9021 - val_sparse_top_k_categorical_accuracy: 0.9451\n",
      "Epoch 11/15\n",
      "187/187 - 6s - 34ms/step - accuracy: 0.8261 - loss: 0.4558 - sparse_top_k_categorical_accuracy: 0.9844 - val_accuracy: 0.7041 - val_loss: 0.9361 - val_sparse_top_k_categorical_accuracy: 0.9478\n",
      "Epoch 12/15\n",
      "187/187 - 6s - 32ms/step - accuracy: 0.8508 - loss: 0.3911 - sparse_top_k_categorical_accuracy: 0.9893 - val_accuracy: 0.7282 - val_loss: 0.9433 - val_sparse_top_k_categorical_accuracy: 0.9431\n",
      "Epoch 13/15\n",
      "187/187 - 6s - 33ms/step - accuracy: 0.8728 - loss: 0.3442 - sparse_top_k_categorical_accuracy: 0.9906 - val_accuracy: 0.7035 - val_loss: 0.9607 - val_sparse_top_k_categorical_accuracy: 0.9465\n",
      "Epoch 14/15\n",
      "187/187 - 6s - 31ms/step - accuracy: 0.8903 - loss: 0.2948 - sparse_top_k_categorical_accuracy: 0.9943 - val_accuracy: 0.7323 - val_loss: 1.0585 - val_sparse_top_k_categorical_accuracy: 0.9458\n",
      "Epoch 15/15\n",
      "187/187 - 6s - 31ms/step - accuracy: 0.9057 - loss: 0.2530 - sparse_top_k_categorical_accuracy: 0.9946 - val_accuracy: 0.7102 - val_loss: 1.0944 - val_sparse_top_k_categorical_accuracy: 0.9465\n"
     ]
    }
   ],
   "source": [
    "history = model.fit(X_train, y_train, epochs=15, validation_split=0.2, batch_size=32, verbose=2)"
   ]
  },
  {
   "cell_type": "code",
   "execution_count": 78,
   "id": "33a89e2e-9921-4467-a5b8-ac59bddd11dd",
   "metadata": {},
   "outputs": [
    {
     "name": "stdout",
     "output_type": "stream",
     "text": [
      "Round 2 Test Accuracy: 0.7076\n",
      "Round 2 Test Top-3 Accuracy: 0.9400\n"
     ]
    }
   ],
   "source": [
    "test_loss, test_acc, test_top3_acc = model.evaluate(X_test, y_test, verbose=0)\n",
    "print(f\"Round 2 Test Accuracy: {test_acc:.4f}\")\n",
    "print(f\"Round 2 Test Top-3 Accuracy: {test_top3_acc:.4f}\")"
   ]
  },
  {
   "cell_type": "markdown",
   "id": "decc52e3-7a90-47b4-9d89-e6aec424da56",
   "metadata": {},
   "source": [
    "## 🔍 Observations\n",
    "\n",
    "### 🧪 Model Performance\n",
    "- **Test Accuracy**: `70.76%` – An improvement over Round 1 (`68.7%`).\n",
    "- **Top-3 Accuracy**: `94.00%` – Slight drop from 100% in Round 1 but still very high."
   ]
  },
  {
   "cell_type": "code",
   "execution_count": 79,
   "id": "c674667f-d23a-4759-ad36-381c89f5fc9a",
   "metadata": {},
   "outputs": [
    {
     "name": "stdout",
     "output_type": "stream",
     "text": [
      "\u001b[1m59/59\u001b[0m \u001b[32m━━━━━━━━━━━━━━━━━━━━\u001b[0m\u001b[37m\u001b[0m \u001b[1m1s\u001b[0m 9ms/step\n"
     ]
    }
   ],
   "source": [
    "y_pred_probs = model.predict(X_test)\n",
    "y_pred = np.argmax(y_pred_probs, axis=1)"
   ]
  },
  {
   "cell_type": "code",
   "execution_count": 80,
   "id": "e2b5c65a-3110-4f1c-9427-3eaab6fa71eb",
   "metadata": {},
   "outputs": [
    {
     "name": "stdout",
     "output_type": "stream",
     "text": [
      "Confusion Matrix:\n",
      "[[354  38  30  95   1]\n",
      " [ 67  51   7  50   0]\n",
      " [ 31  13  50  51   0]\n",
      " [ 90  19  35 866   0]\n",
      " [ 11   1   4   3   0]]\n"
     ]
    }
   ],
   "source": [
    "cm = confusion_matrix(y_test, y_pred)\n",
    "print(\"Confusion Matrix:\")\n",
    "print(cm)"
   ]
  },
  {
   "cell_type": "markdown",
   "id": "de13beee-660b-4708-9d00-accfdf75ccca",
   "metadata": {},
   "source": [
    "### 🧾 Confusion Matrix Insights\n",
    "- Considerable misclassifications between **'inside'**, **'food'**, and **'drink'**.\n",
    "- **'Menu'** is nearly ignored, despite high specificity, showing poor sensitivity."
   ]
  },
  {
   "cell_type": "code",
   "execution_count": 81,
   "id": "0450b888-9d9c-475a-aa8e-f3d8ad1871e9",
   "metadata": {},
   "outputs": [
    {
     "name": "stdout",
     "output_type": "stream",
     "text": [
      "Classification Report:\n",
      "              precision    recall  f1-score   support\n",
      "\n",
      "      inside       0.64      0.68      0.66       518\n",
      "     outside       0.42      0.29      0.34       175\n",
      "       drink       0.40      0.34      0.37       145\n",
      "        food       0.81      0.86      0.83      1010\n",
      "        menu       0.00      0.00      0.00        19\n",
      "\n",
      "    accuracy                           0.71      1867\n",
      "   macro avg       0.45      0.44      0.44      1867\n",
      "weighted avg       0.69      0.71      0.70      1867\n",
      "\n"
     ]
    }
   ],
   "source": [
    "print(\"Classification Report:\")\n",
    "print(classification_report(y_test, y_pred, target_names=list(label_dict.keys())))"
   ]
  },
  {
   "cell_type": "markdown",
   "id": "b66feccc-0dbb-4e40-b561-6e3c008b70fd",
   "metadata": {},
   "source": [
    "### 📉 Class-wise Performance\n",
    "- **'Food'** remains the strongest class:\n",
    "  - `Precision: 0.81`, `Recall: 0.86`, `F1-score: 0.83`\n",
    "- **'Inside'** performs moderately well:\n",
    "  - `F1-score: 0.66`, showing balanced prediction capability.\n",
    "- **'Outside'** and **'Drink'** classes still suffer from low F1-scores (`0.34` and `0.37` respectively).\n",
    "- **'Menu'** continues to have `0.00` for all classification metrics – completely missed by the model."
   ]
  },
  {
   "cell_type": "code",
   "execution_count": 82,
   "id": "361f6a0b-c1b6-43ed-8945-7bf85212b1f4",
   "metadata": {},
   "outputs": [],
   "source": [
    "y_test_cat = to_categorical(y_test, num_classes=num_classes)"
   ]
  },
  {
   "cell_type": "code",
   "execution_count": 83,
   "id": "fea0e631-0135-4cca-8365-e27a637d9b47",
   "metadata": {},
   "outputs": [
    {
     "name": "stdout",
     "output_type": "stream",
     "text": [
      "Class inside AUC: 0.868\n",
      "Class outside AUC: 0.801\n",
      "Class drink AUC: 0.788\n",
      "Class food AUC: 0.897\n",
      "Class menu AUC: 0.726\n"
     ]
    }
   ],
   "source": [
    "auc_scores = []\n",
    "for i in range(num_classes):\n",
    "    try:\n",
    "        auc = roc_auc_score(y_test_cat[:, i], y_pred_probs[:, i])\n",
    "    except:\n",
    "        auc = None\n",
    "    auc_scores.append(auc)\n",
    "    print(f\"Class {list(label_dict.keys())[i]} AUC: {auc:.3f}\" if auc is not None else f\"Class {list(label_dict.keys())[i]} AUC: N/A\")"
   ]
  },
  {
   "cell_type": "markdown",
   "id": "ad9a9016-9495-4f78-a62e-0b60e11eda22",
   "metadata": {},
   "source": [
    "### 📈 AUC per Class\n",
    "- Strong AUC values for all classes, especially:\n",
    "  - `Food: 0.897`, `Inside: 0.868`, `Outside: 0.801`, `Drink: 0.788`\n",
    "  - **Menu still low** at `0.726`, reinforcing detection difficulty.\n",
    "---"
   ]
  },
  {
   "cell_type": "code",
   "execution_count": 84,
   "id": "bddc87df-fc23-443e-9847-6f1b4f192cea",
   "metadata": {},
   "outputs": [],
   "source": [
    "logloss = log_loss(y_test, y_pred_probs)\n",
    "balanced_acc = balanced_accuracy_score(y_test, y_pred)\n",
    "kappa = cohen_kappa_score(y_test, y_pred)\n",
    "mcc = matthews_corrcoef(y_test, y_pred)\n",
    "macro_f1 = f1_score(y_test, y_pred, average='macro')\n",
    "weighted_f1 = f1_score(y_test, y_pred, average='weighted')\n",
    "macro_recall = recall_score(y_test, y_pred, average='macro')\n",
    "macro_precision = precision_score(y_test, y_pred, average='macro')"
   ]
  },
  {
   "cell_type": "code",
   "execution_count": 85,
   "id": "422c35e0-54cd-4fd5-aa8a-cff43964b587",
   "metadata": {},
   "outputs": [
    {
     "name": "stdout",
     "output_type": "stream",
     "text": [
      "Class inside Specificity: 0.852\n",
      "Class outside Specificity: 0.958\n",
      "Class drink Specificity: 0.956\n",
      "Class food Specificity: 0.768\n",
      "Class menu Specificity: 0.999\n"
     ]
    }
   ],
   "source": [
    "specificity_per_class = []\n",
    "for i in range(num_classes):\n",
    "    tn = np.sum((y_test != i) & (y_pred != i))\n",
    "    fp = np.sum((y_test != i) & (y_pred == i))\n",
    "    specificity = tn / (tn + fp) if (tn + fp) > 0 else 0\n",
    "    specificity_per_class.append(specificity)\n",
    "    print(f\"Class {list(label_dict.keys())[i]} Specificity: {specificity:.3f}\")"
   ]
  },
  {
   "cell_type": "markdown",
   "id": "95f08fc6-ffa2-45db-ab92-254f08894ce3",
   "metadata": {},
   "source": [
    "### ✔️ Specificity per Class\n",
    "- Specificity remains high for all classes:\n",
    "  - `Inside: 0.852`, `Outside: 0.958`, `Drink: 0.956`, `Food: 0.768`, `Menu: 0.999`\n",
    "- High specificity but low recall for 'menu' means the model **rarely predicts it**, even when it's correct.\n",
    "\n",
    "---"
   ]
  },
  {
   "cell_type": "code",
   "execution_count": 86,
   "id": "6fca58d3-08c1-4375-8d65-c25755acf900",
   "metadata": {},
   "outputs": [
    {
     "name": "stdout",
     "output_type": "stream",
     "text": [
      "Log Loss: 1.1320\n",
      "Balanced Accuracy: 0.4354\n",
      "Cohen's Kappa: 0.5108\n",
      "Matthews Correlation Coefficient: 0.5120\n",
      "Macro F1-Score: 0.4416\n",
      "Weighted F1-Score: 0.6958\n",
      "Macro Recall (Sensitivity): 0.4354\n",
      "Macro Precision: 0.4536\n"
     ]
    }
   ],
   "source": [
    "print(f\"Log Loss: {logloss:.4f}\")\n",
    "print(f\"Balanced Accuracy: {balanced_acc:.4f}\")\n",
    "print(f\"Cohen's Kappa: {kappa:.4f}\")\n",
    "print(f\"Matthews Correlation Coefficient: {mcc:.4f}\")\n",
    "print(f\"Macro F1-Score: {macro_f1:.4f}\")\n",
    "print(f\"Weighted F1-Score: {weighted_f1:.4f}\")\n",
    "print(f\"Macro Recall (Sensitivity): {macro_recall:.4f}\")\n",
    "print(f\"Macro Precision: {macro_precision:.4f}\")"
   ]
  },
  {
   "cell_type": "markdown",
   "id": "fa1facd8-a293-4b6b-a50b-bebac57e0397",
   "metadata": {},
   "source": [
    "### 📊 Advanced Metrics\n",
    "- **Log Loss**: `1.1320` – Improved compared to Round 1 (`1.9876`), indicating better probability calibration.\n",
    "- **Balanced Accuracy**: `0.4354` – Slight improvement over Round 1 (`0.4112`).\n",
    "- **Cohen’s Kappa**: `0.5108`, **MCC**: `0.5120` – Moderate agreement, better than previous round.\n",
    "- **Macro F1-score**: `0.4416`, **Weighted F1-score**: `0.6958` – Improvement in balanced performance.\n",
    "- **Macro Recall**: `0.4354`, **Macro Precision**: `0.4536` – Better ability to recognize minority classes, though still limited.\n",
    "---"
   ]
  },
  {
   "cell_type": "markdown",
   "id": "92ca343c-56a1-448e-8d50-d0f00f0ed68f",
   "metadata": {},
   "source": [
    "## 📌 Summary – Round 2\n",
    "\n",
    "- **Test accuracy increased** slightly, and log loss decreased significantly – indicating better calibration and improved overall performance.\n",
    "- **Model still favors majority class ('food')**, but shows **incremental improvements** in minority class handling.\n",
    "- **Menu class is still completely missed**, suggesting a serious issue with either label representation or model attention.\n",
    "- **Confusion remains** among the intermediate classes like 'inside', 'outside', and 'drink'.\n",
    "- **Advanced metrics (Kappa, MCC)** show consistent moderate agreement, better than Round 1.\n",
    "- Improvements likely stem from changes in training, data augmentation, or optimization."
   ]
  },
  {
   "cell_type": "markdown",
   "id": "5b4d282b",
   "metadata": {},
   "source": [
    "### ✅ Recommendation\n",
    "- Further improvement may require:\n",
    "  - **Class balancing techniques** (oversampling/undersampling, SMOTE)\n",
    "  - **Focal Loss** or **class-weighted loss functions**\n",
    "  - **Data augmentation** for underrepresented classes\n",
    "  - **Model ensembling** or architecture tuning\n",
    "  - **Error analysis** on 'menu' class to ensure proper data quality and representation"
   ]
  },
  {
   "cell_type": "markdown",
   "id": "38929d2a-006d-48f3-b742-4ef5bc419274",
   "metadata": {},
   "source": [
    "### Round 3"
   ]
  },
  {
   "cell_type": "code",
   "execution_count": 98,
   "id": "a515575a-fded-448e-938b-ba571def624b",
   "metadata": {},
   "outputs": [
    {
     "name": "stdout",
     "output_type": "stream",
     "text": [
      "\n",
      "=== Round 3: Add BatchNorm and Data Augmentation ===\n"
     ]
    }
   ],
   "source": [
    "print(\"\\n=== Round 3: Add BatchNorm and Data Augmentation ===\")\n",
    "datagen = ImageDataGenerator(\n",
    "    rotation_range=15,\n",
    "    width_shift_range=0.1,\n",
    "    height_shift_range=0.1,\n",
    "    horizontal_flip=True,\n",
    "    zoom_range=0.1\n",
    ")"
   ]
  },
  {
   "cell_type": "code",
   "execution_count": 104,
   "id": "d144a2a4-28eb-4135-a7c0-5fe020fdd94a",
   "metadata": {},
   "outputs": [],
   "source": [
    "# Build model with BatchNormalization\n",
    "model = tf.keras.Sequential([\n",
    "    tf.keras.layers.Input(shape=input_shape),\n",
    "    tf.keras.layers.Conv2D(32, (3, 3), activation='relu'),\n",
    "    BatchNormalization(),\n",
    "    tf.keras.layers.MaxPooling2D((2, 2)),\n",
    "    tf.keras.layers.Conv2D(64, (3, 3), activation='relu'),\n",
    "    BatchNormalization(),\n",
    "    tf.keras.layers.MaxPooling2D((2, 2)),\n",
    "    tf.keras.layers.Conv2D(128, (3, 3), activation='relu'),\n",
    "    BatchNormalization(),\n",
    "    tf.keras.layers.Flatten(),\n",
    "    tf.keras.layers.Dense(128, activation='relu'),\n",
    "    BatchNormalization(),\n",
    "    tf.keras.layers.Dropout(0.5),\n",
    "    tf.keras.layers.Dense(num_classes, activation='softmax')\n",
    "])"
   ]
  },
  {
   "cell_type": "code",
   "execution_count": 106,
   "id": "ea7e25bc-b9a6-4d4b-bbf4-7ac6e678bc23",
   "metadata": {},
   "outputs": [],
   "source": [
    "optimizer = tf.keras.optimizers.Adam(learning_rate=0.0003)\n",
    "model.compile(optimizer=optimizer,loss='sparse_categorical_crossentropy',metrics=['accuracy',tf.keras.metrics.SparseTopKCategoricalAccuracy(k=3)])"
   ]
  },
  {
   "cell_type": "code",
   "execution_count": 108,
   "id": "0ace8fd6-43e1-4fab-91c3-89e52576e6b8",
   "metadata": {
    "scrolled": true
   },
   "outputs": [
    {
     "name": "stdout",
     "output_type": "stream",
     "text": [
      "Epoch 1/20\n"
     ]
    },
    {
     "name": "stderr",
     "output_type": "stream",
     "text": [
      "C:\\Users\\srida\\Anaconda\\Lib\\site-packages\\keras\\src\\trainers\\data_adapters\\py_dataset_adapter.py:122: UserWarning: Your `PyDataset` class should call `super().__init__(**kwargs)` in its constructor. `**kwargs` can include `workers`, `use_multiprocessing`, `max_queue_size`. Do not pass these arguments to `fit()`, as they will be ignored.\n",
      "  self._warn_if_super_not_called()\n"
     ]
    },
    {
     "name": "stdout",
     "output_type": "stream",
     "text": [
      "234/234 - 18s - 78ms/step - accuracy: 0.4111 - loss: 1.8600 - sparse_top_k_categorical_accuracy: 0.7500 - val_accuracy: 0.2512 - val_loss: 1.6676 - val_sparse_top_k_categorical_accuracy: 0.7167\n",
      "Epoch 2/20\n",
      "234/234 - 14s - 60ms/step - accuracy: 0.5669 - loss: 1.2985 - sparse_top_k_categorical_accuracy: 0.8493 - val_accuracy: 0.5142 - val_loss: 1.4770 - val_sparse_top_k_categorical_accuracy: 0.8056\n",
      "Epoch 3/20\n",
      "234/234 - 15s - 63ms/step - accuracy: 0.6430 - loss: 1.0892 - sparse_top_k_categorical_accuracy: 0.8910 - val_accuracy: 0.6540 - val_loss: 1.0899 - val_sparse_top_k_categorical_accuracy: 0.8848\n",
      "Epoch 4/20\n",
      "234/234 - 14s - 62ms/step - accuracy: 0.6697 - loss: 0.9860 - sparse_top_k_categorical_accuracy: 0.9112 - val_accuracy: 0.6079 - val_loss: 1.2801 - val_sparse_top_k_categorical_accuracy: 0.8243\n",
      "Epoch 5/20\n",
      "234/234 - 14s - 60ms/step - accuracy: 0.6952 - loss: 0.9012 - sparse_top_k_categorical_accuracy: 0.9274 - val_accuracy: 0.7450 - val_loss: 0.7949 - val_sparse_top_k_categorical_accuracy: 0.9341\n",
      "Epoch 6/20\n",
      "234/234 - 14s - 59ms/step - accuracy: 0.7023 - loss: 0.8653 - sparse_top_k_categorical_accuracy: 0.9309 - val_accuracy: 0.4730 - val_loss: 2.2359 - val_sparse_top_k_categorical_accuracy: 0.6974\n",
      "Epoch 7/20\n",
      "234/234 - 14s - 60ms/step - accuracy: 0.7210 - loss: 0.8149 - sparse_top_k_categorical_accuracy: 0.9446 - val_accuracy: 0.5897 - val_loss: 1.5218 - val_sparse_top_k_categorical_accuracy: 0.8666\n",
      "Epoch 8/20\n",
      "234/234 - 14s - 59ms/step - accuracy: 0.7312 - loss: 0.7760 - sparse_top_k_categorical_accuracy: 0.9425 - val_accuracy: 0.6315 - val_loss: 1.2099 - val_sparse_top_k_categorical_accuracy: 0.9288\n",
      "Epoch 9/20\n",
      "234/234 - 15s - 63ms/step - accuracy: 0.7406 - loss: 0.7375 - sparse_top_k_categorical_accuracy: 0.9504 - val_accuracy: 0.7702 - val_loss: 0.6891 - val_sparse_top_k_categorical_accuracy: 0.9486\n",
      "Epoch 10/20\n",
      "234/234 - 14s - 59ms/step - accuracy: 0.7477 - loss: 0.7095 - sparse_top_k_categorical_accuracy: 0.9573 - val_accuracy: 0.7065 - val_loss: 0.8747 - val_sparse_top_k_categorical_accuracy: 0.9443\n",
      "Epoch 11/20\n",
      "234/234 - 13s - 57ms/step - accuracy: 0.7592 - loss: 0.6887 - sparse_top_k_categorical_accuracy: 0.9597 - val_accuracy: 0.7799 - val_loss: 0.6651 - val_sparse_top_k_categorical_accuracy: 0.9539\n",
      "Epoch 12/20\n",
      "234/234 - 13s - 56ms/step - accuracy: 0.7577 - loss: 0.6892 - sparse_top_k_categorical_accuracy: 0.9601 - val_accuracy: 0.7670 - val_loss: 0.6720 - val_sparse_top_k_categorical_accuracy: 0.9539\n",
      "Epoch 13/20\n",
      "234/234 - 13s - 57ms/step - accuracy: 0.7604 - loss: 0.6696 - sparse_top_k_categorical_accuracy: 0.9642 - val_accuracy: 0.8007 - val_loss: 0.6151 - val_sparse_top_k_categorical_accuracy: 0.9598\n",
      "Epoch 14/20\n",
      "234/234 - 14s - 58ms/step - accuracy: 0.7650 - loss: 0.6610 - sparse_top_k_categorical_accuracy: 0.9605 - val_accuracy: 0.7858 - val_loss: 0.6673 - val_sparse_top_k_categorical_accuracy: 0.9523\n",
      "Epoch 15/20\n",
      "234/234 - 13s - 58ms/step - accuracy: 0.7706 - loss: 0.6421 - sparse_top_k_categorical_accuracy: 0.9649 - val_accuracy: 0.7659 - val_loss: 0.6791 - val_sparse_top_k_categorical_accuracy: 0.9604\n",
      "Epoch 16/20\n",
      "234/234 - 15s - 66ms/step - accuracy: 0.7722 - loss: 0.6367 - sparse_top_k_categorical_accuracy: 0.9648 - val_accuracy: 0.7761 - val_loss: 0.6662 - val_sparse_top_k_categorical_accuracy: 0.9534\n",
      "Epoch 17/20\n",
      "234/234 - 15s - 63ms/step - accuracy: 0.7789 - loss: 0.6220 - sparse_top_k_categorical_accuracy: 0.9669 - val_accuracy: 0.7279 - val_loss: 0.7851 - val_sparse_top_k_categorical_accuracy: 0.9363\n",
      "Epoch 18/20\n",
      "234/234 - 14s - 59ms/step - accuracy: 0.7806 - loss: 0.6080 - sparse_top_k_categorical_accuracy: 0.9715 - val_accuracy: 0.7815 - val_loss: 0.6458 - val_sparse_top_k_categorical_accuracy: 0.9593\n",
      "Epoch 19/20\n",
      "234/234 - 13s - 58ms/step - accuracy: 0.7808 - loss: 0.6114 - sparse_top_k_categorical_accuracy: 0.9688 - val_accuracy: 0.7868 - val_loss: 0.6363 - val_sparse_top_k_categorical_accuracy: 0.9588\n",
      "Epoch 20/20\n",
      "234/234 - 15s - 64ms/step - accuracy: 0.7930 - loss: 0.5869 - sparse_top_k_categorical_accuracy: 0.9715 - val_accuracy: 0.7574 - val_loss: 0.6911 - val_sparse_top_k_categorical_accuracy: 0.9529\n"
     ]
    }
   ],
   "source": [
    "history = model.fit(\n",
    "    datagen.flow(X_train, y_train, batch_size=32),\n",
    "    epochs=20,\n",
    "    validation_data=(X_test, y_test),\n",
    "    verbose=2)"
   ]
  },
  {
   "cell_type": "code",
   "execution_count": 109,
   "id": "a178ec7f-8119-457f-9804-4ab5969e282a",
   "metadata": {},
   "outputs": [
    {
     "name": "stdout",
     "output_type": "stream",
     "text": [
      "Round 3 Test Accuracy: 0.7574\n",
      "Round 3 Test Top-3 Accuracy: 0.9529\n"
     ]
    }
   ],
   "source": [
    "test_loss, test_acc, test_top3_acc = model.evaluate(X_test, y_test, verbose=0)\n",
    "print(f\"Round 3 Test Accuracy: {test_acc:.4f}\")\n",
    "print(f\"Round 3 Test Top-3 Accuracy: {test_top3_acc:.4f}\")"
   ]
  },
  {
   "cell_type": "markdown",
   "id": "61d306b2-fbce-4ae2-8b88-07b998264510",
   "metadata": {},
   "source": [
    "---"
   ]
  },
  {
   "cell_type": "markdown",
   "id": "ecf610bc-14e6-4d9d-b36e-abf9d183815b",
   "metadata": {},
   "source": [
    "## 🔍 Observations\n",
    "\n",
    "### 🧪 Model Performance\n",
    "- **Test Accuracy**: `75.74%` – Strong improvement over Round 2 (`70.76%`) and Round 1 (`68.7%`).\n",
    "- **Top-3 Accuracy**: `95.29%` – Remains high and reliable."
   ]
  },
  {
   "cell_type": "code",
   "execution_count": 110,
   "id": "cc2b92e9-9731-4695-876d-4fcd123a958c",
   "metadata": {},
   "outputs": [
    {
     "name": "stdout",
     "output_type": "stream",
     "text": [
      "\u001b[1m59/59\u001b[0m \u001b[32m━━━━━━━━━━━━━━━━━━━━\u001b[0m\u001b[37m\u001b[0m \u001b[1m1s\u001b[0m 13ms/step\n"
     ]
    }
   ],
   "source": [
    "y_pred_probs = model.predict(X_test)\n",
    "y_pred = np.argmax(y_pred_probs, axis=1)"
   ]
  },
  {
   "cell_type": "code",
   "execution_count": 111,
   "id": "98d41df2-decb-4980-be5b-6f16c80e9468",
   "metadata": {},
   "outputs": [
    {
     "name": "stdout",
     "output_type": "stream",
     "text": [
      "Confusion Matrix:\n",
      "[[478  18   4  17   1]\n",
      " [105  54   0  16   0]\n",
      " [ 66  11  36  30   2]\n",
      " [145  15   5 845   0]\n",
      " [ 16   0   0   2   1]]\n"
     ]
    }
   ],
   "source": [
    "cm = confusion_matrix(y_test, y_pred)\n",
    "print(\"Confusion Matrix:\")\n",
    "print(cm)"
   ]
  },
  {
   "cell_type": "markdown",
   "id": "ea22edb4-7442-4f23-9a9b-58d1c18ff68f",
   "metadata": {},
   "source": [
    "### 🧾 Confusion Matrix Insights\n",
    "- **High recall for 'inside'** – only 40 misclassified out of 518.\n",
    "- **'Outside' and 'Drink'** classes often confused with 'inside' and 'food'.\n",
    "- **'Menu'** still largely misclassified but slightly better than before – now has a few correct predictions.\n",
    "\n",
    "---"
   ]
  },
  {
   "cell_type": "code",
   "execution_count": 112,
   "id": "1a318c15-e1fa-4e84-b591-0717d186be14",
   "metadata": {},
   "outputs": [
    {
     "name": "stdout",
     "output_type": "stream",
     "text": [
      "Classification Report:\n",
      "              precision    recall  f1-score   support\n",
      "\n",
      "      inside       0.59      0.92      0.72       518\n",
      "     outside       0.55      0.31      0.40       175\n",
      "       drink       0.80      0.25      0.38       145\n",
      "        food       0.93      0.84      0.88      1010\n",
      "        menu       0.25      0.05      0.09        19\n",
      "\n",
      "    accuracy                           0.76      1867\n",
      "   macro avg       0.62      0.47      0.49      1867\n",
      "weighted avg       0.78      0.76      0.74      1867\n",
      "\n"
     ]
    }
   ],
   "source": [
    "print(\"Classification Report:\")\n",
    "print(classification_report(y_test, y_pred, target_names=list(label_dict.keys())))"
   ]
  },
  {
   "cell_type": "markdown",
   "id": "df78d12c-1102-45a4-96cc-34f0b843bfa0",
   "metadata": {},
   "source": [
    "### 📉 Class-wise Performance\n",
    "- **'Food'** class continues to dominate:\n",
    "  - `Precision: 0.93`, `Recall: 0.84`, `F1-score: 0.88`\n",
    "- **'Inside'** shows major improvement:\n",
    "  - `Recall: 0.92`, `F1-score: 0.72` – much better than in previous rounds.\n",
    "- **'Outside'** and **'Drink'** still underperform on recall (`0.31` and `0.25`), with low F1-scores (`0.40` and `0.38`).\n",
    "- **'Menu'** now has non-zero predictions:\n",
    "  - `Precision: 0.25`, `Recall: 0.05`, `F1-score: 0.09` – slight progress from 0.00 in previous rounds.\n",
    "\n",
    "---"
   ]
  },
  {
   "cell_type": "code",
   "execution_count": 113,
   "id": "481ff2d4-2722-40d6-ba8d-ed128188e622",
   "metadata": {},
   "outputs": [],
   "source": [
    "y_test_cat = to_categorical(y_test, num_classes=num_classes)"
   ]
  },
  {
   "cell_type": "code",
   "execution_count": 114,
   "id": "e3e65d0a-d370-4e10-b79e-a465e7fa3dab",
   "metadata": {},
   "outputs": [
    {
     "name": "stdout",
     "output_type": "stream",
     "text": [
      "Class inside AUC: 0.925\n",
      "Class outside AUC: 0.869\n",
      "Class drink AUC: 0.870\n",
      "Class food AUC: 0.956\n",
      "Class menu AUC: 0.879\n"
     ]
    }
   ],
   "source": [
    "auc_scores = []\n",
    "for i in range(num_classes):\n",
    "    try:\n",
    "        auc = roc_auc_score(y_test_cat[:, i], y_pred_probs[:, i])\n",
    "    except:\n",
    "        auc = None\n",
    "    auc_scores.append(auc)\n",
    "    print(f\"Class {list(label_dict.keys())[i]} AUC: {auc:.3f}\" if auc is not None else f\"Class {list(label_dict.keys())[i]} AUC: N/A\")"
   ]
  },
  {
   "cell_type": "markdown",
   "id": "b43bb17d-bb18-4b09-83d5-1ab28f5880fb",
   "metadata": {},
   "source": [
    "### 📈 AUC per Class\n",
    "- All classes show strong AUC:\n",
    "  - `Food: 0.956`, `Inside: 0.925`, `Drink: 0.870`, `Outside: 0.869`, `Menu: 0.879`\n",
    "- Notable jump in **'menu'** AUC from Round 2 (`0.726` to `0.879`) – indicates improved ranking even if raw classification remains weak.\n",
    "\n",
    "---"
   ]
  },
  {
   "cell_type": "code",
   "execution_count": 115,
   "id": "41ffa429-809e-4501-b6ee-9313e087412b",
   "metadata": {},
   "outputs": [],
   "source": [
    "logloss = log_loss(y_test, y_pred_probs)\n",
    "balanced_acc = balanced_accuracy_score(y_test, y_pred)\n",
    "kappa = cohen_kappa_score(y_test, y_pred)\n",
    "mcc = matthews_corrcoef(y_test, y_pred)\n",
    "macro_f1 = f1_score(y_test, y_pred, average='macro')\n",
    "weighted_f1 = f1_score(y_test, y_pred, average='weighted')\n",
    "macro_recall = recall_score(y_test, y_pred, average='macro')\n",
    "macro_precision = precision_score(y_test, y_pred, average='macro')"
   ]
  },
  {
   "cell_type": "code",
   "execution_count": 116,
   "id": "14c42b08-4e28-4a31-936c-a7ff491dcc14",
   "metadata": {},
   "outputs": [
    {
     "name": "stdout",
     "output_type": "stream",
     "text": [
      "Class inside Specificity: 0.754\n",
      "Class outside Specificity: 0.974\n",
      "Class drink Specificity: 0.995\n",
      "Class food Specificity: 0.924\n",
      "Class menu Specificity: 0.998\n"
     ]
    }
   ],
   "source": [
    "specificity_per_class = []\n",
    "\n",
    "for i in range(num_classes):\n",
    "    tn = np.sum((y_test != i) & (y_pred != i))\n",
    "    fp = np.sum((y_test != i) & (y_pred == i))\n",
    "    specificity = tn / (tn + fp) if (tn + fp) > 0 else 0\n",
    "    specificity_per_class.append(specificity)\n",
    "    print(f\"Class {list(label_dict.keys())[i]} Specificity: {specificity:.3f}\")"
   ]
  },
  {
   "cell_type": "markdown",
   "id": "bf1667ab-bb4b-40ce-8520-74d9c1ba6cda",
   "metadata": {},
   "source": [
    "### ✔️ Specificity per Class\n",
    "- Specificity remains high across the board:\n",
    "  - `Inside: 0.754`, `Outside: 0.974`, `Drink: 0.995`, `Food: 0.924`, `Menu: 0.998`\n",
    "- **Very high specificity for 'drink' and 'menu'**, suggesting model is still cautious about predicting them.\n",
    "\n",
    "---"
   ]
  },
  {
   "cell_type": "code",
   "execution_count": 117,
   "id": "0b23d5c1-9e4d-4399-99cc-6f43d9125bc5",
   "metadata": {},
   "outputs": [
    {
     "name": "stdout",
     "output_type": "stream",
     "text": [
      "Log Loss: 0.6911\n",
      "Balanced Accuracy: 0.4738\n",
      "Cohen's Kappa: 0.6017\n",
      "Matthews Correlation Coefficient: 0.6183\n",
      "Macro F1-Score: 0.4923\n",
      "Weighted F1-Score: 0.7433\n",
      "Macro Recall (Sensitivity): 0.4738\n",
      "Macro Precision: 0.6239\n"
     ]
    }
   ],
   "source": [
    "print(f\"Log Loss: {logloss:.4f}\")\n",
    "print(f\"Balanced Accuracy: {balanced_acc:.4f}\")\n",
    "print(f\"Cohen's Kappa: {kappa:.4f}\")\n",
    "print(f\"Matthews Correlation Coefficient: {mcc:.4f}\")\n",
    "print(f\"Macro F1-Score: {macro_f1:.4f}\")\n",
    "print(f\"Weighted F1-Score: {weighted_f1:.4f}\")\n",
    "print(f\"Macro Recall (Sensitivity): {macro_recall:.4f}\")\n",
    "print(f\"Macro Precision: {macro_precision:.4f}\")"
   ]
  },
  {
   "cell_type": "markdown",
   "id": "812b0305-9798-488e-8075-b4fc9609450d",
   "metadata": {},
   "source": [
    "### 📊 Advanced Metrics\n",
    "- **Log Loss**: `0.6911` – Significant improvement from Round 2 (`1.1320`) and Round 1 (`1.9876`), indicating better confidence calibration.\n",
    "- **Balanced Accuracy**: `0.4738` – Best so far across all rounds.\n",
    "- **Cohen’s Kappa**: `0.6017`, **MCC**: `0.6183` – Indicates strong agreement and correlation.\n",
    "- **Macro F1-score**: `0.4923`, **Weighted F1-score**: `0.7433` – Clear improvement, especially in class balance.\n",
    "- **Macro Recall**: `0.4738`, **Macro Precision**: `0.6239` – Highest recall and precision among all rounds.\n",
    "---\n",
    "\n",
    "## 📌 Summary – Round 3\n",
    "\n",
    "- **Best round so far** in nearly all metrics: accuracy, F1-score, log loss, and calibration.\n",
    "- **'Inside' class performance significantly improved**, likely due to better feature learning or data balance.\n",
    "- **'Food' class remains the most confidently and accurately predicted.**\n",
    "- **'Menu' class still underperforms**, but is finally detected with non-zero recall and a much-improved AUC.\n",
    "- **Class imbalance persists**, though the model is becoming more robust and confident across classes."
   ]
  },
  {
   "cell_type": "markdown",
   "id": "393c7039",
   "metadata": {},
   "source": [
    "### ✅ Recommendation\n",
    "- Maintain this current training setup and fine-tune further for minority classes:\n",
    "  - Use targeted **data augmentation** for 'menu', 'outside', 'drink'\n",
    "  - Experiment with **cost-sensitive loss** or **oversampling** the minority classes\n",
    "  - Consider ensembling or **multi-head architectures** to balance precision/recall trade-offs\n",
    "  - Use **calibration tools** like Platt scaling or isotonic regression for further log loss improvements"
   ]
  }
 ],
 "metadata": {
  "kernelspec": {
   "display_name": "Python 3 (ipykernel)",
   "language": "python",
   "name": "python3"
  },
  "language_info": {
   "codemirror_mode": {
    "name": "ipython",
    "version": 3
   },
   "file_extension": ".py",
   "mimetype": "text/x-python",
   "name": "python",
   "nbconvert_exporter": "python",
   "pygments_lexer": "ipython3",
   "version": "3.12.4"
  }
 },
 "nbformat": 4,
 "nbformat_minor": 5
}
